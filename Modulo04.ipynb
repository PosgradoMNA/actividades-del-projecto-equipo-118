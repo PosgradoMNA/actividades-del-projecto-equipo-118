{
  "nbformat": 4,
  "nbformat_minor": 0,
  "metadata": {
    "colab": {
      "provenance": [],
      "collapsed_sections": [],
      "authorship_tag": "ABX9TyNXE57QsT8WvvitiJIs2z4J",
      "include_colab_link": true
    },
    "kernelspec": {
      "name": "python3",
      "display_name": "Python 3"
    },
    "language_info": {
      "name": "python"
    }
  },
  "cells": [
    {
      "cell_type": "markdown",
      "metadata": {
        "id": "view-in-github",
        "colab_type": "text"
      },
      "source": [
        "<a href=\"https://colab.research.google.com/github/PosgradoMNA/actividades-del-projecto-equipo-118/blob/main/Modulo04.ipynb\" target=\"_parent\"><img src=\"https://colab.research.google.com/assets/colab-badge.svg\" alt=\"Open In Colab\"/></a>"
      ]
    },
    {
      "cell_type": "markdown",
      "source": [
        "**TRABAJANDO CON DATA EN PYTHON**\n",
        "\n",
        "**Open**: Es una funcion utilizada para abrir archivos\n",
        "\n",
        "**Name**: Se utiliza para saber el nombre del archivo\n",
        "\n",
        "**Mode**: Se utiliza para saber el modo utilizado. w=write , r=read\n",
        "\n",
        "**Closed**: Funcion para cerrar el archivo despues de utilizarlo"
      ],
      "metadata": {
        "id": "XDOsSBqGDYuP"
      }
    },
    {
      "cell_type": "markdown",
      "source": [
        "**--LABORATORIO 1: LEER ARCHIVOS--**"
      ],
      "metadata": {
        "id": "BG5YD7jiDg31"
      }
    },
    {
      "cell_type": "code",
      "source": [
        "!pip install piplite"
      ],
      "metadata": {
        "id": "BFP9JZY0mcbE"
      },
      "execution_count": null,
      "outputs": []
    },
    {
      "cell_type": "code",
      "source": [
        "!pip install pyodide.http"
      ],
      "metadata": {
        "id": "qa5HUCinoRfT"
      },
      "execution_count": null,
      "outputs": []
    },
    {
      "cell_type": "code",
      "execution_count": null,
      "metadata": {
        "id": "rORLESwIc7bB"
      },
      "outputs": [],
      "source": [
        "#Ejemplo 1: Lectura de Archivos\n",
        "import pandas as pd\n",
        "Archivo = pd.read_csv('Example1.txt') #Se utiliza la funcion read para leer el archivo txt\n",
        "\n",
        "example1 = \"Example1.txt\" #Se asigna el valor de el archivo en una variable\n",
        "file1 = open(example1, \"r\") #abre el archivo en modo lectura"
      ]
    },
    {
      "cell_type": "code",
      "source": [
        "#Se imprimir el name del archivo y modo que se esta utilizando\n",
        "print(file1.name)\n",
        "print(file1.mode)"
      ],
      "metadata": {
        "colab": {
          "base_uri": "https://localhost:8080/"
        },
        "id": "qjMMo7cx_cik",
        "outputId": "4be48024-171d-4d12-dcf8-730974c8d93f"
      },
      "execution_count": null,
      "outputs": [
        {
          "output_type": "stream",
          "name": "stdout",
          "text": [
            "Example1.txt\n",
            "r\n"
          ]
        }
      ]
    },
    {
      "cell_type": "code",
      "source": [
        "#read\n",
        "FileContent = file1.read()\n",
        "FileContent"
      ],
      "metadata": {
        "colab": {
          "base_uri": "https://localhost:8080/",
          "height": 36
        },
        "id": "dRBzPvZVIG4e",
        "outputId": "e9341bb4-4994-4fd2-ab6d-21442705e337"
      },
      "execution_count": null,
      "outputs": [
        {
          "output_type": "execute_result",
          "data": {
            "text/plain": [
              "'This is line 1 \\nThis is line 2\\nThis is line 3'"
            ],
            "application/vnd.google.colaboratory.intrinsic+json": {
              "type": "string"
            }
          },
          "metadata": {},
          "execution_count": 77
        }
      ]
    },
    {
      "cell_type": "markdown",
      "source": [
        "**\\n**: Significa cambio de linea."
      ],
      "metadata": {
        "id": "O_YWRMN9NB3G"
      }
    },
    {
      "cell_type": "code",
      "source": [
        "#Imprrersion del contenido, al imprimir automaticamente toma el \\n como brinco de linea\n",
        "print(FileContent)"
      ],
      "metadata": {
        "colab": {
          "base_uri": "https://localhost:8080/"
        },
        "id": "JdiXI0tSNBC-",
        "outputId": "69fe36a1-1c6b-46d5-8c4b-55bed2188faf"
      },
      "execution_count": null,
      "outputs": [
        {
          "output_type": "stream",
          "name": "stdout",
          "text": [
            "This is line 1 \n",
            "This is line 2\n",
            "This is line 3\n"
          ]
        }
      ]
    },
    {
      "cell_type": "code",
      "source": [
        "#Impresion del tipo de contenido\n",
        "print(type(FileContent))\n",
        "#Se cierra el archivo\n",
        "file1.close()"
      ],
      "metadata": {
        "colab": {
          "base_uri": "https://localhost:8080/"
        },
        "id": "4m8HM39ROPuk",
        "outputId": "52673f96-2995-4243-cfb8-c509b3c3ba6d"
      },
      "execution_count": null,
      "outputs": [
        {
          "output_type": "stream",
          "name": "stdout",
          "text": [
            "<class 'str'>\n"
          ]
        }
      ]
    },
    {
      "cell_type": "markdown",
      "source": [
        "**WITH**\n",
        "\n",
        "Usar la declaración with es una mejor práctica, cierra automáticamente el archivo incluso si el código encuentra una excepción. El código ejecutará todo en el bloque y luego cerrará el objeto de archivo."
      ],
      "metadata": {
        "id": "Ggsp32KLQETK"
      }
    },
    {
      "cell_type": "code",
      "source": [
        "#Ejemplo 2: Lectura de Archivos\n",
        "with open(example1, \"r\") as file1: #Los archivos tambien se pueden abrir usando with\n",
        "    FileContent = file1.read()\n",
        "    print(FileContent)"
      ],
      "metadata": {
        "colab": {
          "base_uri": "https://localhost:8080/"
        },
        "id": "4_FdWvZNOt11",
        "outputId": "fcf19aae-afc6-47d2-e696-bb1dccbfa3a7"
      },
      "execution_count": null,
      "outputs": [
        {
          "output_type": "stream",
          "name": "stdout",
          "text": [
            "This is line 1 \n",
            "This is line 2\n",
            "This is line 3\n"
          ]
        }
      ]
    },
    {
      "cell_type": "code",
      "source": [
        "#La sentencia closed sirve para validar que el archivo se cerro correctamente\n",
        "print(file1.closed)\n",
        "\n",
        "#Como el contenido se almaceno en una variable podemos consultar su contenido imrpimiendo la variable\n",
        "print(FileContent)"
      ],
      "metadata": {
        "colab": {
          "base_uri": "https://localhost:8080/"
        },
        "id": "uBwyS_quQW6R",
        "outputId": "c2d0d702-c918-4ee6-95ec-fc159085fb11"
      },
      "execution_count": null,
      "outputs": [
        {
          "output_type": "stream",
          "name": "stdout",
          "text": [
            "True\n",
            "This is line 1 \n",
            "This is line 2\n",
            "This is line 3\n"
          ]
        }
      ]
    },
    {
      "cell_type": "code",
      "source": [
        "#No se necesitan leer necesariamente todas las lineas del file\n",
        "with open(example1, \"r\") as file1:\n",
        "    print(file1.read(4)) #Al poner un digito solo se leen hasta dicho caracteres"
      ],
      "metadata": {
        "colab": {
          "base_uri": "https://localhost:8080/"
        },
        "id": "mz2w7suZQ94B",
        "outputId": "2b7917c3-2ac0-4806-efe3-4b48ac6f92d6"
      },
      "execution_count": null,
      "outputs": [
        {
          "output_type": "stream",
          "name": "stdout",
          "text": [
            "This\n"
          ]
        }
      ]
    },
    {
      "cell_type": "markdown",
      "source": [
        "Una vez que se llama al método .read(n), se llaman los primeros n caracteres. Si volvemos a llamar al método, se llamarán los siguientes n caracteres. El resultado de la siguiente celda demostrará el proceso para diferentes entradas al método read():"
      ],
      "metadata": {
        "id": "ydvY1GWpU3md"
      }
    },
    {
      "cell_type": "code",
      "source": [
        "#Impresion de lineas especificas\n",
        "with open(example1, \"r\") as file1:\n",
        "    print(file1.read(4))\n",
        "    print(file1.read(4))\n",
        "    print(file1.read(7))\n",
        "    print(file1.read(15))"
      ],
      "metadata": {
        "colab": {
          "base_uri": "https://localhost:8080/"
        },
        "id": "B5u9DoSsUiFb",
        "outputId": "02094a91-8b6f-4b6b-e8e1-915824281f25"
      },
      "execution_count": null,
      "outputs": [
        {
          "output_type": "stream",
          "name": "stdout",
          "text": [
            "This\n",
            " is \n",
            "line 1 \n",
            "\n",
            "This is line 2\n"
          ]
        }
      ]
    },
    {
      "cell_type": "code",
      "source": [
        "#Ejercicio 2 de lineas especificas\n",
        "with open(example1, \"r\") as file1:\n",
        "    print(file1.read(16))\n",
        "    print(file1.read(5))\n",
        "    print(file1.read(9))"
      ],
      "metadata": {
        "colab": {
          "base_uri": "https://localhost:8080/"
        },
        "id": "b2isUud0VSJ6",
        "outputId": "8fbc0627-40fe-416e-d8da-36a522579534"
      },
      "execution_count": null,
      "outputs": [
        {
          "output_type": "stream",
          "name": "stdout",
          "text": [
            "This is line 1 \n",
            "\n",
            "This \n",
            "is line 2\n"
          ]
        }
      ]
    },
    {
      "cell_type": "code",
      "source": [
        "#Tambien se pueden leer lineas especificas del documento\n",
        "with open(example1, \"r\") as file1:\n",
        "    print(\"first line: \" + file1.readline()) #Se utiliza readlinea para leer una linea en especifico"
      ],
      "metadata": {
        "colab": {
          "base_uri": "https://localhost:8080/"
        },
        "id": "w1ONXW3pVaW5",
        "outputId": "9c08b702-8e20-4c4b-c771-ab7391ffc5b1"
      },
      "execution_count": null,
      "outputs": [
        {
          "output_type": "stream",
          "name": "stdout",
          "text": [
            "first line: This is line 1 \n",
            "\n"
          ]
        }
      ]
    },
    {
      "cell_type": "markdown",
      "source": [
        "También podemos pasar un argumento a readline() para especificar el número de caracteres que queremos leer. Sin embargo, a diferencia de read(), readline() solo puede leer una línea como máximo."
      ],
      "metadata": {
        "id": "Gs71Jy_PWfyY"
      }
    },
    {
      "cell_type": "code",
      "source": [
        "with open(example1, \"r\") as file1:\n",
        "    print(file1.readline(20)) # Soloi lee les caracteres dentro de la linea 1\n",
        "    print(file1.read(20)) # Regresa los siguientes 20 caracteres"
      ],
      "metadata": {
        "colab": {
          "base_uri": "https://localhost:8080/"
        },
        "id": "8UmKdVKlWq1_",
        "outputId": "55fca9fd-02aa-4c1c-ba0e-6c7abee1e583"
      },
      "execution_count": null,
      "outputs": [
        {
          "output_type": "stream",
          "name": "stdout",
          "text": [
            "This is line 1 \n",
            "\n",
            "This is line 2\n",
            "This \n"
          ]
        }
      ]
    },
    {
      "cell_type": "code",
      "source": [
        "#Podemos realizar iteraciones con with para imprimir linea por linea\n",
        "with open(example1,\"r\") as file1:\n",
        "        i = 0;\n",
        "        for line in file1:\n",
        "            print(\"Iteracion\", str(i), \": \", line) \n",
        "            i = i + 1"
      ],
      "metadata": {
        "colab": {
          "base_uri": "https://localhost:8080/"
        },
        "id": "G779bH5tW2uX",
        "outputId": "2ec94998-25da-4295-f731-1a52b67e1d14"
      },
      "execution_count": null,
      "outputs": [
        {
          "output_type": "stream",
          "name": "stdout",
          "text": [
            "Iteracion 0 :  This is line 1 \n",
            "\n",
            "Iteracion 1 :  This is line 2\n",
            "\n",
            "Iteracion 2 :  This is line 3\n"
          ]
        }
      ]
    },
    {
      "cell_type": "code",
      "source": [
        "#Ejercicio para leer todas las lineas y guardar en una lista\n",
        "with open(example1, \"r\") as file1:\n",
        "    FileasList = file1.readlines()\n",
        "\n",
        "print(FileasList)"
      ],
      "metadata": {
        "colab": {
          "base_uri": "https://localhost:8080/"
        },
        "id": "ladDPLL1XVsd",
        "outputId": "5bd74788-ce24-4abf-8036-c21985c112d7"
      },
      "execution_count": null,
      "outputs": [
        {
          "output_type": "stream",
          "name": "stdout",
          "text": [
            "['This is line 1 \\n', 'This is line 2\\n', 'This is line 3']\n"
          ]
        }
      ]
    },
    {
      "cell_type": "code",
      "source": [
        " #Imprimir la primera linea de la lista\n",
        "print(FileasList[0])\n",
        "#Imprimir la segunda linea de la lista\n",
        "print(FileasList[1])"
      ],
      "metadata": {
        "colab": {
          "base_uri": "https://localhost:8080/"
        },
        "id": "XV3GdKChXpfF",
        "outputId": "58d32b9c-2b67-4407-9d4e-85a837d907b4"
      },
      "execution_count": null,
      "outputs": [
        {
          "output_type": "stream",
          "name": "stdout",
          "text": [
            "This is line 1 \n",
            "\n",
            "This is line 2\n",
            "\n"
          ]
        }
      ]
    },
    {
      "cell_type": "markdown",
      "source": [
        "**--LABORATORIO 2:Escribir en los archivos--**"
      ],
      "metadata": {
        "id": "QGgfNAcWH5GV"
      }
    },
    {
      "cell_type": "markdown",
      "source": [
        "Podemos abrir un objeto de archivo usando el método write() para guardar el archivo de texto en una lista. Para escribir en un archivo, el argumento de modo debe establecerse en w."
      ],
      "metadata": {
        "id": "9Htc58WlH-LM"
      }
    },
    {
      "cell_type": "code",
      "source": [
        "# Ejercicio: Añadir una linea de texto al archivo\n",
        "exmp2 = 'Example2.txt' #Se le asigna a una variable la informacion del archivo\n",
        "with open(exmp2, 'w') as writefile: #w significa que sera escritura y open se utiliza para abrir el archivo\n",
        "    writefile.write(\"This is line A\") #Se escribe una linea en el archivo"
      ],
      "metadata": {
        "id": "EZLFILwrJIA5"
      },
      "execution_count": null,
      "outputs": []
    },
    {
      "cell_type": "code",
      "source": [
        "#Leectura del archivo \n",
        "with open(exmp2, 'r') as testwritefile:\n",
        "    print(testwritefile.read()) #Se utiliza read para leer lo que hay dentro del archivo"
      ],
      "metadata": {
        "colab": {
          "base_uri": "https://localhost:8080/"
        },
        "id": "9ybM8CTwJeZQ",
        "outputId": "047323c8-662d-46e6-ea4a-30da4a0e5984"
      },
      "execution_count": null,
      "outputs": [
        {
          "output_type": "stream",
          "name": "stdout",
          "text": [
            "This is line A\n"
          ]
        }
      ]
    },
    {
      "cell_type": "code",
      "source": [
        "#Añadir multiples lineas al archivo\n",
        "with open(exmp2, 'w') as writefile:\n",
        "    writefile.write(\"This is line A\\n\") #Escritura en el archivo utilizando el metodo write\n",
        "    writefile.write(\"This is line B\\n\")\n",
        "\n",
        "with open(exmp2, 'r') as testwritefile:\n",
        "    print(testwritefile.read()) #Impresion de las filas utilizando el modo lectura"
      ],
      "metadata": {
        "colab": {
          "base_uri": "https://localhost:8080/"
        },
        "id": "DSSSizqFSGwS",
        "outputId": "4674ad0e-518f-4f8d-a647-b1d258513185"
      },
      "execution_count": null,
      "outputs": [
        {
          "output_type": "stream",
          "name": "stdout",
          "text": [
            "This is line A\n",
            "This is line B\n",
            "\n"
          ]
        }
      ]
    },
    {
      "cell_type": "markdown",
      "source": [
        "El método **.write()** funciona de manera similar al método **.readline()**, excepto que en lugar de leer una nueva línea, escribe una nueva línea. Una nueva línea es agregada al archivo después de cada llamada al método."
      ],
      "metadata": {
        "id": "oHF_zP-pS2jA"
      }
    },
    {
      "cell_type": "code",
      "source": [
        "#Ejercicio 2: Escribir los datos de una lista en un archivo\n",
        "Lines = [\"This is line A\\n\", \"This is line B\\n\", \"This is line C\\n\"] #Lista de datos\n",
        "\n",
        "with open('Example2.txt', 'w') as writefile: #escritura de los archivos en la lista en el archivo\n",
        "    for line in Lines:\n",
        "        print(line)\n",
        "        writefile.write(line) #escribe la linea que se encuentra en esa interacion en el archivo"
      ],
      "metadata": {
        "colab": {
          "base_uri": "https://localhost:8080/"
        },
        "id": "yAql3lmSS3pG",
        "outputId": "c0d57072-f11e-4860-d901-51f2678b8633"
      },
      "execution_count": null,
      "outputs": [
        {
          "output_type": "stream",
          "name": "stdout",
          "text": [
            "This is line A\n",
            "\n",
            "This is line B\n",
            "\n",
            "This is line C\n",
            "\n"
          ]
        }
      ]
    },
    {
      "cell_type": "code",
      "source": [
        "#Impresion del archivo donde se escribieron las lineas\n",
        "with open('Example2.txt', 'r') as testwritefile:\n",
        "    print(testwritefile.read())"
      ],
      "metadata": {
        "colab": {
          "base_uri": "https://localhost:8080/"
        },
        "id": "sW8jWwO1fSz5",
        "outputId": "b0de1845-add6-47fb-b5f4-e0a560dc6083"
      },
      "execution_count": null,
      "outputs": [
        {
          "output_type": "stream",
          "name": "stdout",
          "text": [
            "This is line A\n",
            "This is line B\n",
            "This is line C\n",
            "\n"
          ]
        }
      ]
    },
    {
      "cell_type": "markdown",
      "source": [
        "**NOTA: El modo en w sobrescribe todos los datos existentes en el archivo.**"
      ],
      "metadata": {
        "id": "-8M9PbJAg6wB"
      }
    },
    {
      "cell_type": "code",
      "source": [
        "#Ejemplo de sobre escritura en los archivos\n",
        "with open('Example2.txt', 'w') as writefile:\n",
        "    writefile.write(\"Overwrite\\n\")\n",
        "with open('Example2.txt', 'r') as testwritefile:\n",
        "    print(testwritefile.read())"
      ],
      "metadata": {
        "colab": {
          "base_uri": "https://localhost:8080/"
        },
        "id": "srywCyKbg_XU",
        "outputId": "cebbd5f2-615c-45e2-b347-bbbe6d12e084"
      },
      "execution_count": null,
      "outputs": [
        {
          "output_type": "stream",
          "name": "stdout",
          "text": [
            "Overwrite\n",
            "\n"
          ]
        }
      ]
    },
    {
      "cell_type": "markdown",
      "source": [
        "Para escribir en archivos sin perder ninguno de los datos existentes se utiliza el argumento de modo para **append: a**"
      ],
      "metadata": {
        "id": "24aeGwl6iH7C"
      }
    },
    {
      "cell_type": "code",
      "source": [
        "#Agregar lineas al archivo\n",
        "with open('Example2.txt', 'a') as testwritefile: #Se utiliza el argumento a\n",
        "    testwritefile.write(\"This is line C\\n\")\n",
        "    testwritefile.write(\"This is line D\\n\")\n",
        "    testwritefile.write(\"This is line E\\n\")"
      ],
      "metadata": {
        "id": "yeijLjfXiDdE"
      },
      "execution_count": null,
      "outputs": []
    },
    {
      "cell_type": "code",
      "source": [
        "#Impresion de las lineas del archivo \n",
        "with open('Example2.txt', 'r') as testwritefile:\n",
        "    print(testwritefile.read())"
      ],
      "metadata": {
        "colab": {
          "base_uri": "https://localhost:8080/"
        },
        "id": "1QoE-XFkkfhm",
        "outputId": "bdd61c66-78ef-4c23-a76f-e5dcc88a9c94"
      },
      "execution_count": null,
      "outputs": [
        {
          "output_type": "stream",
          "name": "stdout",
          "text": [
            "Overwrite\n",
            "This is line C\n",
            "This is line D\n",
            "This is line E\n",
            "\n"
          ]
        }
      ]
    },
    {
      "cell_type": "markdown",
      "source": [
        "**MODOS ADICIONALES**\n",
        "\n",
        "**r+** : Lectura y escritura. No se puede truncar el archivo.\n",
        "\n",
        "**w+** : Escritura y lectura. Trunca el archivo.\n",
        "\n",
        "**a+** : Adición y lectura. Crea un nuevo archivo, si no existe ninguno."
      ],
      "metadata": {
        "id": "rLVITIE5xb0a"
      }
    },
    {
      "cell_type": "code",
      "source": [
        "#Ejercicio para abrir un archivo usando el modo append\n",
        "with open('Example2.txt', 'a+') as testwritefile:\n",
        "    testwritefile.write(\"This is line E\\n\") #Escribe utilizando wite\n",
        "    print(testwritefile.read()) #Impresion del metodo a+"
      ],
      "metadata": {
        "colab": {
          "base_uri": "https://localhost:8080/"
        },
        "id": "Fl9ExkbtxSsf",
        "outputId": "aaf1d530-56cb-425f-f973-ff6270042eea"
      },
      "execution_count": null,
      "outputs": [
        {
          "output_type": "stream",
          "name": "stdout",
          "text": [
            "\n"
          ]
        }
      ]
    },
    {
      "cell_type": "markdown",
      "source": [
        "**No imprime nada ya que no se puso una ubicacion especifica dentro del parentesis de read**\n",
        "\n",
        "Suele ser muy útil saber dónde está el 'cursor' en un archivo y poder controlarlo. Los siguientes métodos nos permiten hacer precisamente esto:\n",
        "\n",
        "**.tell()**: Devuelve la posición actual en bytes\n",
        "\n",
        "**.seek(offset,from)**: Cambia la posición por bytes 'offset' con respecto a 'from'. From puede tomar el valor de 0,1,2 correspondiente al inicio, relativo a la posición actual y final"
      ],
      "metadata": {
        "id": "ICgczYLUygGl"
      }
    },
    {
      "cell_type": "code",
      "source": [
        "#Ejercicio de los modos especiales\n",
        "with open('Example2.txt', 'a+') as testwritefile:\n",
        "    print(\"Initial Location: {}\".format(testwritefile.tell())) #Impresion del archivo en su locacion inicial\n",
        "    \n",
        "    data = testwritefile.read()\n",
        "    if (not data):  #Si no se informacion en el archivo retorna un false en python\n",
        "            print('Read nothing') \n",
        "    else: \n",
        "            print(testwritefile.read()) #Si el archivo contiene informacion se muestra\n",
        "            \n",
        "    testwritefile.seek(0,0) # Prueba de seek: mover 0 bytes al principio.\n",
        "    \n",
        "    print(\"\\nNew Location : {}\".format(testwritefile.tell())) #Mueve el archivo a una locacion nueva\n",
        "    data = testwritefile.read() #Lectura del archivo\n",
        "    if (not data): \n",
        "            print('Read nothing') \n",
        "    else: \n",
        "            print(data) #Si el archivo contiene datos los imprime\n",
        "    \n",
        "    print(\"Location after read: {}\".format(testwritefile.tell()) ) #Se imprime la locacion despues de la lectura"
      ],
      "metadata": {
        "colab": {
          "base_uri": "https://localhost:8080/"
        },
        "id": "5fkdGs8i8_lY",
        "outputId": "599e88db-9800-42eb-ff6e-21cc798e2196"
      },
      "execution_count": null,
      "outputs": [
        {
          "output_type": "stream",
          "name": "stdout",
          "text": [
            "Initial Location: 70\n",
            "Read nothing\n",
            "\n",
            "New Location : 0\n",
            "Overwrite\n",
            "This is line C\n",
            "This is line D\n",
            "This is line E\n",
            "This is line E\n",
            "\n",
            "Location after read: 70\n"
          ]
        }
      ]
    },
    {
      "cell_type": "markdown",
      "source": [
        "**w+ y r+**: Ambos modos permiten el acceso a los métodos de lectura y escritura; sin embargo, abrir un archivo en **w+** lo sobrescribe y elimina todos los datos preexistentes.\n",
        "Para trabajar con un archivo con datos existentes, utilice **r+** y **a+**. Mientras usa **r+**, puede ser útil agregar un método **.truncate()** al final de sus datos. Esto reducirá el archivo a sus datos y eliminará todo lo que sigue."
      ],
      "metadata": {
        "id": "gURWz2IZGWMi"
      }
    },
    {
      "cell_type": "code",
      "source": [
        "#Ejericio de Modos Adicionales\n",
        "with open('Example2.txt', 'r+') as testwritefile: #Se abre al archivo y se almacena en la variable testwritefile\n",
        "    data = testwritefile.readlines()  #El módulo readline define una serie de funciones para facilitar la finalización y lectura/escritura de archivos\n",
        "    testwritefile.seek(0,0) #Escribe lineas al inicio del archivo\n",
        "   \n",
        "    testwritefile.write(\"Line 1\" + \"\\n\") #Escribelas lineas en el archivo\n",
        "    testwritefile.write(\"Line 2\" + \"\\n\")\n",
        "    testwritefile.write(\"Line 3\" + \"\\n\")\n",
        "    testwritefile.write(\"finished\\n\")\n",
        "    #Uncomment the line below\n",
        "    #testwritefile.truncate() #Sirve para eliminar los registros, si se utiliza dos veces se elimina el archivo\n",
        "    testwritefile.seek(0,0)\n",
        "    print(testwritefile.read()) #Impresion del contenido\n",
        "    "
      ],
      "metadata": {
        "colab": {
          "base_uri": "https://localhost:8080/"
        },
        "id": "PwEwEjT7_2NL",
        "outputId": "1bdfbe54-7fd7-47b4-e3ee-e2276aa2d0ba"
      },
      "execution_count": null,
      "outputs": [
        {
          "output_type": "stream",
          "name": "stdout",
          "text": [
            "Line 1\n",
            "Line 2\n",
            "Line 3\n",
            "finished\n",
            "is line D\n",
            "This is line E\n",
            "This is line E\n",
            "\n"
          ]
        }
      ]
    },
    {
      "cell_type": "markdown",
      "source": [
        "**--COPIA DE ARCHIVOS--**"
      ],
      "metadata": {
        "id": "08R-F7GJalob"
      }
    },
    {
      "cell_type": "code",
      "source": [
        "#Copia de un archivo a otro\n",
        "with open('Example2.txt','r') as readfile:\n",
        "    with open('Example3.txt','w') as writefile:\n",
        "          for line in readfile:\n",
        "                writefile.write(line)"
      ],
      "metadata": {
        "id": "919xrGHiZjd3"
      },
      "execution_count": null,
      "outputs": []
    },
    {
      "cell_type": "markdown",
      "source": [
        "Se copia el archivo del file 2 a 3 utilizando la funcion write"
      ],
      "metadata": {
        "id": "IyX1yJBqb7C-"
      }
    },
    {
      "cell_type": "code",
      "source": [
        "#Validar que los archivos se hayan pasado al nuevo archivo \"File 3\"\n",
        "with open('Example3.txt','r') as testwritefile:\n",
        "    print(testwritefile.read()) #Impresion de contenido en el nuevo archivo 3"
      ],
      "metadata": {
        "colab": {
          "base_uri": "https://localhost:8080/"
        },
        "id": "Txa5Rvt5b5ED",
        "outputId": "b3d2ec44-6cd1-46d9-c75d-6179ffb76315"
      },
      "execution_count": null,
      "outputs": [
        {
          "output_type": "stream",
          "name": "stdout",
          "text": [
            "Line 1\n",
            "Line 2\n",
            "Line 3\n",
            "finished\n",
            "is line D\n",
            "This is line E\n",
            "This is line E\n",
            "\n"
          ]
        }
      ]
    },
    {
      "cell_type": "markdown",
      "source": [
        "**--EJERCICIO DE ARCHIVOS--**\n"
      ],
      "metadata": {
        "id": "fAAtHpZmca95"
      }
    },
    {
      "cell_type": "code",
      "source": [
        "#Improtacion de librerias\n",
        "from random import randint as rnd\n",
        "\n",
        "memReg = 'members.txt' #Declaracion de variables, \"archivos\"\n",
        "exReg = 'inactive.txt'\n",
        "fee =('yes','no')\n",
        "\n",
        "def genFiles(current,old): #Generacion de archivos\n",
        "    with open(current,'w+') as writefile: \n",
        "        writefile.write('No. de Membresía Fecha de Ingreso Activo  \\n')\n",
        "        data = \"{:^13}  {:<11}  {:<6}\\n\"\n",
        "\n",
        "        for rowno in range(20):\n",
        "            date = str(rnd(2015,2020))+ '-' + str(rnd(1,12))+'-'+str(rnd(1,25))\n",
        "            writefile.write(data.format(rnd(10000,99999),date,fee[rnd(0,1)]))\n",
        "\n",
        "\n",
        "    with open(old,'w+') as writefile: \n",
        "        writefile.write('No. de Membresía Fecha de Ingreso Activo  \\n')\n",
        "        data = \"{:^13}  {:<11}  {:<6}\\n\"\n",
        "        for rowno in range(3):\n",
        "            date = str(rnd(2015,2020))+ '-' + str(rnd(1,12))+'-'+str(rnd(1,25)) #RND es usado para generar numeros random\n",
        "            writefile.write(data.format(rnd(10000,99999),date,fee[1]))\n",
        "\n",
        "\n",
        "genFiles(memReg,exReg) #Generacion de los archivos\n"
      ],
      "metadata": {
        "id": "bIW8ZzpCckg-"
      },
      "execution_count": null,
      "outputs": []
    },
    {
      "cell_type": "code",
      "source": [
        "#Declaracion de la funcion\n",
        "def cleanFiles(currentMem,exMem):\n",
        "    with open(currentMem,'r+') as writeFile:  #En esta parte se abren los archivos utilizando la funcion open con el metodo de escribir\n",
        "        with open(exMem,'a+') as appendFile: #Se utiliza el modo de append\n",
        "            #Toma la fecha\n",
        "            writeFile.seek(0)\n",
        "            members = writeFile.readlines()\n",
        "            #Quita los encabezados\n",
        "            header = members[0]\n",
        "            members.pop(0)\n",
        "                \n",
        "            inactive = [member for member in members if ('no' in member)] #funcion que determina la inactividad de un miembro\n",
        "            '''\n",
        "            The above is the same as \n",
        "\n",
        "            for member in members:\n",
        "            if 'no' in member:\n",
        "                inactive.append(member)\n",
        "            '''\n",
        "            #Esta parte escribe al inicio del archivo la inactividad \n",
        "            writeFile.seek(0) \n",
        "            writeFile.write(header)\n",
        "            for member in members:\n",
        "                if (member in inactive):\n",
        "                    appendFile.write(member)\n",
        "                else:\n",
        "                    writeFile.write(member)      \n",
        "            writeFile.truncate()\n",
        "                \n",
        "memReg = 'members.txt'\n",
        "exReg = 'inactive.txt'\n",
        "cleanFiles(memReg,exReg)\n",
        "\n",
        "# Codigo para ver los archivos\n",
        "\n",
        "headers = \"No. de Membresía Fecha de Ingreso Activo  \\n\"\n",
        "\n",
        "with open(memReg,'r') as readFile:\n",
        "    print(\"Miembros Activos: \\n\\n\")\n",
        "    print(readFile.read())\n",
        "    \n",
        "with open(exReg,'r') as readFile:\n",
        "    print(\"Miembros Inactivos: \\n\\n\")\n",
        "    print(readFile.read())\n",
        "    "
      ],
      "metadata": {
        "colab": {
          "base_uri": "https://localhost:8080/"
        },
        "id": "npDAHrTghK9R",
        "outputId": "d23b425b-8bfe-4779-f8fc-5faecf11b215"
      },
      "execution_count": null,
      "outputs": [
        {
          "output_type": "stream",
          "name": "stdout",
          "text": [
            "Miembros Activos: \n",
            "\n",
            "\n",
            "No. de Membresía Fecha de Ingreso Activo  \n",
            "    48464      2019-12-10   yes   \n",
            "    11474      2020-5-10    yes   \n",
            "    57750      2018-10-17   yes   \n",
            "    92332      2016-8-5     yes   \n",
            "    31055      2019-9-15    yes   \n",
            "    25920      2019-11-5    yes   \n",
            "    12590      2015-1-24    yes   \n",
            "    37663      2018-12-5    yes   \n",
            "\n",
            "Miembros Inactivos: \n",
            "\n",
            "\n",
            "No. de Membresía Fecha de Ingreso Activo  \n",
            "    58744      2019-3-8     no    \n",
            "    54135      2020-10-17   no    \n",
            "    58929      2020-9-6     no    \n",
            "    22955      2019-5-17    no    \n",
            "    81554      2015-8-10    no    \n",
            "    64663      2016-6-14    no    \n",
            "    89829      2019-8-8     no    \n",
            "    49820      2017-10-19   no    \n",
            "    61075      2017-10-8    no    \n",
            "    29882      2019-11-6    no    \n",
            "    77475      2015-11-24   no    \n",
            "    31484      2019-2-7     no    \n",
            "    65008      2018-10-23   no    \n",
            "    87678      2016-1-3     no    \n",
            "    59709      2016-9-14    no    \n",
            "\n"
          ]
        }
      ]
    },
    {
      "cell_type": "markdown",
      "source": [
        "**PRUEBA DEL EJERCICIO**"
      ],
      "metadata": {
        "id": "6FBNOA0oF_KN"
      }
    },
    {
      "cell_type": "code",
      "source": [
        "#Codigo proporcionado en el laboratorio para determinar si el codigo funciona correctamente\n",
        "def testMsg(passed):\n",
        "    if passed:\n",
        "       return 'Test Passed'\n",
        "    else :\n",
        "       return 'Test Failed'\n",
        "\n",
        "testWrite = \"testWrite.txt\"\n",
        "testAppend = \"testAppend.txt\" \n",
        "passed = True\n",
        "\n",
        "genFiles(testWrite,testAppend)\n",
        "\n",
        "with open(testWrite,'r') as file:\n",
        "    ogWrite = file.readlines()\n",
        "\n",
        "with open(testAppend,'r') as file:\n",
        "    ogAppend = file.readlines()\n",
        "\n",
        "try:\n",
        "    cleanFiles(testWrite,testAppend)\n",
        "except:\n",
        "    print('Error')\n",
        "\n",
        "with open(testWrite,'r') as file:\n",
        "    clWrite = file.readlines()\n",
        "\n",
        "with open(testAppend,'r') as file:\n",
        "    clAppend = file.readlines()\n",
        "        \n",
        "# checking if total no of rows is same, including headers\n",
        "\n",
        "if (len(ogWrite) + len(ogAppend) != len(clWrite) + len(clAppend)):\n",
        "    print(\"The number of rows do not add up. Make sure your final files have the same header and format.\")\n",
        "    passed = False\n",
        "    \n",
        "for line in clWrite:\n",
        "    if  'no' in line:\n",
        "        passed = False\n",
        "        print(\"Inactive members in file\")\n",
        "        break\n",
        "    else:\n",
        "        if line not in ogWrite:\n",
        "            print(\"Data in file does not match original file\")\n",
        "            passed = False\n",
        "print (\"{}\".format(testMsg(passed)))"
      ],
      "metadata": {
        "colab": {
          "base_uri": "https://localhost:8080/"
        },
        "id": "g3lNuq0SFPlF",
        "outputId": "7c5eaa8f-fa32-41e9-8972-c1d1b6e54cb9"
      },
      "execution_count": null,
      "outputs": [
        {
          "output_type": "stream",
          "name": "stdout",
          "text": [
            "Test Passed\n"
          ]
        }
      ]
    },
    {
      "cell_type": "markdown",
      "source": [
        "**CARGA DE DATOS UTILIZANDO PANDAS**\n",
        "\n",
        "1. Las dependencias o bibliotecas son código escrito previamente para ayudar a resolver problemas.\n",
        "\n",
        "2. Un dataframe de datos se compone de filas y columnas. Podemos crear un frame de datos a partir de un diccionario."
      ],
      "metadata": {
        "id": "BTOsKoZFGcao"
      }
    },
    {
      "cell_type": "code",
      "source": [
        "import pandas as banana\n",
        "\n",
        "df=banana.DataFrame({'a':[11,21,31],'b':[21,22,23]})\n",
        "\n",
        "df.head()"
      ],
      "metadata": {
        "colab": {
          "base_uri": "https://localhost:8080/",
          "height": 143
        },
        "id": "qd8cDT0EGxC1",
        "outputId": "e62e3cb4-3ca0-4f00-ad21-08d41e19c4bc"
      },
      "execution_count": null,
      "outputs": [
        {
          "output_type": "execute_result",
          "data": {
            "text/plain": [
              "    a   b\n",
              "0  11  21\n",
              "1  21  22\n",
              "2  31  23"
            ],
            "text/html": [
              "\n",
              "  <div id=\"df-879457a4-50f0-437b-bc6d-3efcbcb52880\">\n",
              "    <div class=\"colab-df-container\">\n",
              "      <div>\n",
              "<style scoped>\n",
              "    .dataframe tbody tr th:only-of-type {\n",
              "        vertical-align: middle;\n",
              "    }\n",
              "\n",
              "    .dataframe tbody tr th {\n",
              "        vertical-align: top;\n",
              "    }\n",
              "\n",
              "    .dataframe thead th {\n",
              "        text-align: right;\n",
              "    }\n",
              "</style>\n",
              "<table border=\"1\" class=\"dataframe\">\n",
              "  <thead>\n",
              "    <tr style=\"text-align: right;\">\n",
              "      <th></th>\n",
              "      <th>a</th>\n",
              "      <th>b</th>\n",
              "    </tr>\n",
              "  </thead>\n",
              "  <tbody>\n",
              "    <tr>\n",
              "      <th>0</th>\n",
              "      <td>11</td>\n",
              "      <td>21</td>\n",
              "    </tr>\n",
              "    <tr>\n",
              "      <th>1</th>\n",
              "      <td>21</td>\n",
              "      <td>22</td>\n",
              "    </tr>\n",
              "    <tr>\n",
              "      <th>2</th>\n",
              "      <td>31</td>\n",
              "      <td>23</td>\n",
              "    </tr>\n",
              "  </tbody>\n",
              "</table>\n",
              "</div>\n",
              "      <button class=\"colab-df-convert\" onclick=\"convertToInteractive('df-879457a4-50f0-437b-bc6d-3efcbcb52880')\"\n",
              "              title=\"Convert this dataframe to an interactive table.\"\n",
              "              style=\"display:none;\">\n",
              "        \n",
              "  <svg xmlns=\"http://www.w3.org/2000/svg\" height=\"24px\"viewBox=\"0 0 24 24\"\n",
              "       width=\"24px\">\n",
              "    <path d=\"M0 0h24v24H0V0z\" fill=\"none\"/>\n",
              "    <path d=\"M18.56 5.44l.94 2.06.94-2.06 2.06-.94-2.06-.94-.94-2.06-.94 2.06-2.06.94zm-11 1L8.5 8.5l.94-2.06 2.06-.94-2.06-.94L8.5 2.5l-.94 2.06-2.06.94zm10 10l.94 2.06.94-2.06 2.06-.94-2.06-.94-.94-2.06-.94 2.06-2.06.94z\"/><path d=\"M17.41 7.96l-1.37-1.37c-.4-.4-.92-.59-1.43-.59-.52 0-1.04.2-1.43.59L10.3 9.45l-7.72 7.72c-.78.78-.78 2.05 0 2.83L4 21.41c.39.39.9.59 1.41.59.51 0 1.02-.2 1.41-.59l7.78-7.78 2.81-2.81c.8-.78.8-2.07 0-2.86zM5.41 20L4 18.59l7.72-7.72 1.47 1.35L5.41 20z\"/>\n",
              "  </svg>\n",
              "      </button>\n",
              "      \n",
              "  <style>\n",
              "    .colab-df-container {\n",
              "      display:flex;\n",
              "      flex-wrap:wrap;\n",
              "      gap: 12px;\n",
              "    }\n",
              "\n",
              "    .colab-df-convert {\n",
              "      background-color: #E8F0FE;\n",
              "      border: none;\n",
              "      border-radius: 50%;\n",
              "      cursor: pointer;\n",
              "      display: none;\n",
              "      fill: #1967D2;\n",
              "      height: 32px;\n",
              "      padding: 0 0 0 0;\n",
              "      width: 32px;\n",
              "    }\n",
              "\n",
              "    .colab-df-convert:hover {\n",
              "      background-color: #E2EBFA;\n",
              "      box-shadow: 0px 1px 2px rgba(60, 64, 67, 0.3), 0px 1px 3px 1px rgba(60, 64, 67, 0.15);\n",
              "      fill: #174EA6;\n",
              "    }\n",
              "\n",
              "    [theme=dark] .colab-df-convert {\n",
              "      background-color: #3B4455;\n",
              "      fill: #D2E3FC;\n",
              "    }\n",
              "\n",
              "    [theme=dark] .colab-df-convert:hover {\n",
              "      background-color: #434B5C;\n",
              "      box-shadow: 0px 1px 3px 1px rgba(0, 0, 0, 0.15);\n",
              "      filter: drop-shadow(0px 1px 2px rgba(0, 0, 0, 0.3));\n",
              "      fill: #FFFFFF;\n",
              "    }\n",
              "  </style>\n",
              "\n",
              "      <script>\n",
              "        const buttonEl =\n",
              "          document.querySelector('#df-879457a4-50f0-437b-bc6d-3efcbcb52880 button.colab-df-convert');\n",
              "        buttonEl.style.display =\n",
              "          google.colab.kernel.accessAllowed ? 'block' : 'none';\n",
              "\n",
              "        async function convertToInteractive(key) {\n",
              "          const element = document.querySelector('#df-879457a4-50f0-437b-bc6d-3efcbcb52880');\n",
              "          const dataTable =\n",
              "            await google.colab.kernel.invokeFunction('convertToInteractive',\n",
              "                                                     [key], {});\n",
              "          if (!dataTable) return;\n",
              "\n",
              "          const docLinkHtml = 'Like what you see? Visit the ' +\n",
              "            '<a target=\"_blank\" href=https://colab.research.google.com/notebooks/data_table.ipynb>data table notebook</a>'\n",
              "            + ' to learn more about interactive tables.';\n",
              "          element.innerHTML = '';\n",
              "          dataTable['output_type'] = 'display_data';\n",
              "          await google.colab.output.renderOutput(dataTable, element);\n",
              "          const docLink = document.createElement('div');\n",
              "          docLink.innerHTML = docLinkHtml;\n",
              "          element.appendChild(docLink);\n",
              "        }\n",
              "      </script>\n",
              "    </div>\n",
              "  </div>\n",
              "  "
            ]
          },
          "metadata": {},
          "execution_count": 7
        }
      ]
    },
    {
      "cell_type": "markdown",
      "source": [
        "**En las funciones ix y loc primero Archivo[Registo,Columa]**"
      ],
      "metadata": {
        "id": "o-JbYnxgJD-_"
      }
    },
    {
      "cell_type": "markdown",
      "source": [
        "**--LABORATORIO DE PANDAS--**"
      ],
      "metadata": {
        "id": "E_JbHQTKJdBm"
      }
    },
    {
      "cell_type": "code",
      "source": [
        "#Importacion de libreria\n",
        "import pandas as pd\n",
        "\n",
        "df=pd.DataFrame({'a':[11,21,31],'b':[21,22,23]}) #Declaracion de un dataframe\n",
        "\n",
        "df.head(3) #Hear de utiliza para desplegar registos, en este caso los primeros 3"
      ],
      "metadata": {
        "colab": {
          "base_uri": "https://localhost:8080/",
          "height": 143
        },
        "id": "dkcWExu_JDIo",
        "outputId": "2009bda4-ed4c-4376-b393-3b43b24bf6b2"
      },
      "execution_count": null,
      "outputs": [
        {
          "output_type": "execute_result",
          "data": {
            "text/plain": [
              "    a   b\n",
              "0  11  21\n",
              "1  21  22\n",
              "2  31  23"
            ],
            "text/html": [
              "\n",
              "  <div id=\"df-fde8ed22-a284-4f08-a4e7-2993a4b752d9\">\n",
              "    <div class=\"colab-df-container\">\n",
              "      <div>\n",
              "<style scoped>\n",
              "    .dataframe tbody tr th:only-of-type {\n",
              "        vertical-align: middle;\n",
              "    }\n",
              "\n",
              "    .dataframe tbody tr th {\n",
              "        vertical-align: top;\n",
              "    }\n",
              "\n",
              "    .dataframe thead th {\n",
              "        text-align: right;\n",
              "    }\n",
              "</style>\n",
              "<table border=\"1\" class=\"dataframe\">\n",
              "  <thead>\n",
              "    <tr style=\"text-align: right;\">\n",
              "      <th></th>\n",
              "      <th>a</th>\n",
              "      <th>b</th>\n",
              "    </tr>\n",
              "  </thead>\n",
              "  <tbody>\n",
              "    <tr>\n",
              "      <th>0</th>\n",
              "      <td>11</td>\n",
              "      <td>21</td>\n",
              "    </tr>\n",
              "    <tr>\n",
              "      <th>1</th>\n",
              "      <td>21</td>\n",
              "      <td>22</td>\n",
              "    </tr>\n",
              "    <tr>\n",
              "      <th>2</th>\n",
              "      <td>31</td>\n",
              "      <td>23</td>\n",
              "    </tr>\n",
              "  </tbody>\n",
              "</table>\n",
              "</div>\n",
              "      <button class=\"colab-df-convert\" onclick=\"convertToInteractive('df-fde8ed22-a284-4f08-a4e7-2993a4b752d9')\"\n",
              "              title=\"Convert this dataframe to an interactive table.\"\n",
              "              style=\"display:none;\">\n",
              "        \n",
              "  <svg xmlns=\"http://www.w3.org/2000/svg\" height=\"24px\"viewBox=\"0 0 24 24\"\n",
              "       width=\"24px\">\n",
              "    <path d=\"M0 0h24v24H0V0z\" fill=\"none\"/>\n",
              "    <path d=\"M18.56 5.44l.94 2.06.94-2.06 2.06-.94-2.06-.94-.94-2.06-.94 2.06-2.06.94zm-11 1L8.5 8.5l.94-2.06 2.06-.94-2.06-.94L8.5 2.5l-.94 2.06-2.06.94zm10 10l.94 2.06.94-2.06 2.06-.94-2.06-.94-.94-2.06-.94 2.06-2.06.94z\"/><path d=\"M17.41 7.96l-1.37-1.37c-.4-.4-.92-.59-1.43-.59-.52 0-1.04.2-1.43.59L10.3 9.45l-7.72 7.72c-.78.78-.78 2.05 0 2.83L4 21.41c.39.39.9.59 1.41.59.51 0 1.02-.2 1.41-.59l7.78-7.78 2.81-2.81c.8-.78.8-2.07 0-2.86zM5.41 20L4 18.59l7.72-7.72 1.47 1.35L5.41 20z\"/>\n",
              "  </svg>\n",
              "      </button>\n",
              "      \n",
              "  <style>\n",
              "    .colab-df-container {\n",
              "      display:flex;\n",
              "      flex-wrap:wrap;\n",
              "      gap: 12px;\n",
              "    }\n",
              "\n",
              "    .colab-df-convert {\n",
              "      background-color: #E8F0FE;\n",
              "      border: none;\n",
              "      border-radius: 50%;\n",
              "      cursor: pointer;\n",
              "      display: none;\n",
              "      fill: #1967D2;\n",
              "      height: 32px;\n",
              "      padding: 0 0 0 0;\n",
              "      width: 32px;\n",
              "    }\n",
              "\n",
              "    .colab-df-convert:hover {\n",
              "      background-color: #E2EBFA;\n",
              "      box-shadow: 0px 1px 2px rgba(60, 64, 67, 0.3), 0px 1px 3px 1px rgba(60, 64, 67, 0.15);\n",
              "      fill: #174EA6;\n",
              "    }\n",
              "\n",
              "    [theme=dark] .colab-df-convert {\n",
              "      background-color: #3B4455;\n",
              "      fill: #D2E3FC;\n",
              "    }\n",
              "\n",
              "    [theme=dark] .colab-df-convert:hover {\n",
              "      background-color: #434B5C;\n",
              "      box-shadow: 0px 1px 3px 1px rgba(0, 0, 0, 0.15);\n",
              "      filter: drop-shadow(0px 1px 2px rgba(0, 0, 0, 0.3));\n",
              "      fill: #FFFFFF;\n",
              "    }\n",
              "  </style>\n",
              "\n",
              "      <script>\n",
              "        const buttonEl =\n",
              "          document.querySelector('#df-fde8ed22-a284-4f08-a4e7-2993a4b752d9 button.colab-df-convert');\n",
              "        buttonEl.style.display =\n",
              "          google.colab.kernel.accessAllowed ? 'block' : 'none';\n",
              "\n",
              "        async function convertToInteractive(key) {\n",
              "          const element = document.querySelector('#df-fde8ed22-a284-4f08-a4e7-2993a4b752d9');\n",
              "          const dataTable =\n",
              "            await google.colab.kernel.invokeFunction('convertToInteractive',\n",
              "                                                     [key], {});\n",
              "          if (!dataTable) return;\n",
              "\n",
              "          const docLinkHtml = 'Like what you see? Visit the ' +\n",
              "            '<a target=\"_blank\" href=https://colab.research.google.com/notebooks/data_table.ipynb>data table notebook</a>'\n",
              "            + ' to learn more about interactive tables.';\n",
              "          element.innerHTML = '';\n",
              "          dataTable['output_type'] = 'display_data';\n",
              "          await google.colab.output.renderOutput(dataTable, element);\n",
              "          const docLink = document.createElement('div');\n",
              "          docLink.innerHTML = docLinkHtml;\n",
              "          element.appendChild(docLink);\n",
              "        }\n",
              "      </script>\n",
              "    </div>\n",
              "  </div>\n",
              "  "
            ]
          },
          "metadata": {},
          "execution_count": 9
        }
      ]
    },
    {
      "cell_type": "code",
      "source": [
        "#Impresion de los valores en la columna 'a'\n",
        "df['a']"
      ],
      "metadata": {
        "colab": {
          "base_uri": "https://localhost:8080/"
        },
        "id": "9SVrXvMTLMY5",
        "outputId": "cbc4573d-4cca-4690-e736-742a71cac373"
      },
      "execution_count": null,
      "outputs": [
        {
          "output_type": "execute_result",
          "data": {
            "text/plain": [
              "0    11\n",
              "1    21\n",
              "2    31\n",
              "Name: a, dtype: int64"
            ]
          },
          "metadata": {},
          "execution_count": 10
        }
      ]
    },
    {
      "cell_type": "markdown",
      "source": [
        "**MANIPULACION Y GUARDAR INFORMACION CON PANDAS**\n",
        "\n",
        "**Unique()**: Regresa los valores unicos.\n"
      ],
      "metadata": {
        "id": "Yuk1zkkuLkTT"
      }
    },
    {
      "cell_type": "code",
      "source": [
        "df=pd.DataFrame({'a':[1,2,1],'b':[1,1,1]})\n",
        "df['a']==1"
      ],
      "metadata": {
        "colab": {
          "base_uri": "https://localhost:8080/"
        },
        "id": "8dw017PmMQco",
        "outputId": "20c5f1af-2fbe-409d-f490-34f5103ce456"
      },
      "execution_count": null,
      "outputs": [
        {
          "output_type": "execute_result",
          "data": {
            "text/plain": [
              "0     True\n",
              "1    False\n",
              "2     True\n",
              "Name: a, dtype: bool"
            ]
          },
          "metadata": {},
          "execution_count": 11
        }
      ]
    },
    {
      "cell_type": "markdown",
      "source": [
        "**--LABORATORIO DE MANUPULACION Y ALMACENAMIENTO--**"
      ],
      "metadata": {
        "id": "1BFjX3JaN440"
      }
    },
    {
      "cell_type": "code",
      "source": [
        "#Importar libreria y declarar frame\n",
        "import pandas as pd\n",
        "df=pd.DataFrame({'a':[1,2,1],'b':[1,1,1]})"
      ],
      "metadata": {
        "id": "QMDKTAeMN-37"
      },
      "execution_count": null,
      "outputs": []
    },
    {
      "cell_type": "code",
      "source": [
        "#Ejemplo de la funcion Unique\n",
        "df['a'].unique()"
      ],
      "metadata": {
        "colab": {
          "base_uri": "https://localhost:8080/"
        },
        "id": "LbwCuYkQOHD9",
        "outputId": "c52d2706-a874-4832-f2f9-ba0193c88189"
      },
      "execution_count": null,
      "outputs": [
        {
          "output_type": "execute_result",
          "data": {
            "text/plain": [
              "array([1, 2])"
            ]
          },
          "metadata": {},
          "execution_count": 13
        }
      ]
    },
    {
      "cell_type": "code",
      "source": [
        "#Ejercicio donde solo las filas donde la columna a es menor a dos\n",
        "df[df['a']<2]"
      ],
      "metadata": {
        "colab": {
          "base_uri": "https://localhost:8080/",
          "height": 112
        },
        "id": "Ra-WAk41Oejr",
        "outputId": "e91cdbb7-7a4a-46ff-9321-8caf63b879f7"
      },
      "execution_count": null,
      "outputs": [
        {
          "output_type": "execute_result",
          "data": {
            "text/plain": [
              "   a  b\n",
              "0  1  1\n",
              "2  1  1"
            ],
            "text/html": [
              "\n",
              "  <div id=\"df-7451a375-ef1e-49f5-b420-d27bf7a7f944\">\n",
              "    <div class=\"colab-df-container\">\n",
              "      <div>\n",
              "<style scoped>\n",
              "    .dataframe tbody tr th:only-of-type {\n",
              "        vertical-align: middle;\n",
              "    }\n",
              "\n",
              "    .dataframe tbody tr th {\n",
              "        vertical-align: top;\n",
              "    }\n",
              "\n",
              "    .dataframe thead th {\n",
              "        text-align: right;\n",
              "    }\n",
              "</style>\n",
              "<table border=\"1\" class=\"dataframe\">\n",
              "  <thead>\n",
              "    <tr style=\"text-align: right;\">\n",
              "      <th></th>\n",
              "      <th>a</th>\n",
              "      <th>b</th>\n",
              "    </tr>\n",
              "  </thead>\n",
              "  <tbody>\n",
              "    <tr>\n",
              "      <th>0</th>\n",
              "      <td>1</td>\n",
              "      <td>1</td>\n",
              "    </tr>\n",
              "    <tr>\n",
              "      <th>2</th>\n",
              "      <td>1</td>\n",
              "      <td>1</td>\n",
              "    </tr>\n",
              "  </tbody>\n",
              "</table>\n",
              "</div>\n",
              "      <button class=\"colab-df-convert\" onclick=\"convertToInteractive('df-7451a375-ef1e-49f5-b420-d27bf7a7f944')\"\n",
              "              title=\"Convert this dataframe to an interactive table.\"\n",
              "              style=\"display:none;\">\n",
              "        \n",
              "  <svg xmlns=\"http://www.w3.org/2000/svg\" height=\"24px\"viewBox=\"0 0 24 24\"\n",
              "       width=\"24px\">\n",
              "    <path d=\"M0 0h24v24H0V0z\" fill=\"none\"/>\n",
              "    <path d=\"M18.56 5.44l.94 2.06.94-2.06 2.06-.94-2.06-.94-.94-2.06-.94 2.06-2.06.94zm-11 1L8.5 8.5l.94-2.06 2.06-.94-2.06-.94L8.5 2.5l-.94 2.06-2.06.94zm10 10l.94 2.06.94-2.06 2.06-.94-2.06-.94-.94-2.06-.94 2.06-2.06.94z\"/><path d=\"M17.41 7.96l-1.37-1.37c-.4-.4-.92-.59-1.43-.59-.52 0-1.04.2-1.43.59L10.3 9.45l-7.72 7.72c-.78.78-.78 2.05 0 2.83L4 21.41c.39.39.9.59 1.41.59.51 0 1.02-.2 1.41-.59l7.78-7.78 2.81-2.81c.8-.78.8-2.07 0-2.86zM5.41 20L4 18.59l7.72-7.72 1.47 1.35L5.41 20z\"/>\n",
              "  </svg>\n",
              "      </button>\n",
              "      \n",
              "  <style>\n",
              "    .colab-df-container {\n",
              "      display:flex;\n",
              "      flex-wrap:wrap;\n",
              "      gap: 12px;\n",
              "    }\n",
              "\n",
              "    .colab-df-convert {\n",
              "      background-color: #E8F0FE;\n",
              "      border: none;\n",
              "      border-radius: 50%;\n",
              "      cursor: pointer;\n",
              "      display: none;\n",
              "      fill: #1967D2;\n",
              "      height: 32px;\n",
              "      padding: 0 0 0 0;\n",
              "      width: 32px;\n",
              "    }\n",
              "\n",
              "    .colab-df-convert:hover {\n",
              "      background-color: #E2EBFA;\n",
              "      box-shadow: 0px 1px 2px rgba(60, 64, 67, 0.3), 0px 1px 3px 1px rgba(60, 64, 67, 0.15);\n",
              "      fill: #174EA6;\n",
              "    }\n",
              "\n",
              "    [theme=dark] .colab-df-convert {\n",
              "      background-color: #3B4455;\n",
              "      fill: #D2E3FC;\n",
              "    }\n",
              "\n",
              "    [theme=dark] .colab-df-convert:hover {\n",
              "      background-color: #434B5C;\n",
              "      box-shadow: 0px 1px 3px 1px rgba(0, 0, 0, 0.15);\n",
              "      filter: drop-shadow(0px 1px 2px rgba(0, 0, 0, 0.3));\n",
              "      fill: #FFFFFF;\n",
              "    }\n",
              "  </style>\n",
              "\n",
              "      <script>\n",
              "        const buttonEl =\n",
              "          document.querySelector('#df-7451a375-ef1e-49f5-b420-d27bf7a7f944 button.colab-df-convert');\n",
              "        buttonEl.style.display =\n",
              "          google.colab.kernel.accessAllowed ? 'block' : 'none';\n",
              "\n",
              "        async function convertToInteractive(key) {\n",
              "          const element = document.querySelector('#df-7451a375-ef1e-49f5-b420-d27bf7a7f944');\n",
              "          const dataTable =\n",
              "            await google.colab.kernel.invokeFunction('convertToInteractive',\n",
              "                                                     [key], {});\n",
              "          if (!dataTable) return;\n",
              "\n",
              "          const docLinkHtml = 'Like what you see? Visit the ' +\n",
              "            '<a target=\"_blank\" href=https://colab.research.google.com/notebooks/data_table.ipynb>data table notebook</a>'\n",
              "            + ' to learn more about interactive tables.';\n",
              "          element.innerHTML = '';\n",
              "          dataTable['output_type'] = 'display_data';\n",
              "          await google.colab.output.renderOutput(dataTable, element);\n",
              "          const docLink = document.createElement('div');\n",
              "          docLink.innerHTML = docLinkHtml;\n",
              "          element.appendChild(docLink);\n",
              "        }\n",
              "      </script>\n",
              "    </div>\n",
              "  </div>\n",
              "  "
            ]
          },
          "metadata": {},
          "execution_count": 14
        }
      ]
    },
    {
      "cell_type": "markdown",
      "source": [
        "**--LABORATORIO 2: Manipulacion & Almacenamiento--**"
      ],
      "metadata": {
        "id": "ISrOQBkZP39L"
      }
    },
    {
      "cell_type": "code",
      "source": [
        "#Exportacion de librerias\n",
        "import pandas as pd"
      ],
      "metadata": {
        "id": "CJ42IjnpPwjV"
      },
      "execution_count": null,
      "outputs": []
    },
    {
      "cell_type": "code",
      "source": [
        "# Lectura de la informacion desde un CSV\n",
        "csv_path = 'https://cf-courses-data.s3.us.cloud-object-storage.appdomain.cloud/IBMDeveloperSkillsNetwork-PY0101EN-SkillsNetwork/labs/Module%204/data/TopSellingAlbums.csv'\n",
        "df = pd.read_csv(csv_path)"
      ],
      "metadata": {
        "id": "cgeXrN2AQmi7"
      },
      "execution_count": null,
      "outputs": []
    },
    {
      "cell_type": "markdown",
      "source": [
        "**HEAD**: determina la cantidad de registros que debenser impresos"
      ],
      "metadata": {
        "id": "HQ8yAKBWRABT"
      }
    },
    {
      "cell_type": "code",
      "source": [
        "#Impresion utilizando el metodo Head\n",
        "df.head()"
      ],
      "metadata": {
        "colab": {
          "base_uri": "https://localhost:8080/",
          "height": 206
        },
        "id": "tUlSEFibQ1B5",
        "outputId": "2762703e-a921-4671-9d83-d6fce62c12a3"
      },
      "execution_count": null,
      "outputs": [
        {
          "output_type": "execute_result",
          "data": {
            "text/plain": [
              "            Artist                      Album  Released   Length  \\\n",
              "0  Michael Jackson                   Thriller      1982  0:42:19   \n",
              "1            AC/DC              Back in Black      1980  0:42:11   \n",
              "2       Pink Floyd  The Dark Side of the Moon      1973  0:42:49   \n",
              "3  Whitney Houston              The Bodyguard      1992  0:57:44   \n",
              "4        Meat Loaf            Bat Out of Hell      1977  0:46:33   \n",
              "\n",
              "                         Genre  Music Recording Sales (millions)  \\\n",
              "0               pop, rock, R&B                              46.0   \n",
              "1                    hard rock                              26.1   \n",
              "2             progressive rock                              24.2   \n",
              "3               R&B, soul, pop                              27.4   \n",
              "4  hard rock, progressive rock                              20.6   \n",
              "\n",
              "   Claimed Sales (millions) Released.1 Soundtrack  Rating  \n",
              "0                        65  30-Nov-82        NaN    10.0  \n",
              "1                        50  25-Jul-80        NaN     9.5  \n",
              "2                        45  01-Mar-73        NaN     9.0  \n",
              "3                        44  17-Nov-92          Y     8.5  \n",
              "4                        43  21-Oct-77        NaN     8.0  "
            ],
            "text/html": [
              "\n",
              "  <div id=\"df-972a22a1-2ada-4a1e-8cd9-13b921184398\">\n",
              "    <div class=\"colab-df-container\">\n",
              "      <div>\n",
              "<style scoped>\n",
              "    .dataframe tbody tr th:only-of-type {\n",
              "        vertical-align: middle;\n",
              "    }\n",
              "\n",
              "    .dataframe tbody tr th {\n",
              "        vertical-align: top;\n",
              "    }\n",
              "\n",
              "    .dataframe thead th {\n",
              "        text-align: right;\n",
              "    }\n",
              "</style>\n",
              "<table border=\"1\" class=\"dataframe\">\n",
              "  <thead>\n",
              "    <tr style=\"text-align: right;\">\n",
              "      <th></th>\n",
              "      <th>Artist</th>\n",
              "      <th>Album</th>\n",
              "      <th>Released</th>\n",
              "      <th>Length</th>\n",
              "      <th>Genre</th>\n",
              "      <th>Music Recording Sales (millions)</th>\n",
              "      <th>Claimed Sales (millions)</th>\n",
              "      <th>Released.1</th>\n",
              "      <th>Soundtrack</th>\n",
              "      <th>Rating</th>\n",
              "    </tr>\n",
              "  </thead>\n",
              "  <tbody>\n",
              "    <tr>\n",
              "      <th>0</th>\n",
              "      <td>Michael Jackson</td>\n",
              "      <td>Thriller</td>\n",
              "      <td>1982</td>\n",
              "      <td>0:42:19</td>\n",
              "      <td>pop, rock, R&amp;B</td>\n",
              "      <td>46.0</td>\n",
              "      <td>65</td>\n",
              "      <td>30-Nov-82</td>\n",
              "      <td>NaN</td>\n",
              "      <td>10.0</td>\n",
              "    </tr>\n",
              "    <tr>\n",
              "      <th>1</th>\n",
              "      <td>AC/DC</td>\n",
              "      <td>Back in Black</td>\n",
              "      <td>1980</td>\n",
              "      <td>0:42:11</td>\n",
              "      <td>hard rock</td>\n",
              "      <td>26.1</td>\n",
              "      <td>50</td>\n",
              "      <td>25-Jul-80</td>\n",
              "      <td>NaN</td>\n",
              "      <td>9.5</td>\n",
              "    </tr>\n",
              "    <tr>\n",
              "      <th>2</th>\n",
              "      <td>Pink Floyd</td>\n",
              "      <td>The Dark Side of the Moon</td>\n",
              "      <td>1973</td>\n",
              "      <td>0:42:49</td>\n",
              "      <td>progressive rock</td>\n",
              "      <td>24.2</td>\n",
              "      <td>45</td>\n",
              "      <td>01-Mar-73</td>\n",
              "      <td>NaN</td>\n",
              "      <td>9.0</td>\n",
              "    </tr>\n",
              "    <tr>\n",
              "      <th>3</th>\n",
              "      <td>Whitney Houston</td>\n",
              "      <td>The Bodyguard</td>\n",
              "      <td>1992</td>\n",
              "      <td>0:57:44</td>\n",
              "      <td>R&amp;B, soul, pop</td>\n",
              "      <td>27.4</td>\n",
              "      <td>44</td>\n",
              "      <td>17-Nov-92</td>\n",
              "      <td>Y</td>\n",
              "      <td>8.5</td>\n",
              "    </tr>\n",
              "    <tr>\n",
              "      <th>4</th>\n",
              "      <td>Meat Loaf</td>\n",
              "      <td>Bat Out of Hell</td>\n",
              "      <td>1977</td>\n",
              "      <td>0:46:33</td>\n",
              "      <td>hard rock, progressive rock</td>\n",
              "      <td>20.6</td>\n",
              "      <td>43</td>\n",
              "      <td>21-Oct-77</td>\n",
              "      <td>NaN</td>\n",
              "      <td>8.0</td>\n",
              "    </tr>\n",
              "  </tbody>\n",
              "</table>\n",
              "</div>\n",
              "      <button class=\"colab-df-convert\" onclick=\"convertToInteractive('df-972a22a1-2ada-4a1e-8cd9-13b921184398')\"\n",
              "              title=\"Convert this dataframe to an interactive table.\"\n",
              "              style=\"display:none;\">\n",
              "        \n",
              "  <svg xmlns=\"http://www.w3.org/2000/svg\" height=\"24px\"viewBox=\"0 0 24 24\"\n",
              "       width=\"24px\">\n",
              "    <path d=\"M0 0h24v24H0V0z\" fill=\"none\"/>\n",
              "    <path d=\"M18.56 5.44l.94 2.06.94-2.06 2.06-.94-2.06-.94-.94-2.06-.94 2.06-2.06.94zm-11 1L8.5 8.5l.94-2.06 2.06-.94-2.06-.94L8.5 2.5l-.94 2.06-2.06.94zm10 10l.94 2.06.94-2.06 2.06-.94-2.06-.94-.94-2.06-.94 2.06-2.06.94z\"/><path d=\"M17.41 7.96l-1.37-1.37c-.4-.4-.92-.59-1.43-.59-.52 0-1.04.2-1.43.59L10.3 9.45l-7.72 7.72c-.78.78-.78 2.05 0 2.83L4 21.41c.39.39.9.59 1.41.59.51 0 1.02-.2 1.41-.59l7.78-7.78 2.81-2.81c.8-.78.8-2.07 0-2.86zM5.41 20L4 18.59l7.72-7.72 1.47 1.35L5.41 20z\"/>\n",
              "  </svg>\n",
              "      </button>\n",
              "      \n",
              "  <style>\n",
              "    .colab-df-container {\n",
              "      display:flex;\n",
              "      flex-wrap:wrap;\n",
              "      gap: 12px;\n",
              "    }\n",
              "\n",
              "    .colab-df-convert {\n",
              "      background-color: #E8F0FE;\n",
              "      border: none;\n",
              "      border-radius: 50%;\n",
              "      cursor: pointer;\n",
              "      display: none;\n",
              "      fill: #1967D2;\n",
              "      height: 32px;\n",
              "      padding: 0 0 0 0;\n",
              "      width: 32px;\n",
              "    }\n",
              "\n",
              "    .colab-df-convert:hover {\n",
              "      background-color: #E2EBFA;\n",
              "      box-shadow: 0px 1px 2px rgba(60, 64, 67, 0.3), 0px 1px 3px 1px rgba(60, 64, 67, 0.15);\n",
              "      fill: #174EA6;\n",
              "    }\n",
              "\n",
              "    [theme=dark] .colab-df-convert {\n",
              "      background-color: #3B4455;\n",
              "      fill: #D2E3FC;\n",
              "    }\n",
              "\n",
              "    [theme=dark] .colab-df-convert:hover {\n",
              "      background-color: #434B5C;\n",
              "      box-shadow: 0px 1px 3px 1px rgba(0, 0, 0, 0.15);\n",
              "      filter: drop-shadow(0px 1px 2px rgba(0, 0, 0, 0.3));\n",
              "      fill: #FFFFFF;\n",
              "    }\n",
              "  </style>\n",
              "\n",
              "      <script>\n",
              "        const buttonEl =\n",
              "          document.querySelector('#df-972a22a1-2ada-4a1e-8cd9-13b921184398 button.colab-df-convert');\n",
              "        buttonEl.style.display =\n",
              "          google.colab.kernel.accessAllowed ? 'block' : 'none';\n",
              "\n",
              "        async function convertToInteractive(key) {\n",
              "          const element = document.querySelector('#df-972a22a1-2ada-4a1e-8cd9-13b921184398');\n",
              "          const dataTable =\n",
              "            await google.colab.kernel.invokeFunction('convertToInteractive',\n",
              "                                                     [key], {});\n",
              "          if (!dataTable) return;\n",
              "\n",
              "          const docLinkHtml = 'Like what you see? Visit the ' +\n",
              "            '<a target=\"_blank\" href=https://colab.research.google.com/notebooks/data_table.ipynb>data table notebook</a>'\n",
              "            + ' to learn more about interactive tables.';\n",
              "          element.innerHTML = '';\n",
              "          dataTable['output_type'] = 'display_data';\n",
              "          await google.colab.output.renderOutput(dataTable, element);\n",
              "          const docLink = document.createElement('div');\n",
              "          docLink.innerHTML = docLinkHtml;\n",
              "          element.appendChild(docLink);\n",
              "        }\n",
              "      </script>\n",
              "    </div>\n",
              "  </div>\n",
              "  "
            ]
          },
          "metadata": {},
          "execution_count": 28
        }
      ]
    },
    {
      "cell_type": "markdown",
      "source": [
        "**read_type** tambien es utilizada para imprimir registos del archivo"
      ],
      "metadata": {
        "id": "DlAApjbSRSw4"
      }
    },
    {
      "cell_type": "code",
      "source": [
        "#Ejercicio para accessar a la columna Length\n",
        "x = df[['Length']]\n",
        "x"
      ],
      "metadata": {
        "colab": {
          "base_uri": "https://localhost:8080/",
          "height": 300
        },
        "id": "qNElgZOCRJaE",
        "outputId": "157fcf73-08c9-4f6b-a936-b89f37c1793e"
      },
      "execution_count": null,
      "outputs": [
        {
          "output_type": "execute_result",
          "data": {
            "text/plain": [
              "    Length\n",
              "0  0:42:19\n",
              "1  0:42:11\n",
              "2  0:42:49\n",
              "3  0:57:44\n",
              "4  0:46:33\n",
              "5  0:43:08\n",
              "6  1:15:54\n",
              "7  0:40:01"
            ],
            "text/html": [
              "\n",
              "  <div id=\"df-100e539a-81ca-4920-b1af-3d6d92d78967\">\n",
              "    <div class=\"colab-df-container\">\n",
              "      <div>\n",
              "<style scoped>\n",
              "    .dataframe tbody tr th:only-of-type {\n",
              "        vertical-align: middle;\n",
              "    }\n",
              "\n",
              "    .dataframe tbody tr th {\n",
              "        vertical-align: top;\n",
              "    }\n",
              "\n",
              "    .dataframe thead th {\n",
              "        text-align: right;\n",
              "    }\n",
              "</style>\n",
              "<table border=\"1\" class=\"dataframe\">\n",
              "  <thead>\n",
              "    <tr style=\"text-align: right;\">\n",
              "      <th></th>\n",
              "      <th>Length</th>\n",
              "    </tr>\n",
              "  </thead>\n",
              "  <tbody>\n",
              "    <tr>\n",
              "      <th>0</th>\n",
              "      <td>0:42:19</td>\n",
              "    </tr>\n",
              "    <tr>\n",
              "      <th>1</th>\n",
              "      <td>0:42:11</td>\n",
              "    </tr>\n",
              "    <tr>\n",
              "      <th>2</th>\n",
              "      <td>0:42:49</td>\n",
              "    </tr>\n",
              "    <tr>\n",
              "      <th>3</th>\n",
              "      <td>0:57:44</td>\n",
              "    </tr>\n",
              "    <tr>\n",
              "      <th>4</th>\n",
              "      <td>0:46:33</td>\n",
              "    </tr>\n",
              "    <tr>\n",
              "      <th>5</th>\n",
              "      <td>0:43:08</td>\n",
              "    </tr>\n",
              "    <tr>\n",
              "      <th>6</th>\n",
              "      <td>1:15:54</td>\n",
              "    </tr>\n",
              "    <tr>\n",
              "      <th>7</th>\n",
              "      <td>0:40:01</td>\n",
              "    </tr>\n",
              "  </tbody>\n",
              "</table>\n",
              "</div>\n",
              "      <button class=\"colab-df-convert\" onclick=\"convertToInteractive('df-100e539a-81ca-4920-b1af-3d6d92d78967')\"\n",
              "              title=\"Convert this dataframe to an interactive table.\"\n",
              "              style=\"display:none;\">\n",
              "        \n",
              "  <svg xmlns=\"http://www.w3.org/2000/svg\" height=\"24px\"viewBox=\"0 0 24 24\"\n",
              "       width=\"24px\">\n",
              "    <path d=\"M0 0h24v24H0V0z\" fill=\"none\"/>\n",
              "    <path d=\"M18.56 5.44l.94 2.06.94-2.06 2.06-.94-2.06-.94-.94-2.06-.94 2.06-2.06.94zm-11 1L8.5 8.5l.94-2.06 2.06-.94-2.06-.94L8.5 2.5l-.94 2.06-2.06.94zm10 10l.94 2.06.94-2.06 2.06-.94-2.06-.94-.94-2.06-.94 2.06-2.06.94z\"/><path d=\"M17.41 7.96l-1.37-1.37c-.4-.4-.92-.59-1.43-.59-.52 0-1.04.2-1.43.59L10.3 9.45l-7.72 7.72c-.78.78-.78 2.05 0 2.83L4 21.41c.39.39.9.59 1.41.59.51 0 1.02-.2 1.41-.59l7.78-7.78 2.81-2.81c.8-.78.8-2.07 0-2.86zM5.41 20L4 18.59l7.72-7.72 1.47 1.35L5.41 20z\"/>\n",
              "  </svg>\n",
              "      </button>\n",
              "      \n",
              "  <style>\n",
              "    .colab-df-container {\n",
              "      display:flex;\n",
              "      flex-wrap:wrap;\n",
              "      gap: 12px;\n",
              "    }\n",
              "\n",
              "    .colab-df-convert {\n",
              "      background-color: #E8F0FE;\n",
              "      border: none;\n",
              "      border-radius: 50%;\n",
              "      cursor: pointer;\n",
              "      display: none;\n",
              "      fill: #1967D2;\n",
              "      height: 32px;\n",
              "      padding: 0 0 0 0;\n",
              "      width: 32px;\n",
              "    }\n",
              "\n",
              "    .colab-df-convert:hover {\n",
              "      background-color: #E2EBFA;\n",
              "      box-shadow: 0px 1px 2px rgba(60, 64, 67, 0.3), 0px 1px 3px 1px rgba(60, 64, 67, 0.15);\n",
              "      fill: #174EA6;\n",
              "    }\n",
              "\n",
              "    [theme=dark] .colab-df-convert {\n",
              "      background-color: #3B4455;\n",
              "      fill: #D2E3FC;\n",
              "    }\n",
              "\n",
              "    [theme=dark] .colab-df-convert:hover {\n",
              "      background-color: #434B5C;\n",
              "      box-shadow: 0px 1px 3px 1px rgba(0, 0, 0, 0.15);\n",
              "      filter: drop-shadow(0px 1px 2px rgba(0, 0, 0, 0.3));\n",
              "      fill: #FFFFFF;\n",
              "    }\n",
              "  </style>\n",
              "\n",
              "      <script>\n",
              "        const buttonEl =\n",
              "          document.querySelector('#df-100e539a-81ca-4920-b1af-3d6d92d78967 button.colab-df-convert');\n",
              "        buttonEl.style.display =\n",
              "          google.colab.kernel.accessAllowed ? 'block' : 'none';\n",
              "\n",
              "        async function convertToInteractive(key) {\n",
              "          const element = document.querySelector('#df-100e539a-81ca-4920-b1af-3d6d92d78967');\n",
              "          const dataTable =\n",
              "            await google.colab.kernel.invokeFunction('convertToInteractive',\n",
              "                                                     [key], {});\n",
              "          if (!dataTable) return;\n",
              "\n",
              "          const docLinkHtml = 'Like what you see? Visit the ' +\n",
              "            '<a target=\"_blank\" href=https://colab.research.google.com/notebooks/data_table.ipynb>data table notebook</a>'\n",
              "            + ' to learn more about interactive tables.';\n",
              "          element.innerHTML = '';\n",
              "          dataTable['output_type'] = 'display_data';\n",
              "          await google.colab.output.renderOutput(dataTable, element);\n",
              "          const docLink = document.createElement('div');\n",
              "          docLink.innerHTML = docLinkHtml;\n",
              "          element.appendChild(docLink);\n",
              "        }\n",
              "      </script>\n",
              "    </div>\n",
              "  </div>\n",
              "  "
            ]
          },
          "metadata": {},
          "execution_count": 29
        }
      ]
    },
    {
      "cell_type": "code",
      "source": [
        "#Transformacion de la data a un dataframe\n",
        "x = df[['Artist']]\n",
        "type(x)"
      ],
      "metadata": {
        "colab": {
          "base_uri": "https://localhost:8080/"
        },
        "id": "tYzk_wKYRgJI",
        "outputId": "c661f174-a777-4114-854f-6343967d1984"
      },
      "execution_count": null,
      "outputs": [
        {
          "output_type": "execute_result",
          "data": {
            "text/plain": [
              "pandas.core.frame.DataFrame"
            ]
          },
          "metadata": {},
          "execution_count": 30
        }
      ]
    },
    {
      "cell_type": "code",
      "source": [
        "#Se puede acceder de forma simultanea a x columnas\n",
        "y = df[['Artist','Length','Genre']]\n",
        "y"
      ],
      "metadata": {
        "colab": {
          "base_uri": "https://localhost:8080/",
          "height": 300
        },
        "id": "Bs2sggqRR11F",
        "outputId": "f6bef794-0c15-4801-be49-21c19ceb0c47"
      },
      "execution_count": null,
      "outputs": [
        {
          "output_type": "execute_result",
          "data": {
            "text/plain": [
              "            Artist   Length                        Genre\n",
              "0  Michael Jackson  0:42:19               pop, rock, R&B\n",
              "1            AC/DC  0:42:11                    hard rock\n",
              "2       Pink Floyd  0:42:49             progressive rock\n",
              "3  Whitney Houston  0:57:44               R&B, soul, pop\n",
              "4        Meat Loaf  0:46:33  hard rock, progressive rock\n",
              "5           Eagles  0:43:08   rock, soft rock, folk rock\n",
              "6         Bee Gees  1:15:54                        disco\n",
              "7    Fleetwood Mac  0:40:01                    soft rock"
            ],
            "text/html": [
              "\n",
              "  <div id=\"df-dbead9bf-4163-40b0-9d06-fa52c863dad0\">\n",
              "    <div class=\"colab-df-container\">\n",
              "      <div>\n",
              "<style scoped>\n",
              "    .dataframe tbody tr th:only-of-type {\n",
              "        vertical-align: middle;\n",
              "    }\n",
              "\n",
              "    .dataframe tbody tr th {\n",
              "        vertical-align: top;\n",
              "    }\n",
              "\n",
              "    .dataframe thead th {\n",
              "        text-align: right;\n",
              "    }\n",
              "</style>\n",
              "<table border=\"1\" class=\"dataframe\">\n",
              "  <thead>\n",
              "    <tr style=\"text-align: right;\">\n",
              "      <th></th>\n",
              "      <th>Artist</th>\n",
              "      <th>Length</th>\n",
              "      <th>Genre</th>\n",
              "    </tr>\n",
              "  </thead>\n",
              "  <tbody>\n",
              "    <tr>\n",
              "      <th>0</th>\n",
              "      <td>Michael Jackson</td>\n",
              "      <td>0:42:19</td>\n",
              "      <td>pop, rock, R&amp;B</td>\n",
              "    </tr>\n",
              "    <tr>\n",
              "      <th>1</th>\n",
              "      <td>AC/DC</td>\n",
              "      <td>0:42:11</td>\n",
              "      <td>hard rock</td>\n",
              "    </tr>\n",
              "    <tr>\n",
              "      <th>2</th>\n",
              "      <td>Pink Floyd</td>\n",
              "      <td>0:42:49</td>\n",
              "      <td>progressive rock</td>\n",
              "    </tr>\n",
              "    <tr>\n",
              "      <th>3</th>\n",
              "      <td>Whitney Houston</td>\n",
              "      <td>0:57:44</td>\n",
              "      <td>R&amp;B, soul, pop</td>\n",
              "    </tr>\n",
              "    <tr>\n",
              "      <th>4</th>\n",
              "      <td>Meat Loaf</td>\n",
              "      <td>0:46:33</td>\n",
              "      <td>hard rock, progressive rock</td>\n",
              "    </tr>\n",
              "    <tr>\n",
              "      <th>5</th>\n",
              "      <td>Eagles</td>\n",
              "      <td>0:43:08</td>\n",
              "      <td>rock, soft rock, folk rock</td>\n",
              "    </tr>\n",
              "    <tr>\n",
              "      <th>6</th>\n",
              "      <td>Bee Gees</td>\n",
              "      <td>1:15:54</td>\n",
              "      <td>disco</td>\n",
              "    </tr>\n",
              "    <tr>\n",
              "      <th>7</th>\n",
              "      <td>Fleetwood Mac</td>\n",
              "      <td>0:40:01</td>\n",
              "      <td>soft rock</td>\n",
              "    </tr>\n",
              "  </tbody>\n",
              "</table>\n",
              "</div>\n",
              "      <button class=\"colab-df-convert\" onclick=\"convertToInteractive('df-dbead9bf-4163-40b0-9d06-fa52c863dad0')\"\n",
              "              title=\"Convert this dataframe to an interactive table.\"\n",
              "              style=\"display:none;\">\n",
              "        \n",
              "  <svg xmlns=\"http://www.w3.org/2000/svg\" height=\"24px\"viewBox=\"0 0 24 24\"\n",
              "       width=\"24px\">\n",
              "    <path d=\"M0 0h24v24H0V0z\" fill=\"none\"/>\n",
              "    <path d=\"M18.56 5.44l.94 2.06.94-2.06 2.06-.94-2.06-.94-.94-2.06-.94 2.06-2.06.94zm-11 1L8.5 8.5l.94-2.06 2.06-.94-2.06-.94L8.5 2.5l-.94 2.06-2.06.94zm10 10l.94 2.06.94-2.06 2.06-.94-2.06-.94-.94-2.06-.94 2.06-2.06.94z\"/><path d=\"M17.41 7.96l-1.37-1.37c-.4-.4-.92-.59-1.43-.59-.52 0-1.04.2-1.43.59L10.3 9.45l-7.72 7.72c-.78.78-.78 2.05 0 2.83L4 21.41c.39.39.9.59 1.41.59.51 0 1.02-.2 1.41-.59l7.78-7.78 2.81-2.81c.8-.78.8-2.07 0-2.86zM5.41 20L4 18.59l7.72-7.72 1.47 1.35L5.41 20z\"/>\n",
              "  </svg>\n",
              "      </button>\n",
              "      \n",
              "  <style>\n",
              "    .colab-df-container {\n",
              "      display:flex;\n",
              "      flex-wrap:wrap;\n",
              "      gap: 12px;\n",
              "    }\n",
              "\n",
              "    .colab-df-convert {\n",
              "      background-color: #E8F0FE;\n",
              "      border: none;\n",
              "      border-radius: 50%;\n",
              "      cursor: pointer;\n",
              "      display: none;\n",
              "      fill: #1967D2;\n",
              "      height: 32px;\n",
              "      padding: 0 0 0 0;\n",
              "      width: 32px;\n",
              "    }\n",
              "\n",
              "    .colab-df-convert:hover {\n",
              "      background-color: #E2EBFA;\n",
              "      box-shadow: 0px 1px 2px rgba(60, 64, 67, 0.3), 0px 1px 3px 1px rgba(60, 64, 67, 0.15);\n",
              "      fill: #174EA6;\n",
              "    }\n",
              "\n",
              "    [theme=dark] .colab-df-convert {\n",
              "      background-color: #3B4455;\n",
              "      fill: #D2E3FC;\n",
              "    }\n",
              "\n",
              "    [theme=dark] .colab-df-convert:hover {\n",
              "      background-color: #434B5C;\n",
              "      box-shadow: 0px 1px 3px 1px rgba(0, 0, 0, 0.15);\n",
              "      filter: drop-shadow(0px 1px 2px rgba(0, 0, 0, 0.3));\n",
              "      fill: #FFFFFF;\n",
              "    }\n",
              "  </style>\n",
              "\n",
              "      <script>\n",
              "        const buttonEl =\n",
              "          document.querySelector('#df-dbead9bf-4163-40b0-9d06-fa52c863dad0 button.colab-df-convert');\n",
              "        buttonEl.style.display =\n",
              "          google.colab.kernel.accessAllowed ? 'block' : 'none';\n",
              "\n",
              "        async function convertToInteractive(key) {\n",
              "          const element = document.querySelector('#df-dbead9bf-4163-40b0-9d06-fa52c863dad0');\n",
              "          const dataTable =\n",
              "            await google.colab.kernel.invokeFunction('convertToInteractive',\n",
              "                                                     [key], {});\n",
              "          if (!dataTable) return;\n",
              "\n",
              "          const docLinkHtml = 'Like what you see? Visit the ' +\n",
              "            '<a target=\"_blank\" href=https://colab.research.google.com/notebooks/data_table.ipynb>data table notebook</a>'\n",
              "            + ' to learn more about interactive tables.';\n",
              "          element.innerHTML = '';\n",
              "          dataTable['output_type'] = 'display_data';\n",
              "          await google.colab.output.renderOutput(dataTable, element);\n",
              "          const docLink = document.createElement('div');\n",
              "          docLink.innerHTML = docLinkHtml;\n",
              "          element.appendChild(docLink);\n",
              "        }\n",
              "      </script>\n",
              "    </div>\n",
              "  </div>\n",
              "  "
            ]
          },
          "metadata": {},
          "execution_count": 31
        }
      ]
    },
    {
      "cell_type": "markdown",
      "source": [
        "**ILOC**: Forma de acceder a elementos únicos, donde puede acceder a la primera fila y la primera columna"
      ],
      "metadata": {
        "id": "vjScdCVTSEM4"
      }
    },
    {
      "cell_type": "code",
      "source": [
        "#Ejemplo de la funcion iloc\n",
        "df.iloc[0, 0]"
      ],
      "metadata": {
        "colab": {
          "base_uri": "https://localhost:8080/",
          "height": 35
        },
        "id": "dLK4XdOnR-sh",
        "outputId": "8a05904f-07b5-46ff-da66-7449d3c4c828"
      },
      "execution_count": null,
      "outputs": [
        {
          "output_type": "execute_result",
          "data": {
            "text/plain": [
              "'Michael Jackson'"
            ],
            "application/vnd.google.colaboratory.intrinsic+json": {
              "type": "string"
            }
          },
          "metadata": {},
          "execution_count": 32
        }
      ]
    },
    {
      "cell_type": "code",
      "source": [
        "#Ejercicio para acceder al 2do registo de la 1er columna\n",
        "print(df.iloc[1,0])\n",
        "\n",
        "#Ejercicio para acceder al 1er registo de la 3er columna\n",
        "print(df.iloc[0,2])\n",
        "\n",
        "#Ejercicio para acceder al 2do registo de la 3er columna\n",
        "print(df.iloc[1,2])"
      ],
      "metadata": {
        "colab": {
          "base_uri": "https://localhost:8080/"
        },
        "id": "lmAZtB0YSTT6",
        "outputId": "b4d54d7e-6bbc-43c9-82f9-eb388bdd43c0"
      },
      "execution_count": null,
      "outputs": [
        {
          "output_type": "stream",
          "name": "stdout",
          "text": [
            "AC/DC\n",
            "1982\n",
            "1980\n"
          ]
        }
      ]
    },
    {
      "cell_type": "code",
      "source": [
        "#Ejercicios para acceder a un registro utilizando la columna y rango\n",
        "print(df.loc[1, 'Artist'])\n",
        "print(df.loc[0, 'Released'])\n",
        "print(df.loc[1, 'Released'])"
      ],
      "metadata": {
        "colab": {
          "base_uri": "https://localhost:8080/"
        },
        "id": "CybOM7pASwYP",
        "outputId": "44218f05-f52a-4905-a53e-095750951605"
      },
      "execution_count": null,
      "outputs": [
        {
          "output_type": "stream",
          "name": "stdout",
          "text": [
            "AC/DC\n",
            "1982\n",
            "1980\n"
          ]
        }
      ]
    },
    {
      "cell_type": "code",
      "source": [
        "#Ejercicios para filtrar informacion utilizando el nombre del dataframe\n",
        "df.loc[0:2, 'Artist':'Released']"
      ],
      "metadata": {
        "colab": {
          "base_uri": "https://localhost:8080/",
          "height": 143
        },
        "id": "RKBdszkqTBfz",
        "outputId": "76973b19-359d-4360-c65d-2295db168a43"
      },
      "execution_count": null,
      "outputs": [
        {
          "output_type": "execute_result",
          "data": {
            "text/plain": [
              "            Artist                      Album  Released\n",
              "0  Michael Jackson                   Thriller      1982\n",
              "1            AC/DC              Back in Black      1980\n",
              "2       Pink Floyd  The Dark Side of the Moon      1973"
            ],
            "text/html": [
              "\n",
              "  <div id=\"df-0fcaf071-647c-48ba-b2d7-28111a05a779\">\n",
              "    <div class=\"colab-df-container\">\n",
              "      <div>\n",
              "<style scoped>\n",
              "    .dataframe tbody tr th:only-of-type {\n",
              "        vertical-align: middle;\n",
              "    }\n",
              "\n",
              "    .dataframe tbody tr th {\n",
              "        vertical-align: top;\n",
              "    }\n",
              "\n",
              "    .dataframe thead th {\n",
              "        text-align: right;\n",
              "    }\n",
              "</style>\n",
              "<table border=\"1\" class=\"dataframe\">\n",
              "  <thead>\n",
              "    <tr style=\"text-align: right;\">\n",
              "      <th></th>\n",
              "      <th>Artist</th>\n",
              "      <th>Album</th>\n",
              "      <th>Released</th>\n",
              "    </tr>\n",
              "  </thead>\n",
              "  <tbody>\n",
              "    <tr>\n",
              "      <th>0</th>\n",
              "      <td>Michael Jackson</td>\n",
              "      <td>Thriller</td>\n",
              "      <td>1982</td>\n",
              "    </tr>\n",
              "    <tr>\n",
              "      <th>1</th>\n",
              "      <td>AC/DC</td>\n",
              "      <td>Back in Black</td>\n",
              "      <td>1980</td>\n",
              "    </tr>\n",
              "    <tr>\n",
              "      <th>2</th>\n",
              "      <td>Pink Floyd</td>\n",
              "      <td>The Dark Side of the Moon</td>\n",
              "      <td>1973</td>\n",
              "    </tr>\n",
              "  </tbody>\n",
              "</table>\n",
              "</div>\n",
              "      <button class=\"colab-df-convert\" onclick=\"convertToInteractive('df-0fcaf071-647c-48ba-b2d7-28111a05a779')\"\n",
              "              title=\"Convert this dataframe to an interactive table.\"\n",
              "              style=\"display:none;\">\n",
              "        \n",
              "  <svg xmlns=\"http://www.w3.org/2000/svg\" height=\"24px\"viewBox=\"0 0 24 24\"\n",
              "       width=\"24px\">\n",
              "    <path d=\"M0 0h24v24H0V0z\" fill=\"none\"/>\n",
              "    <path d=\"M18.56 5.44l.94 2.06.94-2.06 2.06-.94-2.06-.94-.94-2.06-.94 2.06-2.06.94zm-11 1L8.5 8.5l.94-2.06 2.06-.94-2.06-.94L8.5 2.5l-.94 2.06-2.06.94zm10 10l.94 2.06.94-2.06 2.06-.94-2.06-.94-.94-2.06-.94 2.06-2.06.94z\"/><path d=\"M17.41 7.96l-1.37-1.37c-.4-.4-.92-.59-1.43-.59-.52 0-1.04.2-1.43.59L10.3 9.45l-7.72 7.72c-.78.78-.78 2.05 0 2.83L4 21.41c.39.39.9.59 1.41.59.51 0 1.02-.2 1.41-.59l7.78-7.78 2.81-2.81c.8-.78.8-2.07 0-2.86zM5.41 20L4 18.59l7.72-7.72 1.47 1.35L5.41 20z\"/>\n",
              "  </svg>\n",
              "      </button>\n",
              "      \n",
              "  <style>\n",
              "    .colab-df-container {\n",
              "      display:flex;\n",
              "      flex-wrap:wrap;\n",
              "      gap: 12px;\n",
              "    }\n",
              "\n",
              "    .colab-df-convert {\n",
              "      background-color: #E8F0FE;\n",
              "      border: none;\n",
              "      border-radius: 50%;\n",
              "      cursor: pointer;\n",
              "      display: none;\n",
              "      fill: #1967D2;\n",
              "      height: 32px;\n",
              "      padding: 0 0 0 0;\n",
              "      width: 32px;\n",
              "    }\n",
              "\n",
              "    .colab-df-convert:hover {\n",
              "      background-color: #E2EBFA;\n",
              "      box-shadow: 0px 1px 2px rgba(60, 64, 67, 0.3), 0px 1px 3px 1px rgba(60, 64, 67, 0.15);\n",
              "      fill: #174EA6;\n",
              "    }\n",
              "\n",
              "    [theme=dark] .colab-df-convert {\n",
              "      background-color: #3B4455;\n",
              "      fill: #D2E3FC;\n",
              "    }\n",
              "\n",
              "    [theme=dark] .colab-df-convert:hover {\n",
              "      background-color: #434B5C;\n",
              "      box-shadow: 0px 1px 3px 1px rgba(0, 0, 0, 0.15);\n",
              "      filter: drop-shadow(0px 1px 2px rgba(0, 0, 0, 0.3));\n",
              "      fill: #FFFFFF;\n",
              "    }\n",
              "  </style>\n",
              "\n",
              "      <script>\n",
              "        const buttonEl =\n",
              "          document.querySelector('#df-0fcaf071-647c-48ba-b2d7-28111a05a779 button.colab-df-convert');\n",
              "        buttonEl.style.display =\n",
              "          google.colab.kernel.accessAllowed ? 'block' : 'none';\n",
              "\n",
              "        async function convertToInteractive(key) {\n",
              "          const element = document.querySelector('#df-0fcaf071-647c-48ba-b2d7-28111a05a779');\n",
              "          const dataTable =\n",
              "            await google.colab.kernel.invokeFunction('convertToInteractive',\n",
              "                                                     [key], {});\n",
              "          if (!dataTable) return;\n",
              "\n",
              "          const docLinkHtml = 'Like what you see? Visit the ' +\n",
              "            '<a target=\"_blank\" href=https://colab.research.google.com/notebooks/data_table.ipynb>data table notebook</a>'\n",
              "            + ' to learn more about interactive tables.';\n",
              "          element.innerHTML = '';\n",
              "          dataTable['output_type'] = 'display_data';\n",
              "          await google.colab.output.renderOutput(dataTable, element);\n",
              "          const docLink = document.createElement('div');\n",
              "          docLink.innerHTML = docLinkHtml;\n",
              "          element.appendChild(docLink);\n",
              "        }\n",
              "      </script>\n",
              "    </div>\n",
              "  </div>\n",
              "  "
            ]
          },
          "metadata": {},
          "execution_count": 35
        }
      ]
    },
    {
      "cell_type": "markdown",
      "source": [
        "**--QUIZ DE DATAFRAMES--**"
      ],
      "metadata": {
        "id": "pm414fOYTXwc"
      }
    },
    {
      "cell_type": "code",
      "source": [
        "#QUIZ: Utilizar q para almacenar la columna Rating como un dataframe\n",
        "q = df[['Rating']]\n",
        "q"
      ],
      "metadata": {
        "colab": {
          "base_uri": "https://localhost:8080/",
          "height": 300
        },
        "id": "Yti7ZjELTeGz",
        "outputId": "9435072d-89ce-4e80-c210-e930ef5f413e"
      },
      "execution_count": null,
      "outputs": [
        {
          "output_type": "execute_result",
          "data": {
            "text/plain": [
              "   Rating\n",
              "0    10.0\n",
              "1     9.5\n",
              "2     9.0\n",
              "3     8.5\n",
              "4     8.0\n",
              "5     7.5\n",
              "6     7.0\n",
              "7     6.5"
            ],
            "text/html": [
              "\n",
              "  <div id=\"df-0c0043bb-d55e-4cb7-9a5e-9e984a650e61\">\n",
              "    <div class=\"colab-df-container\">\n",
              "      <div>\n",
              "<style scoped>\n",
              "    .dataframe tbody tr th:only-of-type {\n",
              "        vertical-align: middle;\n",
              "    }\n",
              "\n",
              "    .dataframe tbody tr th {\n",
              "        vertical-align: top;\n",
              "    }\n",
              "\n",
              "    .dataframe thead th {\n",
              "        text-align: right;\n",
              "    }\n",
              "</style>\n",
              "<table border=\"1\" class=\"dataframe\">\n",
              "  <thead>\n",
              "    <tr style=\"text-align: right;\">\n",
              "      <th></th>\n",
              "      <th>Rating</th>\n",
              "    </tr>\n",
              "  </thead>\n",
              "  <tbody>\n",
              "    <tr>\n",
              "      <th>0</th>\n",
              "      <td>10.0</td>\n",
              "    </tr>\n",
              "    <tr>\n",
              "      <th>1</th>\n",
              "      <td>9.5</td>\n",
              "    </tr>\n",
              "    <tr>\n",
              "      <th>2</th>\n",
              "      <td>9.0</td>\n",
              "    </tr>\n",
              "    <tr>\n",
              "      <th>3</th>\n",
              "      <td>8.5</td>\n",
              "    </tr>\n",
              "    <tr>\n",
              "      <th>4</th>\n",
              "      <td>8.0</td>\n",
              "    </tr>\n",
              "    <tr>\n",
              "      <th>5</th>\n",
              "      <td>7.5</td>\n",
              "    </tr>\n",
              "    <tr>\n",
              "      <th>6</th>\n",
              "      <td>7.0</td>\n",
              "    </tr>\n",
              "    <tr>\n",
              "      <th>7</th>\n",
              "      <td>6.5</td>\n",
              "    </tr>\n",
              "  </tbody>\n",
              "</table>\n",
              "</div>\n",
              "      <button class=\"colab-df-convert\" onclick=\"convertToInteractive('df-0c0043bb-d55e-4cb7-9a5e-9e984a650e61')\"\n",
              "              title=\"Convert this dataframe to an interactive table.\"\n",
              "              style=\"display:none;\">\n",
              "        \n",
              "  <svg xmlns=\"http://www.w3.org/2000/svg\" height=\"24px\"viewBox=\"0 0 24 24\"\n",
              "       width=\"24px\">\n",
              "    <path d=\"M0 0h24v24H0V0z\" fill=\"none\"/>\n",
              "    <path d=\"M18.56 5.44l.94 2.06.94-2.06 2.06-.94-2.06-.94-.94-2.06-.94 2.06-2.06.94zm-11 1L8.5 8.5l.94-2.06 2.06-.94-2.06-.94L8.5 2.5l-.94 2.06-2.06.94zm10 10l.94 2.06.94-2.06 2.06-.94-2.06-.94-.94-2.06-.94 2.06-2.06.94z\"/><path d=\"M17.41 7.96l-1.37-1.37c-.4-.4-.92-.59-1.43-.59-.52 0-1.04.2-1.43.59L10.3 9.45l-7.72 7.72c-.78.78-.78 2.05 0 2.83L4 21.41c.39.39.9.59 1.41.59.51 0 1.02-.2 1.41-.59l7.78-7.78 2.81-2.81c.8-.78.8-2.07 0-2.86zM5.41 20L4 18.59l7.72-7.72 1.47 1.35L5.41 20z\"/>\n",
              "  </svg>\n",
              "      </button>\n",
              "      \n",
              "  <style>\n",
              "    .colab-df-container {\n",
              "      display:flex;\n",
              "      flex-wrap:wrap;\n",
              "      gap: 12px;\n",
              "    }\n",
              "\n",
              "    .colab-df-convert {\n",
              "      background-color: #E8F0FE;\n",
              "      border: none;\n",
              "      border-radius: 50%;\n",
              "      cursor: pointer;\n",
              "      display: none;\n",
              "      fill: #1967D2;\n",
              "      height: 32px;\n",
              "      padding: 0 0 0 0;\n",
              "      width: 32px;\n",
              "    }\n",
              "\n",
              "    .colab-df-convert:hover {\n",
              "      background-color: #E2EBFA;\n",
              "      box-shadow: 0px 1px 2px rgba(60, 64, 67, 0.3), 0px 1px 3px 1px rgba(60, 64, 67, 0.15);\n",
              "      fill: #174EA6;\n",
              "    }\n",
              "\n",
              "    [theme=dark] .colab-df-convert {\n",
              "      background-color: #3B4455;\n",
              "      fill: #D2E3FC;\n",
              "    }\n",
              "\n",
              "    [theme=dark] .colab-df-convert:hover {\n",
              "      background-color: #434B5C;\n",
              "      box-shadow: 0px 1px 3px 1px rgba(0, 0, 0, 0.15);\n",
              "      filter: drop-shadow(0px 1px 2px rgba(0, 0, 0, 0.3));\n",
              "      fill: #FFFFFF;\n",
              "    }\n",
              "  </style>\n",
              "\n",
              "      <script>\n",
              "        const buttonEl =\n",
              "          document.querySelector('#df-0c0043bb-d55e-4cb7-9a5e-9e984a650e61 button.colab-df-convert');\n",
              "        buttonEl.style.display =\n",
              "          google.colab.kernel.accessAllowed ? 'block' : 'none';\n",
              "\n",
              "        async function convertToInteractive(key) {\n",
              "          const element = document.querySelector('#df-0c0043bb-d55e-4cb7-9a5e-9e984a650e61');\n",
              "          const dataTable =\n",
              "            await google.colab.kernel.invokeFunction('convertToInteractive',\n",
              "                                                     [key], {});\n",
              "          if (!dataTable) return;\n",
              "\n",
              "          const docLinkHtml = 'Like what you see? Visit the ' +\n",
              "            '<a target=\"_blank\" href=https://colab.research.google.com/notebooks/data_table.ipynb>data table notebook</a>'\n",
              "            + ' to learn more about interactive tables.';\n",
              "          element.innerHTML = '';\n",
              "          dataTable['output_type'] = 'display_data';\n",
              "          await google.colab.output.renderOutput(dataTable, element);\n",
              "          const docLink = document.createElement('div');\n",
              "          docLink.innerHTML = docLinkHtml;\n",
              "          element.appendChild(docLink);\n",
              "        }\n",
              "      </script>\n",
              "    </div>\n",
              "  </div>\n",
              "  "
            ]
          },
          "metadata": {},
          "execution_count": 36
        }
      ]
    },
    {
      "cell_type": "code",
      "source": [
        "#QUIZ: Asignar a la variable q a un dataframe de las columnas Released y Artist\n",
        "q = df[['Released', 'Artist']]\n",
        "q"
      ],
      "metadata": {
        "colab": {
          "base_uri": "https://localhost:8080/",
          "height": 300
        },
        "id": "Qbm3t5eeTqJN",
        "outputId": "e312f738-eda4-4209-af4e-0ea05c8d761f"
      },
      "execution_count": null,
      "outputs": [
        {
          "output_type": "execute_result",
          "data": {
            "text/plain": [
              "   Released           Artist\n",
              "0      1982  Michael Jackson\n",
              "1      1980            AC/DC\n",
              "2      1973       Pink Floyd\n",
              "3      1992  Whitney Houston\n",
              "4      1977        Meat Loaf\n",
              "5      1976           Eagles\n",
              "6      1977         Bee Gees\n",
              "7      1977    Fleetwood Mac"
            ],
            "text/html": [
              "\n",
              "  <div id=\"df-34b75105-77da-4514-8e99-f19bcae6ca7f\">\n",
              "    <div class=\"colab-df-container\">\n",
              "      <div>\n",
              "<style scoped>\n",
              "    .dataframe tbody tr th:only-of-type {\n",
              "        vertical-align: middle;\n",
              "    }\n",
              "\n",
              "    .dataframe tbody tr th {\n",
              "        vertical-align: top;\n",
              "    }\n",
              "\n",
              "    .dataframe thead th {\n",
              "        text-align: right;\n",
              "    }\n",
              "</style>\n",
              "<table border=\"1\" class=\"dataframe\">\n",
              "  <thead>\n",
              "    <tr style=\"text-align: right;\">\n",
              "      <th></th>\n",
              "      <th>Released</th>\n",
              "      <th>Artist</th>\n",
              "    </tr>\n",
              "  </thead>\n",
              "  <tbody>\n",
              "    <tr>\n",
              "      <th>0</th>\n",
              "      <td>1982</td>\n",
              "      <td>Michael Jackson</td>\n",
              "    </tr>\n",
              "    <tr>\n",
              "      <th>1</th>\n",
              "      <td>1980</td>\n",
              "      <td>AC/DC</td>\n",
              "    </tr>\n",
              "    <tr>\n",
              "      <th>2</th>\n",
              "      <td>1973</td>\n",
              "      <td>Pink Floyd</td>\n",
              "    </tr>\n",
              "    <tr>\n",
              "      <th>3</th>\n",
              "      <td>1992</td>\n",
              "      <td>Whitney Houston</td>\n",
              "    </tr>\n",
              "    <tr>\n",
              "      <th>4</th>\n",
              "      <td>1977</td>\n",
              "      <td>Meat Loaf</td>\n",
              "    </tr>\n",
              "    <tr>\n",
              "      <th>5</th>\n",
              "      <td>1976</td>\n",
              "      <td>Eagles</td>\n",
              "    </tr>\n",
              "    <tr>\n",
              "      <th>6</th>\n",
              "      <td>1977</td>\n",
              "      <td>Bee Gees</td>\n",
              "    </tr>\n",
              "    <tr>\n",
              "      <th>7</th>\n",
              "      <td>1977</td>\n",
              "      <td>Fleetwood Mac</td>\n",
              "    </tr>\n",
              "  </tbody>\n",
              "</table>\n",
              "</div>\n",
              "      <button class=\"colab-df-convert\" onclick=\"convertToInteractive('df-34b75105-77da-4514-8e99-f19bcae6ca7f')\"\n",
              "              title=\"Convert this dataframe to an interactive table.\"\n",
              "              style=\"display:none;\">\n",
              "        \n",
              "  <svg xmlns=\"http://www.w3.org/2000/svg\" height=\"24px\"viewBox=\"0 0 24 24\"\n",
              "       width=\"24px\">\n",
              "    <path d=\"M0 0h24v24H0V0z\" fill=\"none\"/>\n",
              "    <path d=\"M18.56 5.44l.94 2.06.94-2.06 2.06-.94-2.06-.94-.94-2.06-.94 2.06-2.06.94zm-11 1L8.5 8.5l.94-2.06 2.06-.94-2.06-.94L8.5 2.5l-.94 2.06-2.06.94zm10 10l.94 2.06.94-2.06 2.06-.94-2.06-.94-.94-2.06-.94 2.06-2.06.94z\"/><path d=\"M17.41 7.96l-1.37-1.37c-.4-.4-.92-.59-1.43-.59-.52 0-1.04.2-1.43.59L10.3 9.45l-7.72 7.72c-.78.78-.78 2.05 0 2.83L4 21.41c.39.39.9.59 1.41.59.51 0 1.02-.2 1.41-.59l7.78-7.78 2.81-2.81c.8-.78.8-2.07 0-2.86zM5.41 20L4 18.59l7.72-7.72 1.47 1.35L5.41 20z\"/>\n",
              "  </svg>\n",
              "      </button>\n",
              "      \n",
              "  <style>\n",
              "    .colab-df-container {\n",
              "      display:flex;\n",
              "      flex-wrap:wrap;\n",
              "      gap: 12px;\n",
              "    }\n",
              "\n",
              "    .colab-df-convert {\n",
              "      background-color: #E8F0FE;\n",
              "      border: none;\n",
              "      border-radius: 50%;\n",
              "      cursor: pointer;\n",
              "      display: none;\n",
              "      fill: #1967D2;\n",
              "      height: 32px;\n",
              "      padding: 0 0 0 0;\n",
              "      width: 32px;\n",
              "    }\n",
              "\n",
              "    .colab-df-convert:hover {\n",
              "      background-color: #E2EBFA;\n",
              "      box-shadow: 0px 1px 2px rgba(60, 64, 67, 0.3), 0px 1px 3px 1px rgba(60, 64, 67, 0.15);\n",
              "      fill: #174EA6;\n",
              "    }\n",
              "\n",
              "    [theme=dark] .colab-df-convert {\n",
              "      background-color: #3B4455;\n",
              "      fill: #D2E3FC;\n",
              "    }\n",
              "\n",
              "    [theme=dark] .colab-df-convert:hover {\n",
              "      background-color: #434B5C;\n",
              "      box-shadow: 0px 1px 3px 1px rgba(0, 0, 0, 0.15);\n",
              "      filter: drop-shadow(0px 1px 2px rgba(0, 0, 0, 0.3));\n",
              "      fill: #FFFFFF;\n",
              "    }\n",
              "  </style>\n",
              "\n",
              "      <script>\n",
              "        const buttonEl =\n",
              "          document.querySelector('#df-34b75105-77da-4514-8e99-f19bcae6ca7f button.colab-df-convert');\n",
              "        buttonEl.style.display =\n",
              "          google.colab.kernel.accessAllowed ? 'block' : 'none';\n",
              "\n",
              "        async function convertToInteractive(key) {\n",
              "          const element = document.querySelector('#df-34b75105-77da-4514-8e99-f19bcae6ca7f');\n",
              "          const dataTable =\n",
              "            await google.colab.kernel.invokeFunction('convertToInteractive',\n",
              "                                                     [key], {});\n",
              "          if (!dataTable) return;\n",
              "\n",
              "          const docLinkHtml = 'Like what you see? Visit the ' +\n",
              "            '<a target=\"_blank\" href=https://colab.research.google.com/notebooks/data_table.ipynb>data table notebook</a>'\n",
              "            + ' to learn more about interactive tables.';\n",
              "          element.innerHTML = '';\n",
              "          dataTable['output_type'] = 'display_data';\n",
              "          await google.colab.output.renderOutput(dataTable, element);\n",
              "          const docLink = document.createElement('div');\n",
              "          docLink.innerHTML = docLinkHtml;\n",
              "          element.appendChild(docLink);\n",
              "        }\n",
              "      </script>\n",
              "    </div>\n",
              "  </div>\n",
              "  "
            ]
          },
          "metadata": {},
          "execution_count": 38
        }
      ]
    },
    {
      "cell_type": "code",
      "source": [
        "#QUIZ: Acceder al 2do registro de la 3er columna\n",
        "df.iloc[1, 2]  "
      ],
      "metadata": {
        "colab": {
          "base_uri": "https://localhost:8080/"
        },
        "id": "ecm9RYG9T2fU",
        "outputId": "0dfe503b-802e-4bcc-9c41-9f1930febd2d"
      },
      "execution_count": null,
      "outputs": [
        {
          "output_type": "execute_result",
          "data": {
            "text/plain": [
              "1980"
            ]
          },
          "metadata": {},
          "execution_count": 39
        }
      ]
    },
    {
      "cell_type": "markdown",
      "source": [
        "**-- RESULTADO DE EXAMEN: Modulo 04 --**\n",
        "\n",
        "![Modulo04.png](data:image/png;base64,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)"
      ],
      "metadata": {
        "id": "A8lXaVyUUQEv"
      }
    }
  ]
}