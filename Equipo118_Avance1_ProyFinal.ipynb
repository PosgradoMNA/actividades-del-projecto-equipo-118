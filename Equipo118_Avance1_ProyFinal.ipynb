{
  "nbformat": 4,
  "nbformat_minor": 0,
  "metadata": {
    "colab": {
      "provenance": [],
      "include_colab_link": true
    },
    "kernelspec": {
      "name": "python3",
      "display_name": "Python 3"
    },
    "language_info": {
      "name": "python"
    }
  },
  "cells": [
    {
      "cell_type": "markdown",
      "metadata": {
        "id": "view-in-github",
        "colab_type": "text"
      },
      "source": [
        "<a href=\"https://colab.research.google.com/github/PosgradoMNA/actividades-del-projecto-equipo-118/blob/main/Equipo118_Avance1_ProyFinal.ipynb\" target=\"_parent\"><img src=\"https://colab.research.google.com/assets/colab-badge.svg\" alt=\"Open In Colab\"/></a>"
      ]
    },
    {
      "cell_type": "markdown",
      "source": [
        "<div id='imports'\n",
        "     style = \"display: fill;\n",
        "              border-radius: 10px;\n",
        "              background-color: #024993;\">\n",
        "  <h1 style = \"padding: 15px; \n",
        "                 color: White;\n",
        "                 text-align: center;\n",
        "                 font-family: Arial;\">Equipo 118: Proyecto final - Avance 1\n",
        "   </h2>\n",
        "</div>"
      ],
      "metadata": {
        "id": "Jq3LruDPyW1r"
      }
    },
    {
      "cell_type": "markdown",
      "source": [
        "Octavio Alberto García Morán A01213977\n",
        "\n",
        "Diana Valeria García Briones A01793006"
      ],
      "metadata": {
        "id": "U1XMigjJyqcT"
      }
    },
    {
      "cell_type": "markdown",
      "source": [
        "**1. Nombre que caracteriza a la base de datos:** Datos de Incidentes Delictivos.\n",
        "\n",
        "**2. Organización que lo generó:** Secretariado Ejecutivo del Sistema Nacional de Seguridad Pública.\n",
        "\n",
        "**3. Enlace de Internet donde se puedan descargar el base de datos en línea:** https://www.gob.mx/sesnsp/acciones-y-programas/datos-abiertos-de-incidencia-delictiva?state=published\n",
        "\n",
        "**4. Describe el conjunto de datos. ¿Qué datos contiene?:**\n",
        "Conjunto de datos que contiene información sobre los reportes de incidencia delictiva desde enero del 2015 hasta septiembre del 2022, por cada Estado de la República Mexicana.\n",
        "\n",
        "El conjunto cuenta con diferentes atributos tanto de tipo integrer, date y strings, donde se encuentran: Año, Entidad, Bien jurídico afectado, Tipo de delito, Subtipo de delito, Modalidad, Sexo y Rango de edad de la persona afectada.\n",
        "\n",
        "**5. ¿Cuáles son algunas de las preguntas de investigación que podría responder con estos datos?**\n",
        "1. ¿Cantidad de incidencias por Estado?\n",
        "2. ¿Tipos de delito con mayor incidencias?\n",
        "3. ¿Cuál es la mayor temporada en la que se cometen delitos?\n",
        "4. ¿Cuáles son los grupos más vulnerables y ante que delito?\n",
        "5. Tipo de delito que mayor afecta al género masculino y femenino.\n",
        "6.  Tipo de delito que mayor afecta a los menores y mayores de edad.\n",
        "7. ¿Cuál es la modalidad más utilizada y en que delitos?\n",
        "8. ¿Existe algún patrón o relación entre el tipo de delito, modalidad y género?\n",
        "\n",
        "\n",
        "**6. Qué actor (empresa, sector de la sociedad, organismo descentralizado, gobierno, etc.) estaría interesado en las preguntas mencionadas que identificó?**\n",
        "\n",
        "Creemos que esta información podría ser de interés a diferentes sectores, principalmente a gobierno, pues podría permitirles encontrar patrones entre los datos o realizar predicciones y con esto crear campañas de prevención ante determinado delito o incrementar la seguridad en/para los sectores vulnerables.\n",
        "\n",
        "Otro sector que podría estar interesado sería el de los investigadores, sociólogos o politólogos que buscan encontrar relaciones en los delitos con el comportamiento individual, social o a través del tiempo.\n",
        "\n",
        "Por último, este conjunto también funge como carácter informativo para la sociedad mexicana y asociaciones civiles que deseen tener un contexto o interpretación de los datos que comparte el Secretariado Ejecutivo del Sistema Nacional de Seguridad Pública para un mejor entendimiento."
      ],
      "metadata": {
        "id": "vaTu0QWnjkF8"
      }
    }
  ]
}