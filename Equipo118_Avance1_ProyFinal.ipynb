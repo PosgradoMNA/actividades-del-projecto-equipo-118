{
  "nbformat": 4,
  "nbformat_minor": 0,
  "metadata": {
    "colab": {
      "provenance": [],
      "authorship_tag": "ABX9TyNaRVVgNF5qE7rYRIugfxUk",
      "include_colab_link": true
    },
    "kernelspec": {
      "name": "python3",
      "display_name": "Python 3"
    },
    "language_info": {
      "name": "python"
    }
  },
  "cells": [
    {
      "cell_type": "markdown",
      "metadata": {
        "id": "view-in-github",
        "colab_type": "text"
      },
      "source": [
        "<a href=\"https://colab.research.google.com/github/PosgradoMNA/actividades-del-projecto-equipo-118/blob/main/Equipo118_Avance1_ProyFinal.ipynb\" target=\"_parent\"><img src=\"https://colab.research.google.com/assets/colab-badge.svg\" alt=\"Open In Colab\"/></a>"
      ]
    },
    {
      "cell_type": "markdown",
      "source": [
        "<div id='imports'\n",
        "     style = \"display: fill;\n",
        "              border-radius: 10px;\n",
        "              background-color: #024993;\">\n",
        "  <h1 style = \"padding: 15px; \n",
        "                 color: White;\n",
        "                 text-align: center;\n",
        "                 font-family: Arial;\">Equipo 118: Proyecto final - Avance 1\n",
        "   </h2>\n",
        "</div>"
      ],
      "metadata": {
        "id": "Jq3LruDPyW1r"
      }
    },
    {
      "cell_type": "code",
      "source": [],
      "metadata": {
        "id": "ise2JGxAyGPR"
      },
      "execution_count": null,
      "outputs": []
    },
    {
      "cell_type": "markdown",
      "source": [],
      "metadata": {
        "id": "U1XMigjJyqcT"
      }
    }
  ]
}