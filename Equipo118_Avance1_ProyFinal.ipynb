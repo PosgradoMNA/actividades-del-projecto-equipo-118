{
  "nbformat": 4,
  "nbformat_minor": 0,
  "metadata": {
    "colab": {
      "provenance": [],
      "authorship_tag": "ABX9TyN5e10lOlKP5AZqha8VnANY",
      "include_colab_link": true
    },
    "kernelspec": {
      "name": "python3",
      "display_name": "Python 3"
    },
    "language_info": {
      "name": "python"
    }
  },
  "cells": [
    {
      "cell_type": "markdown",
      "metadata": {
        "id": "view-in-github",
        "colab_type": "text"
      },
      "source": [
        "<a href=\"https://colab.research.google.com/github/PosgradoMNA/actividades-del-projecto-equipo-118/blob/main/Equipo118_Avance1_ProyFinal.ipynb\" target=\"_parent\"><img src=\"https://colab.research.google.com/assets/colab-badge.svg\" alt=\"Open In Colab\"/></a>"
      ]
    },
    {
      "cell_type": "markdown",
      "source": [
        "<div id='imports'\n",
        "     style = \"display: fill;\n",
        "              border-radius: 10px;\n",
        "              background-color: #024993;\">\n",
        "  <h1 style = \"padding: 15px; \n",
        "                 color: White;\n",
        "                 text-align: center;\n",
        "                 font-family: Arial;\">Equipo 118: Proyecto final - Avance 1\n",
        "   </h2>\n",
        "</div>"
      ],
      "metadata": {
        "id": "Jq3LruDPyW1r"
      }
    },
    {
      "cell_type": "markdown",
      "source": [
        "Octavio Alberto García Morán A01213977\n",
        "\n",
        "Diana Valeria García Briones A01793006"
      ],
      "metadata": {
        "id": "U1XMigjJyqcT"
      }
    },
    {
      "cell_type": "markdown",
      "source": [
        "**1. Nombre que caracteriza a la base de datos:**\n",
        "\n",
        "Es una base de datos con la información histórica de los tiroteos másivos en Estados Unidos de América de 1966-2021.\n",
        "\n",
        "**2. Organización que lo generó:**\n",
        "\n",
        "Es una recopilación de datos de Wikipedia, Mother Jones, Universidad Stanford y USA Today. Se encuentra disponible en Kaggle.\n",
        "\n",
        "**3. Enlace de Internet donde se puedan descargar el base de datos en línea:**\n",
        "\n",
        "La base de datos se encuentra disponible en Kaggle:\n",
        "\n",
        "https://www.kaggle.com/datasets/zusmani/us-mass-shootings-last-50-years\n",
        "\n",
        "\n"
      ],
      "metadata": {
        "id": "vaTu0QWnjkF8"
      }
    },
    {
      "cell_type": "markdown",
      "source": [
        "**4. Describe el conjunto de datos. ¿Qué datos contiene?:**\n",
        "\n",
        "\n"
      ],
      "metadata": {
        "id": "61azul2ilfLv"
      }
    },
    {
      "cell_type": "code",
      "source": [],
      "metadata": {
        "id": "ise2JGxAyGPR"
      },
      "execution_count": null,
      "outputs": []
    }
  ]
}