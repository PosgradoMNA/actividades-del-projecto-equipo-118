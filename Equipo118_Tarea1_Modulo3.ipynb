{
  "nbformat": 4,
  "nbformat_minor": 0,
  "metadata": {
    "colab": {
      "provenance": [],
      "authorship_tag": "ABX9TyMZIji0722wmdBNs4uRTWUw",
      "include_colab_link": true
    },
    "kernelspec": {
      "name": "python3",
      "display_name": "Python 3"
    },
    "language_info": {
      "name": "python"
    }
  },
  "cells": [
    {
      "cell_type": "markdown",
      "metadata": {
        "id": "view-in-github",
        "colab_type": "text"
      },
      "source": [
        "<a href=\"https://colab.research.google.com/github/PosgradoMNA/actividades-del-projecto-equipo-118/blob/main/Equipo118_Tarea1_Modulo3.ipynb\" target=\"_parent\"><img src=\"https://colab.research.google.com/assets/colab-badge.svg\" alt=\"Open In Colab\"/></a>"
      ]
    },
    {
      "cell_type": "markdown",
      "source": [
        "**PARTE 1:**\n",
        " \n",
        "\n",
        "*Fundamentos de bases de datos para la ciencia de datos.*\n",
        "\n",
        "Se define como una base de datos a un programa o software que almacena información estructurada de una actividad, área o sector en específico con un fin determinado y a la cual se puede acceder de diferentes maneras. Su principal objetivo es almacenar, mantener y acceder a cualquier tipo de datos de forma eficiente, rápida y segura. \n",
        "\n",
        "Existen diferentes formas en las que una base de datos puede organizarse según el modelo, contenido o variabilidad; Sin embargo, las más populares son las relacionales donde los datos se organizan de forma estructurada representados por conjuntos de tablas con columnas y filas que se complementan entre sí.  \n",
        "\n",
        "Usualmente se utiliza el lenguaje de programación SQL como un marco de referencia en las bases de datos relacionales para almacenar, manipular y consultar la información, también funciona en el diseño de base de datos o para realizar análisis de la información almacenada. \n",
        "\n",
        "Las bases de datos pueden almacenarse en contenedores físicos o en la nube, siendo este último recientemente el más popular debido a que tiende a tener una mayor disponibilidad, solo se paga por el espacio que se utiliza, reduce los precios de mantenimiento de hardware y se tiene mejor control de administración. "
      ],
      "metadata": {
        "id": "w8OvqC7D5yir"
      }
    },
    {
      "cell_type": "code",
      "source": [],
      "metadata": {
        "id": "VOf18cDE540G"
      },
      "execution_count": null,
      "outputs": []
    },
    {
      "cell_type": "code",
      "execution_count": null,
      "metadata": {
        "id": "Q1FTtKAe39tT"
      },
      "outputs": [],
      "source": []
    }
  ]
}