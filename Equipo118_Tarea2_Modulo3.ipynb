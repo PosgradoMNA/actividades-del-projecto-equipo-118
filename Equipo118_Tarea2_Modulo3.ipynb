{
  "nbformat": 4,
  "nbformat_minor": 0,
  "metadata": {
    "colab": {
      "provenance": [],
      "collapsed_sections": [],
      "include_colab_link": true
    },
    "kernelspec": {
      "name": "python3",
      "display_name": "Python 3"
    },
    "language_info": {
      "name": "python"
    }
  },
  "cells": [
    {
      "cell_type": "markdown",
      "metadata": {
        "id": "view-in-github",
        "colab_type": "text"
      },
      "source": [
        "<a href=\"https://colab.research.google.com/github/PosgradoMNA/actividades-del-projecto-equipo-118/blob/main/Equipo118_Tarea2_Modulo3.ipynb\" target=\"_parent\"><img src=\"https://colab.research.google.com/assets/colab-badge.svg\" alt=\"Open In Colab\"/></a>"
      ]
    },
    {
      "cell_type": "markdown",
      "source": [
        "\n",
        "#**Actividad 1 : Semana 4**\n",
        "\n",
        "Materia:\n",
        "Ciencia y analítica de datos\n",
        "\n",
        "Fecha: 11/10/2022\n",
        "\n",
        "Integrantes:\n",
        "\n",
        "Octavio Alberto García Morán - A01213977\n",
        "\n",
        "Diana Valeria García Briones - A01793006\n",
        "\n",
        "\n",
        "\n",
        "---\n"
      ],
      "metadata": {
        "id": "GPIRGPhMM2T9"
      }
    },
    {
      "cell_type": "markdown",
      "source": [
        "##**PARTE 1: Ejercicio Guiado PCA**"
      ],
      "metadata": {
        "id": "w8OvqC7D5yir"
      }
    },
    {
      "cell_type": "markdown",
      "source": [
        "**Paso 1: Determine el número mínimo de componentes principales que representan la mayor parte de la variación en sus datos.**"
      ],
      "metadata": {
        "id": "UHaTvuO3auV1"
      }
    },
    {
      "cell_type": "code",
      "execution_count": 3,
      "metadata": {
        "id": "Q1FTtKAe39tT"
      },
      "outputs": [],
      "source": [
        "#Importación de Librerias y del conjunto de datos:\n",
        "import pandas as pd\n",
        "import numpy as np\n",
        "url = 'https://raw.githubusercontent.com/PosgradoMNA/Actividades_Aprendizaje-/main/default%20of%20credit%20card%20clients.csv'\n",
        "df1 = pd.read_csv(url)"
      ]
    },
    {
      "cell_type": "markdown",
      "source": [
        "**Muestreo de los primeros 10 registros de la base de datos**"
      ],
      "metadata": {
        "id": "ZECjv3aSxqdZ"
      }
    },
    {
      "cell_type": "code",
      "source": [
        "df1.head(5) #Validación de que los datos se importaron correctamente"
      ],
      "metadata": {
        "id": "iyrinr5dxtGr",
        "outputId": "c8069822-f948-445e-8c33-8e6c4f77e741",
        "colab": {
          "base_uri": "https://localhost:8080/",
          "height": 300
        }
      },
      "execution_count": 4,
      "outputs": [
        {
          "output_type": "execute_result",
          "data": {
            "text/plain": [
              "   ID      X1   X2   X3   X4    X5   X6   X7   X8   X9  ...      X15      X16  \\\n",
              "0   1   20000  2.0  2.0  1.0  24.0  2.0  2.0 -1.0 -1.0  ...      0.0      0.0   \n",
              "1   2  120000  2.0  2.0  2.0  26.0 -1.0  2.0  0.0  0.0  ...   3272.0   3455.0   \n",
              "2   3   90000  2.0  2.0  2.0  34.0  0.0  0.0  0.0  0.0  ...  14331.0  14948.0   \n",
              "3   4   50000  2.0  2.0  1.0  37.0  0.0  0.0  0.0  0.0  ...  28314.0  28959.0   \n",
              "4   5   50000  1.0  2.0  1.0  57.0 -1.0  0.0 -1.0  0.0  ...  20940.0  19146.0   \n",
              "\n",
              "       X17     X18      X19      X20     X21     X22     X23    Y  \n",
              "0      0.0     0.0    689.0      0.0     0.0     0.0     0.0  1.0  \n",
              "1   3261.0     0.0   1000.0   1000.0  1000.0     0.0  2000.0  1.0  \n",
              "2  15549.0  1518.0   1500.0   1000.0  1000.0  1000.0  5000.0  0.0  \n",
              "3  29547.0  2000.0   2019.0   1200.0  1100.0  1069.0  1000.0  0.0  \n",
              "4  19131.0  2000.0  36681.0  10000.0  9000.0   689.0   679.0  0.0  \n",
              "\n",
              "[5 rows x 25 columns]"
            ],
            "text/html": [
              "\n",
              "  <div id=\"df-e14064e9-6322-4853-bd3c-d15d633f307e\">\n",
              "    <div class=\"colab-df-container\">\n",
              "      <div>\n",
              "<style scoped>\n",
              "    .dataframe tbody tr th:only-of-type {\n",
              "        vertical-align: middle;\n",
              "    }\n",
              "\n",
              "    .dataframe tbody tr th {\n",
              "        vertical-align: top;\n",
              "    }\n",
              "\n",
              "    .dataframe thead th {\n",
              "        text-align: right;\n",
              "    }\n",
              "</style>\n",
              "<table border=\"1\" class=\"dataframe\">\n",
              "  <thead>\n",
              "    <tr style=\"text-align: right;\">\n",
              "      <th></th>\n",
              "      <th>ID</th>\n",
              "      <th>X1</th>\n",
              "      <th>X2</th>\n",
              "      <th>X3</th>\n",
              "      <th>X4</th>\n",
              "      <th>X5</th>\n",
              "      <th>X6</th>\n",
              "      <th>X7</th>\n",
              "      <th>X8</th>\n",
              "      <th>X9</th>\n",
              "      <th>...</th>\n",
              "      <th>X15</th>\n",
              "      <th>X16</th>\n",
              "      <th>X17</th>\n",
              "      <th>X18</th>\n",
              "      <th>X19</th>\n",
              "      <th>X20</th>\n",
              "      <th>X21</th>\n",
              "      <th>X22</th>\n",
              "      <th>X23</th>\n",
              "      <th>Y</th>\n",
              "    </tr>\n",
              "  </thead>\n",
              "  <tbody>\n",
              "    <tr>\n",
              "      <th>0</th>\n",
              "      <td>1</td>\n",
              "      <td>20000</td>\n",
              "      <td>2.0</td>\n",
              "      <td>2.0</td>\n",
              "      <td>1.0</td>\n",
              "      <td>24.0</td>\n",
              "      <td>2.0</td>\n",
              "      <td>2.0</td>\n",
              "      <td>-1.0</td>\n",
              "      <td>-1.0</td>\n",
              "      <td>...</td>\n",
              "      <td>0.0</td>\n",
              "      <td>0.0</td>\n",
              "      <td>0.0</td>\n",
              "      <td>0.0</td>\n",
              "      <td>689.0</td>\n",
              "      <td>0.0</td>\n",
              "      <td>0.0</td>\n",
              "      <td>0.0</td>\n",
              "      <td>0.0</td>\n",
              "      <td>1.0</td>\n",
              "    </tr>\n",
              "    <tr>\n",
              "      <th>1</th>\n",
              "      <td>2</td>\n",
              "      <td>120000</td>\n",
              "      <td>2.0</td>\n",
              "      <td>2.0</td>\n",
              "      <td>2.0</td>\n",
              "      <td>26.0</td>\n",
              "      <td>-1.0</td>\n",
              "      <td>2.0</td>\n",
              "      <td>0.0</td>\n",
              "      <td>0.0</td>\n",
              "      <td>...</td>\n",
              "      <td>3272.0</td>\n",
              "      <td>3455.0</td>\n",
              "      <td>3261.0</td>\n",
              "      <td>0.0</td>\n",
              "      <td>1000.0</td>\n",
              "      <td>1000.0</td>\n",
              "      <td>1000.0</td>\n",
              "      <td>0.0</td>\n",
              "      <td>2000.0</td>\n",
              "      <td>1.0</td>\n",
              "    </tr>\n",
              "    <tr>\n",
              "      <th>2</th>\n",
              "      <td>3</td>\n",
              "      <td>90000</td>\n",
              "      <td>2.0</td>\n",
              "      <td>2.0</td>\n",
              "      <td>2.0</td>\n",
              "      <td>34.0</td>\n",
              "      <td>0.0</td>\n",
              "      <td>0.0</td>\n",
              "      <td>0.0</td>\n",
              "      <td>0.0</td>\n",
              "      <td>...</td>\n",
              "      <td>14331.0</td>\n",
              "      <td>14948.0</td>\n",
              "      <td>15549.0</td>\n",
              "      <td>1518.0</td>\n",
              "      <td>1500.0</td>\n",
              "      <td>1000.0</td>\n",
              "      <td>1000.0</td>\n",
              "      <td>1000.0</td>\n",
              "      <td>5000.0</td>\n",
              "      <td>0.0</td>\n",
              "    </tr>\n",
              "    <tr>\n",
              "      <th>3</th>\n",
              "      <td>4</td>\n",
              "      <td>50000</td>\n",
              "      <td>2.0</td>\n",
              "      <td>2.0</td>\n",
              "      <td>1.0</td>\n",
              "      <td>37.0</td>\n",
              "      <td>0.0</td>\n",
              "      <td>0.0</td>\n",
              "      <td>0.0</td>\n",
              "      <td>0.0</td>\n",
              "      <td>...</td>\n",
              "      <td>28314.0</td>\n",
              "      <td>28959.0</td>\n",
              "      <td>29547.0</td>\n",
              "      <td>2000.0</td>\n",
              "      <td>2019.0</td>\n",
              "      <td>1200.0</td>\n",
              "      <td>1100.0</td>\n",
              "      <td>1069.0</td>\n",
              "      <td>1000.0</td>\n",
              "      <td>0.0</td>\n",
              "    </tr>\n",
              "    <tr>\n",
              "      <th>4</th>\n",
              "      <td>5</td>\n",
              "      <td>50000</td>\n",
              "      <td>1.0</td>\n",
              "      <td>2.0</td>\n",
              "      <td>1.0</td>\n",
              "      <td>57.0</td>\n",
              "      <td>-1.0</td>\n",
              "      <td>0.0</td>\n",
              "      <td>-1.0</td>\n",
              "      <td>0.0</td>\n",
              "      <td>...</td>\n",
              "      <td>20940.0</td>\n",
              "      <td>19146.0</td>\n",
              "      <td>19131.0</td>\n",
              "      <td>2000.0</td>\n",
              "      <td>36681.0</td>\n",
              "      <td>10000.0</td>\n",
              "      <td>9000.0</td>\n",
              "      <td>689.0</td>\n",
              "      <td>679.0</td>\n",
              "      <td>0.0</td>\n",
              "    </tr>\n",
              "  </tbody>\n",
              "</table>\n",
              "<p>5 rows × 25 columns</p>\n",
              "</div>\n",
              "      <button class=\"colab-df-convert\" onclick=\"convertToInteractive('df-e14064e9-6322-4853-bd3c-d15d633f307e')\"\n",
              "              title=\"Convert this dataframe to an interactive table.\"\n",
              "              style=\"display:none;\">\n",
              "        \n",
              "  <svg xmlns=\"http://www.w3.org/2000/svg\" height=\"24px\"viewBox=\"0 0 24 24\"\n",
              "       width=\"24px\">\n",
              "    <path d=\"M0 0h24v24H0V0z\" fill=\"none\"/>\n",
              "    <path d=\"M18.56 5.44l.94 2.06.94-2.06 2.06-.94-2.06-.94-.94-2.06-.94 2.06-2.06.94zm-11 1L8.5 8.5l.94-2.06 2.06-.94-2.06-.94L8.5 2.5l-.94 2.06-2.06.94zm10 10l.94 2.06.94-2.06 2.06-.94-2.06-.94-.94-2.06-.94 2.06-2.06.94z\"/><path d=\"M17.41 7.96l-1.37-1.37c-.4-.4-.92-.59-1.43-.59-.52 0-1.04.2-1.43.59L10.3 9.45l-7.72 7.72c-.78.78-.78 2.05 0 2.83L4 21.41c.39.39.9.59 1.41.59.51 0 1.02-.2 1.41-.59l7.78-7.78 2.81-2.81c.8-.78.8-2.07 0-2.86zM5.41 20L4 18.59l7.72-7.72 1.47 1.35L5.41 20z\"/>\n",
              "  </svg>\n",
              "      </button>\n",
              "      \n",
              "  <style>\n",
              "    .colab-df-container {\n",
              "      display:flex;\n",
              "      flex-wrap:wrap;\n",
              "      gap: 12px;\n",
              "    }\n",
              "\n",
              "    .colab-df-convert {\n",
              "      background-color: #E8F0FE;\n",
              "      border: none;\n",
              "      border-radius: 50%;\n",
              "      cursor: pointer;\n",
              "      display: none;\n",
              "      fill: #1967D2;\n",
              "      height: 32px;\n",
              "      padding: 0 0 0 0;\n",
              "      width: 32px;\n",
              "    }\n",
              "\n",
              "    .colab-df-convert:hover {\n",
              "      background-color: #E2EBFA;\n",
              "      box-shadow: 0px 1px 2px rgba(60, 64, 67, 0.3), 0px 1px 3px 1px rgba(60, 64, 67, 0.15);\n",
              "      fill: #174EA6;\n",
              "    }\n",
              "\n",
              "    [theme=dark] .colab-df-convert {\n",
              "      background-color: #3B4455;\n",
              "      fill: #D2E3FC;\n",
              "    }\n",
              "\n",
              "    [theme=dark] .colab-df-convert:hover {\n",
              "      background-color: #434B5C;\n",
              "      box-shadow: 0px 1px 3px 1px rgba(0, 0, 0, 0.15);\n",
              "      filter: drop-shadow(0px 1px 2px rgba(0, 0, 0, 0.3));\n",
              "      fill: #FFFFFF;\n",
              "    }\n",
              "  </style>\n",
              "\n",
              "      <script>\n",
              "        const buttonEl =\n",
              "          document.querySelector('#df-e14064e9-6322-4853-bd3c-d15d633f307e button.colab-df-convert');\n",
              "        buttonEl.style.display =\n",
              "          google.colab.kernel.accessAllowed ? 'block' : 'none';\n",
              "\n",
              "        async function convertToInteractive(key) {\n",
              "          const element = document.querySelector('#df-e14064e9-6322-4853-bd3c-d15d633f307e');\n",
              "          const dataTable =\n",
              "            await google.colab.kernel.invokeFunction('convertToInteractive',\n",
              "                                                     [key], {});\n",
              "          if (!dataTable) return;\n",
              "\n",
              "          const docLinkHtml = 'Like what you see? Visit the ' +\n",
              "            '<a target=\"_blank\" href=https://colab.research.google.com/notebooks/data_table.ipynb>data table notebook</a>'\n",
              "            + ' to learn more about interactive tables.';\n",
              "          element.innerHTML = '';\n",
              "          dataTable['output_type'] = 'display_data';\n",
              "          await google.colab.output.renderOutput(dataTable, element);\n",
              "          const docLink = document.createElement('div');\n",
              "          docLink.innerHTML = docLinkHtml;\n",
              "          element.appendChild(docLink);\n",
              "        }\n",
              "      </script>\n",
              "    </div>\n",
              "  </div>\n",
              "  "
            ]
          },
          "metadata": {},
          "execution_count": 4
        }
      ]
    },
    {
      "cell_type": "markdown",
      "source": [
        "**Adicionalmente, se explora la dimensión de la base de datos para identificar el número de columnas y filas, así como los diferentes tipos de variables.**"
      ],
      "metadata": {
        "id": "O9JvrDIrxvhD"
      }
    },
    {
      "cell_type": "code",
      "source": [
        "print('Dimensión del conjunto (Filas & Columnas): ',df1.shape)"
      ],
      "metadata": {
        "id": "xDetah1bxyX9",
        "outputId": "b44f16e8-98e7-4d93-9db3-542e101389ae",
        "colab": {
          "base_uri": "https://localhost:8080/"
        }
      },
      "execution_count": 5,
      "outputs": [
        {
          "output_type": "stream",
          "name": "stdout",
          "text": [
            "Dimensión del conjunto (Filas & Columnas):  (30000, 25)\n"
          ]
        }
      ]
    },
    {
      "cell_type": "code",
      "source": [
        "df1.info() #Tipos de variables"
      ],
      "metadata": {
        "id": "As883fyex3M8",
        "outputId": "e1e7b790-82e8-4228-c513-ce1b2c5397f8",
        "colab": {
          "base_uri": "https://localhost:8080/"
        }
      },
      "execution_count": 6,
      "outputs": [
        {
          "output_type": "stream",
          "name": "stdout",
          "text": [
            "<class 'pandas.core.frame.DataFrame'>\n",
            "RangeIndex: 30000 entries, 0 to 29999\n",
            "Data columns (total 25 columns):\n",
            " #   Column  Non-Null Count  Dtype  \n",
            "---  ------  --------------  -----  \n",
            " 0   ID      30000 non-null  int64  \n",
            " 1   X1      30000 non-null  int64  \n",
            " 2   X2      29999 non-null  float64\n",
            " 3   X3      29998 non-null  float64\n",
            " 4   X4      29998 non-null  float64\n",
            " 5   X5      29995 non-null  float64\n",
            " 6   X6      29997 non-null  float64\n",
            " 7   X7      29995 non-null  float64\n",
            " 8   X8      29993 non-null  float64\n",
            " 9   X9      29991 non-null  float64\n",
            " 10  X10     29984 non-null  float64\n",
            " 11  X11     29986 non-null  float64\n",
            " 12  X12     29989 non-null  float64\n",
            " 13  X13     29989 non-null  float64\n",
            " 14  X14     29987 non-null  float64\n",
            " 15  X15     29985 non-null  float64\n",
            " 16  X16     29983 non-null  float64\n",
            " 17  X17     29990 non-null  float64\n",
            " 18  X18     29992 non-null  float64\n",
            " 19  X19     29991 non-null  float64\n",
            " 20  X20     29992 non-null  float64\n",
            " 21  X21     29989 non-null  float64\n",
            " 22  X22     29989 non-null  float64\n",
            " 23  X23     29995 non-null  float64\n",
            " 24  Y       29997 non-null  float64\n",
            "dtypes: float64(23), int64(2)\n",
            "memory usage: 5.7 MB\n"
          ]
        }
      ]
    },
    {
      "cell_type": "markdown",
      "source": [
        "**NOTA: Antes de comenzar aplicar la metodología PCA se optó por hacer una limpieza de datos, pues de lo contrario, al realizar la extracción de los componentes principales, estos podrían estar sesgados o equivocados; Además que de forma teórica se representan las técnicas de reducción de dimensionalidad como una actividad sujeta a la limpieza de datos.**"
      ],
      "metadata": {
        "id": "W4WutXPf1g5D"
      }
    },
    {
      "cell_type": "markdown",
      "source": [
        "**Revisamos la existencia de valores nulos en toda la base de datos:**"
      ],
      "metadata": {
        "id": "vt67Lx4Tx5t6"
      }
    },
    {
      "cell_type": "code",
      "source": [
        "df1.isnull().any()"
      ],
      "metadata": {
        "id": "lfIFbD3Yx_tK",
        "outputId": "82760ee6-d871-4b4d-f715-1d7794677ebd",
        "colab": {
          "base_uri": "https://localhost:8080/"
        }
      },
      "execution_count": 7,
      "outputs": [
        {
          "output_type": "execute_result",
          "data": {
            "text/plain": [
              "ID     False\n",
              "X1     False\n",
              "X2      True\n",
              "X3      True\n",
              "X4      True\n",
              "X5      True\n",
              "X6      True\n",
              "X7      True\n",
              "X8      True\n",
              "X9      True\n",
              "X10     True\n",
              "X11     True\n",
              "X12     True\n",
              "X13     True\n",
              "X14     True\n",
              "X15     True\n",
              "X16     True\n",
              "X17     True\n",
              "X18     True\n",
              "X19     True\n",
              "X20     True\n",
              "X21     True\n",
              "X22     True\n",
              "X23     True\n",
              "Y       True\n",
              "dtype: bool"
            ]
          },
          "metadata": {},
          "execution_count": 7
        }
      ]
    },
    {
      "cell_type": "markdown",
      "source": [
        "**Revisando las estadísticas descriptivas, podemos imputar la media en los valores nulos (la media no está muy separada de la mediana en muchos de los casos). Por lo que sustituimos los valores nulos por la mediana:**"
      ],
      "metadata": {
        "id": "ajLwAjg0ybfJ"
      }
    },
    {
      "cell_type": "code",
      "source": [
        "column_means = df1.mean() #Se utiliza la funcion mean para utilizar la mediana en los datos\n",
        "df2 = df1.fillna(column_means)\n",
        "df2.head(5)"
      ],
      "metadata": {
        "id": "a3TmquzkyRC_",
        "outputId": "8ffad015-45ba-4c35-d15b-2bea1e323df9",
        "colab": {
          "base_uri": "https://localhost:8080/",
          "height": 300
        }
      },
      "execution_count": 8,
      "outputs": [
        {
          "output_type": "execute_result",
          "data": {
            "text/plain": [
              "   ID      X1   X2   X3   X4    X5   X6   X7   X8   X9  ...      X15      X16  \\\n",
              "0   1   20000  2.0  2.0  1.0  24.0  2.0  2.0 -1.0 -1.0  ...      0.0      0.0   \n",
              "1   2  120000  2.0  2.0  2.0  26.0 -1.0  2.0  0.0  0.0  ...   3272.0   3455.0   \n",
              "2   3   90000  2.0  2.0  2.0  34.0  0.0  0.0  0.0  0.0  ...  14331.0  14948.0   \n",
              "3   4   50000  2.0  2.0  1.0  37.0  0.0  0.0  0.0  0.0  ...  28314.0  28959.0   \n",
              "4   5   50000  1.0  2.0  1.0  57.0 -1.0  0.0 -1.0  0.0  ...  20940.0  19146.0   \n",
              "\n",
              "       X17     X18      X19      X20     X21     X22     X23    Y  \n",
              "0      0.0     0.0    689.0      0.0     0.0     0.0     0.0  1.0  \n",
              "1   3261.0     0.0   1000.0   1000.0  1000.0     0.0  2000.0  1.0  \n",
              "2  15549.0  1518.0   1500.0   1000.0  1000.0  1000.0  5000.0  0.0  \n",
              "3  29547.0  2000.0   2019.0   1200.0  1100.0  1069.0  1000.0  0.0  \n",
              "4  19131.0  2000.0  36681.0  10000.0  9000.0   689.0   679.0  0.0  \n",
              "\n",
              "[5 rows x 25 columns]"
            ],
            "text/html": [
              "\n",
              "  <div id=\"df-5e1b21ea-95f3-42b3-9cba-87159e140f7f\">\n",
              "    <div class=\"colab-df-container\">\n",
              "      <div>\n",
              "<style scoped>\n",
              "    .dataframe tbody tr th:only-of-type {\n",
              "        vertical-align: middle;\n",
              "    }\n",
              "\n",
              "    .dataframe tbody tr th {\n",
              "        vertical-align: top;\n",
              "    }\n",
              "\n",
              "    .dataframe thead th {\n",
              "        text-align: right;\n",
              "    }\n",
              "</style>\n",
              "<table border=\"1\" class=\"dataframe\">\n",
              "  <thead>\n",
              "    <tr style=\"text-align: right;\">\n",
              "      <th></th>\n",
              "      <th>ID</th>\n",
              "      <th>X1</th>\n",
              "      <th>X2</th>\n",
              "      <th>X3</th>\n",
              "      <th>X4</th>\n",
              "      <th>X5</th>\n",
              "      <th>X6</th>\n",
              "      <th>X7</th>\n",
              "      <th>X8</th>\n",
              "      <th>X9</th>\n",
              "      <th>...</th>\n",
              "      <th>X15</th>\n",
              "      <th>X16</th>\n",
              "      <th>X17</th>\n",
              "      <th>X18</th>\n",
              "      <th>X19</th>\n",
              "      <th>X20</th>\n",
              "      <th>X21</th>\n",
              "      <th>X22</th>\n",
              "      <th>X23</th>\n",
              "      <th>Y</th>\n",
              "    </tr>\n",
              "  </thead>\n",
              "  <tbody>\n",
              "    <tr>\n",
              "      <th>0</th>\n",
              "      <td>1</td>\n",
              "      <td>20000</td>\n",
              "      <td>2.0</td>\n",
              "      <td>2.0</td>\n",
              "      <td>1.0</td>\n",
              "      <td>24.0</td>\n",
              "      <td>2.0</td>\n",
              "      <td>2.0</td>\n",
              "      <td>-1.0</td>\n",
              "      <td>-1.0</td>\n",
              "      <td>...</td>\n",
              "      <td>0.0</td>\n",
              "      <td>0.0</td>\n",
              "      <td>0.0</td>\n",
              "      <td>0.0</td>\n",
              "      <td>689.0</td>\n",
              "      <td>0.0</td>\n",
              "      <td>0.0</td>\n",
              "      <td>0.0</td>\n",
              "      <td>0.0</td>\n",
              "      <td>1.0</td>\n",
              "    </tr>\n",
              "    <tr>\n",
              "      <th>1</th>\n",
              "      <td>2</td>\n",
              "      <td>120000</td>\n",
              "      <td>2.0</td>\n",
              "      <td>2.0</td>\n",
              "      <td>2.0</td>\n",
              "      <td>26.0</td>\n",
              "      <td>-1.0</td>\n",
              "      <td>2.0</td>\n",
              "      <td>0.0</td>\n",
              "      <td>0.0</td>\n",
              "      <td>...</td>\n",
              "      <td>3272.0</td>\n",
              "      <td>3455.0</td>\n",
              "      <td>3261.0</td>\n",
              "      <td>0.0</td>\n",
              "      <td>1000.0</td>\n",
              "      <td>1000.0</td>\n",
              "      <td>1000.0</td>\n",
              "      <td>0.0</td>\n",
              "      <td>2000.0</td>\n",
              "      <td>1.0</td>\n",
              "    </tr>\n",
              "    <tr>\n",
              "      <th>2</th>\n",
              "      <td>3</td>\n",
              "      <td>90000</td>\n",
              "      <td>2.0</td>\n",
              "      <td>2.0</td>\n",
              "      <td>2.0</td>\n",
              "      <td>34.0</td>\n",
              "      <td>0.0</td>\n",
              "      <td>0.0</td>\n",
              "      <td>0.0</td>\n",
              "      <td>0.0</td>\n",
              "      <td>...</td>\n",
              "      <td>14331.0</td>\n",
              "      <td>14948.0</td>\n",
              "      <td>15549.0</td>\n",
              "      <td>1518.0</td>\n",
              "      <td>1500.0</td>\n",
              "      <td>1000.0</td>\n",
              "      <td>1000.0</td>\n",
              "      <td>1000.0</td>\n",
              "      <td>5000.0</td>\n",
              "      <td>0.0</td>\n",
              "    </tr>\n",
              "    <tr>\n",
              "      <th>3</th>\n",
              "      <td>4</td>\n",
              "      <td>50000</td>\n",
              "      <td>2.0</td>\n",
              "      <td>2.0</td>\n",
              "      <td>1.0</td>\n",
              "      <td>37.0</td>\n",
              "      <td>0.0</td>\n",
              "      <td>0.0</td>\n",
              "      <td>0.0</td>\n",
              "      <td>0.0</td>\n",
              "      <td>...</td>\n",
              "      <td>28314.0</td>\n",
              "      <td>28959.0</td>\n",
              "      <td>29547.0</td>\n",
              "      <td>2000.0</td>\n",
              "      <td>2019.0</td>\n",
              "      <td>1200.0</td>\n",
              "      <td>1100.0</td>\n",
              "      <td>1069.0</td>\n",
              "      <td>1000.0</td>\n",
              "      <td>0.0</td>\n",
              "    </tr>\n",
              "    <tr>\n",
              "      <th>4</th>\n",
              "      <td>5</td>\n",
              "      <td>50000</td>\n",
              "      <td>1.0</td>\n",
              "      <td>2.0</td>\n",
              "      <td>1.0</td>\n",
              "      <td>57.0</td>\n",
              "      <td>-1.0</td>\n",
              "      <td>0.0</td>\n",
              "      <td>-1.0</td>\n",
              "      <td>0.0</td>\n",
              "      <td>...</td>\n",
              "      <td>20940.0</td>\n",
              "      <td>19146.0</td>\n",
              "      <td>19131.0</td>\n",
              "      <td>2000.0</td>\n",
              "      <td>36681.0</td>\n",
              "      <td>10000.0</td>\n",
              "      <td>9000.0</td>\n",
              "      <td>689.0</td>\n",
              "      <td>679.0</td>\n",
              "      <td>0.0</td>\n",
              "    </tr>\n",
              "  </tbody>\n",
              "</table>\n",
              "<p>5 rows × 25 columns</p>\n",
              "</div>\n",
              "      <button class=\"colab-df-convert\" onclick=\"convertToInteractive('df-5e1b21ea-95f3-42b3-9cba-87159e140f7f')\"\n",
              "              title=\"Convert this dataframe to an interactive table.\"\n",
              "              style=\"display:none;\">\n",
              "        \n",
              "  <svg xmlns=\"http://www.w3.org/2000/svg\" height=\"24px\"viewBox=\"0 0 24 24\"\n",
              "       width=\"24px\">\n",
              "    <path d=\"M0 0h24v24H0V0z\" fill=\"none\"/>\n",
              "    <path d=\"M18.56 5.44l.94 2.06.94-2.06 2.06-.94-2.06-.94-.94-2.06-.94 2.06-2.06.94zm-11 1L8.5 8.5l.94-2.06 2.06-.94-2.06-.94L8.5 2.5l-.94 2.06-2.06.94zm10 10l.94 2.06.94-2.06 2.06-.94-2.06-.94-.94-2.06-.94 2.06-2.06.94z\"/><path d=\"M17.41 7.96l-1.37-1.37c-.4-.4-.92-.59-1.43-.59-.52 0-1.04.2-1.43.59L10.3 9.45l-7.72 7.72c-.78.78-.78 2.05 0 2.83L4 21.41c.39.39.9.59 1.41.59.51 0 1.02-.2 1.41-.59l7.78-7.78 2.81-2.81c.8-.78.8-2.07 0-2.86zM5.41 20L4 18.59l7.72-7.72 1.47 1.35L5.41 20z\"/>\n",
              "  </svg>\n",
              "      </button>\n",
              "      \n",
              "  <style>\n",
              "    .colab-df-container {\n",
              "      display:flex;\n",
              "      flex-wrap:wrap;\n",
              "      gap: 12px;\n",
              "    }\n",
              "\n",
              "    .colab-df-convert {\n",
              "      background-color: #E8F0FE;\n",
              "      border: none;\n",
              "      border-radius: 50%;\n",
              "      cursor: pointer;\n",
              "      display: none;\n",
              "      fill: #1967D2;\n",
              "      height: 32px;\n",
              "      padding: 0 0 0 0;\n",
              "      width: 32px;\n",
              "    }\n",
              "\n",
              "    .colab-df-convert:hover {\n",
              "      background-color: #E2EBFA;\n",
              "      box-shadow: 0px 1px 2px rgba(60, 64, 67, 0.3), 0px 1px 3px 1px rgba(60, 64, 67, 0.15);\n",
              "      fill: #174EA6;\n",
              "    }\n",
              "\n",
              "    [theme=dark] .colab-df-convert {\n",
              "      background-color: #3B4455;\n",
              "      fill: #D2E3FC;\n",
              "    }\n",
              "\n",
              "    [theme=dark] .colab-df-convert:hover {\n",
              "      background-color: #434B5C;\n",
              "      box-shadow: 0px 1px 3px 1px rgba(0, 0, 0, 0.15);\n",
              "      filter: drop-shadow(0px 1px 2px rgba(0, 0, 0, 0.3));\n",
              "      fill: #FFFFFF;\n",
              "    }\n",
              "  </style>\n",
              "\n",
              "      <script>\n",
              "        const buttonEl =\n",
              "          document.querySelector('#df-5e1b21ea-95f3-42b3-9cba-87159e140f7f button.colab-df-convert');\n",
              "        buttonEl.style.display =\n",
              "          google.colab.kernel.accessAllowed ? 'block' : 'none';\n",
              "\n",
              "        async function convertToInteractive(key) {\n",
              "          const element = document.querySelector('#df-5e1b21ea-95f3-42b3-9cba-87159e140f7f');\n",
              "          const dataTable =\n",
              "            await google.colab.kernel.invokeFunction('convertToInteractive',\n",
              "                                                     [key], {});\n",
              "          if (!dataTable) return;\n",
              "\n",
              "          const docLinkHtml = 'Like what you see? Visit the ' +\n",
              "            '<a target=\"_blank\" href=https://colab.research.google.com/notebooks/data_table.ipynb>data table notebook</a>'\n",
              "            + ' to learn more about interactive tables.';\n",
              "          element.innerHTML = '';\n",
              "          dataTable['output_type'] = 'display_data';\n",
              "          await google.colab.output.renderOutput(dataTable, element);\n",
              "          const docLink = document.createElement('div');\n",
              "          docLink.innerHTML = docLinkHtml;\n",
              "          element.appendChild(docLink);\n",
              "        }\n",
              "      </script>\n",
              "    </div>\n",
              "  </div>\n",
              "  "
            ]
          },
          "metadata": {},
          "execution_count": 8
        }
      ]
    },
    {
      "cell_type": "markdown",
      "source": [
        "**Revisamos que no existan valores nulos, despues de la sustitución:**"
      ],
      "metadata": {
        "id": "1dKQuTNuy5fh"
      }
    },
    {
      "cell_type": "code",
      "source": [
        "df2.isnull().any()"
      ],
      "metadata": {
        "colab": {
          "base_uri": "https://localhost:8080/"
        },
        "id": "gDVf9c5GCofz",
        "outputId": "55947b89-cc29-46b3-da8b-86fd54db4cd7"
      },
      "execution_count": 9,
      "outputs": [
        {
          "output_type": "execute_result",
          "data": {
            "text/plain": [
              "ID     False\n",
              "X1     False\n",
              "X2     False\n",
              "X3     False\n",
              "X4     False\n",
              "X5     False\n",
              "X6     False\n",
              "X7     False\n",
              "X8     False\n",
              "X9     False\n",
              "X10    False\n",
              "X11    False\n",
              "X12    False\n",
              "X13    False\n",
              "X14    False\n",
              "X15    False\n",
              "X16    False\n",
              "X17    False\n",
              "X18    False\n",
              "X19    False\n",
              "X20    False\n",
              "X21    False\n",
              "X22    False\n",
              "X23    False\n",
              "Y      False\n",
              "dtype: bool"
            ]
          },
          "metadata": {},
          "execution_count": 9
        }
      ]
    },
    {
      "cell_type": "markdown",
      "source": [
        "**Cada registro cuenta con 23 tipos de variables, por lo que es importante realizar una reducción de dimensionalidad (Identificando las variables mas importantes); Para poder aplicar PCA es importante recordar que este debe ser aplicado únicamente en variables númericas.**\n",
        "\n",
        "**En la descripcion del modelo https://raw.githubusercontent.com/PosgradoMNA/Actividades_Aprendizaje-/main/dataset_info.txt menciona que las variables de x1 a x11 son categoricas, por lo que deben ser excluidas**"
      ],
      "metadata": {
        "id": "Sje9jwe04u1d"
      }
    },
    {
      "cell_type": "code",
      "source": [
        "df3 = df2.iloc[:,12:23]\n",
        "print(df3)"
      ],
      "metadata": {
        "colab": {
          "base_uri": "https://localhost:8080/"
        },
        "id": "QAF0c7LsYMZH",
        "outputId": "30b6fd56-2e5b-4f88-8240-8b34489a8860"
      },
      "execution_count": 10,
      "outputs": [
        {
          "output_type": "stream",
          "name": "stdout",
          "text": [
            "            X12       X13       X14      X15      X16      X17      X18  \\\n",
            "0        3913.0    3102.0     689.0      0.0      0.0      0.0      0.0   \n",
            "1        2682.0    1725.0    2682.0   3272.0   3455.0   3261.0      0.0   \n",
            "2       29239.0   14027.0   13559.0  14331.0  14948.0  15549.0   1518.0   \n",
            "3       46990.0   48233.0   49291.0  28314.0  28959.0  29547.0   2000.0   \n",
            "4        8617.0    5670.0   35835.0  20940.0  19146.0  19131.0   2000.0   \n",
            "...         ...       ...       ...      ...      ...      ...      ...   \n",
            "29995  188948.0  192815.0  208365.0  88004.0  31237.0  15980.0   8500.0   \n",
            "29996    1683.0    1828.0    3502.0   8979.0   5190.0      0.0   1837.0   \n",
            "29997    3565.0    3356.0    2758.0  20878.0  20582.0  19357.0      0.0   \n",
            "29998   -1645.0   78379.0   76304.0  52774.0  11855.0  48944.0  85900.0   \n",
            "29999   47929.0   48905.0   49764.0  36535.0  32428.0  15313.0   2078.0   \n",
            "\n",
            "           X19      X20     X21      X22  \n",
            "0        689.0      0.0     0.0      0.0  \n",
            "1       1000.0   1000.0  1000.0      0.0  \n",
            "2       1500.0   1000.0  1000.0   1000.0  \n",
            "3       2019.0   1200.0  1100.0   1069.0  \n",
            "4      36681.0  10000.0  9000.0    689.0  \n",
            "...        ...      ...     ...      ...  \n",
            "29995  20000.0   5003.0  3047.0   5000.0  \n",
            "29996   3526.0   8998.0   129.0      0.0  \n",
            "29997      0.0  22000.0  4200.0   2000.0  \n",
            "29998   3409.0   1178.0  1926.0  52964.0  \n",
            "29999   1800.0   1430.0  1000.0   1000.0  \n",
            "\n",
            "[30000 rows x 11 columns]\n"
          ]
        }
      ]
    },
    {
      "cell_type": "markdown",
      "source": [
        "**Buscamos la correlacion entre las variables númericas que quedaron**"
      ],
      "metadata": {
        "id": "xerEUkmchwTU"
      }
    },
    {
      "cell_type": "code",
      "source": [
        "df3.corr()"
      ],
      "metadata": {
        "colab": {
          "base_uri": "https://localhost:8080/",
          "height": 458
        },
        "id": "TZGZ1aCh4LKe",
        "outputId": "bfa024f9-11db-465c-cf2c-1a054cbfa7c9"
      },
      "execution_count": 11,
      "outputs": [
        {
          "output_type": "execute_result",
          "data": {
            "text/plain": [
              "          X12       X13       X14       X15       X16       X17       X18  \\\n",
              "X12  1.000000  0.951480  0.892266  0.860257  0.829763  0.802630  0.140271   \n",
              "X13  0.951480  1.000000  0.928320  0.892470  0.859767  0.831577  0.280366   \n",
              "X14  0.892266  0.928320  1.000000  0.923962  0.883894  0.853305  0.244348   \n",
              "X15  0.860257  0.892470  0.923962  1.000000  0.940131  0.900918  0.233011   \n",
              "X16  0.829763  0.859767  0.883894  0.940131  1.000000  0.946161  0.217053   \n",
              "X17  0.802630  0.831577  0.853305  0.900918  0.946161  1.000000  0.199993   \n",
              "X18  0.140271  0.280366  0.244348  0.233011  0.217053  0.199993  1.000000   \n",
              "X19  0.099319  0.100817  0.316914  0.207529  0.181210  0.172633  0.285601   \n",
              "X20  0.156903  0.150718  0.130022  0.300018  0.252299  0.233767  0.252206   \n",
              "X21  0.158269  0.147368  0.143373  0.130154  0.293076  0.250210  0.199588   \n",
              "X22  0.167031  0.157952  0.179713  0.160414  0.141555  0.307699  0.148469   \n",
              "\n",
              "          X19       X20       X21       X22  \n",
              "X12  0.099319  0.156903  0.158269  0.167031  \n",
              "X13  0.100817  0.150718  0.147368  0.157952  \n",
              "X14  0.316914  0.130022  0.143373  0.179713  \n",
              "X15  0.207529  0.300018  0.130154  0.160414  \n",
              "X16  0.181210  0.252299  0.293076  0.141555  \n",
              "X17  0.172633  0.233767  0.250210  0.307699  \n",
              "X18  0.285601  0.252206  0.199588  0.148469  \n",
              "X19  1.000000  0.244770  0.180096  0.180894  \n",
              "X20  0.244770  1.000000  0.216342  0.159173  \n",
              "X21  0.180096  0.216342  1.000000  0.151825  \n",
              "X22  0.180894  0.159173  0.151825  1.000000  "
            ],
            "text/html": [
              "\n",
              "  <div id=\"df-b17528e1-8435-4109-bcce-31c2d95dcc65\">\n",
              "    <div class=\"colab-df-container\">\n",
              "      <div>\n",
              "<style scoped>\n",
              "    .dataframe tbody tr th:only-of-type {\n",
              "        vertical-align: middle;\n",
              "    }\n",
              "\n",
              "    .dataframe tbody tr th {\n",
              "        vertical-align: top;\n",
              "    }\n",
              "\n",
              "    .dataframe thead th {\n",
              "        text-align: right;\n",
              "    }\n",
              "</style>\n",
              "<table border=\"1\" class=\"dataframe\">\n",
              "  <thead>\n",
              "    <tr style=\"text-align: right;\">\n",
              "      <th></th>\n",
              "      <th>X12</th>\n",
              "      <th>X13</th>\n",
              "      <th>X14</th>\n",
              "      <th>X15</th>\n",
              "      <th>X16</th>\n",
              "      <th>X17</th>\n",
              "      <th>X18</th>\n",
              "      <th>X19</th>\n",
              "      <th>X20</th>\n",
              "      <th>X21</th>\n",
              "      <th>X22</th>\n",
              "    </tr>\n",
              "  </thead>\n",
              "  <tbody>\n",
              "    <tr>\n",
              "      <th>X12</th>\n",
              "      <td>1.000000</td>\n",
              "      <td>0.951480</td>\n",
              "      <td>0.892266</td>\n",
              "      <td>0.860257</td>\n",
              "      <td>0.829763</td>\n",
              "      <td>0.802630</td>\n",
              "      <td>0.140271</td>\n",
              "      <td>0.099319</td>\n",
              "      <td>0.156903</td>\n",
              "      <td>0.158269</td>\n",
              "      <td>0.167031</td>\n",
              "    </tr>\n",
              "    <tr>\n",
              "      <th>X13</th>\n",
              "      <td>0.951480</td>\n",
              "      <td>1.000000</td>\n",
              "      <td>0.928320</td>\n",
              "      <td>0.892470</td>\n",
              "      <td>0.859767</td>\n",
              "      <td>0.831577</td>\n",
              "      <td>0.280366</td>\n",
              "      <td>0.100817</td>\n",
              "      <td>0.150718</td>\n",
              "      <td>0.147368</td>\n",
              "      <td>0.157952</td>\n",
              "    </tr>\n",
              "    <tr>\n",
              "      <th>X14</th>\n",
              "      <td>0.892266</td>\n",
              "      <td>0.928320</td>\n",
              "      <td>1.000000</td>\n",
              "      <td>0.923962</td>\n",
              "      <td>0.883894</td>\n",
              "      <td>0.853305</td>\n",
              "      <td>0.244348</td>\n",
              "      <td>0.316914</td>\n",
              "      <td>0.130022</td>\n",
              "      <td>0.143373</td>\n",
              "      <td>0.179713</td>\n",
              "    </tr>\n",
              "    <tr>\n",
              "      <th>X15</th>\n",
              "      <td>0.860257</td>\n",
              "      <td>0.892470</td>\n",
              "      <td>0.923962</td>\n",
              "      <td>1.000000</td>\n",
              "      <td>0.940131</td>\n",
              "      <td>0.900918</td>\n",
              "      <td>0.233011</td>\n",
              "      <td>0.207529</td>\n",
              "      <td>0.300018</td>\n",
              "      <td>0.130154</td>\n",
              "      <td>0.160414</td>\n",
              "    </tr>\n",
              "    <tr>\n",
              "      <th>X16</th>\n",
              "      <td>0.829763</td>\n",
              "      <td>0.859767</td>\n",
              "      <td>0.883894</td>\n",
              "      <td>0.940131</td>\n",
              "      <td>1.000000</td>\n",
              "      <td>0.946161</td>\n",
              "      <td>0.217053</td>\n",
              "      <td>0.181210</td>\n",
              "      <td>0.252299</td>\n",
              "      <td>0.293076</td>\n",
              "      <td>0.141555</td>\n",
              "    </tr>\n",
              "    <tr>\n",
              "      <th>X17</th>\n",
              "      <td>0.802630</td>\n",
              "      <td>0.831577</td>\n",
              "      <td>0.853305</td>\n",
              "      <td>0.900918</td>\n",
              "      <td>0.946161</td>\n",
              "      <td>1.000000</td>\n",
              "      <td>0.199993</td>\n",
              "      <td>0.172633</td>\n",
              "      <td>0.233767</td>\n",
              "      <td>0.250210</td>\n",
              "      <td>0.307699</td>\n",
              "    </tr>\n",
              "    <tr>\n",
              "      <th>X18</th>\n",
              "      <td>0.140271</td>\n",
              "      <td>0.280366</td>\n",
              "      <td>0.244348</td>\n",
              "      <td>0.233011</td>\n",
              "      <td>0.217053</td>\n",
              "      <td>0.199993</td>\n",
              "      <td>1.000000</td>\n",
              "      <td>0.285601</td>\n",
              "      <td>0.252206</td>\n",
              "      <td>0.199588</td>\n",
              "      <td>0.148469</td>\n",
              "    </tr>\n",
              "    <tr>\n",
              "      <th>X19</th>\n",
              "      <td>0.099319</td>\n",
              "      <td>0.100817</td>\n",
              "      <td>0.316914</td>\n",
              "      <td>0.207529</td>\n",
              "      <td>0.181210</td>\n",
              "      <td>0.172633</td>\n",
              "      <td>0.285601</td>\n",
              "      <td>1.000000</td>\n",
              "      <td>0.244770</td>\n",
              "      <td>0.180096</td>\n",
              "      <td>0.180894</td>\n",
              "    </tr>\n",
              "    <tr>\n",
              "      <th>X20</th>\n",
              "      <td>0.156903</td>\n",
              "      <td>0.150718</td>\n",
              "      <td>0.130022</td>\n",
              "      <td>0.300018</td>\n",
              "      <td>0.252299</td>\n",
              "      <td>0.233767</td>\n",
              "      <td>0.252206</td>\n",
              "      <td>0.244770</td>\n",
              "      <td>1.000000</td>\n",
              "      <td>0.216342</td>\n",
              "      <td>0.159173</td>\n",
              "    </tr>\n",
              "    <tr>\n",
              "      <th>X21</th>\n",
              "      <td>0.158269</td>\n",
              "      <td>0.147368</td>\n",
              "      <td>0.143373</td>\n",
              "      <td>0.130154</td>\n",
              "      <td>0.293076</td>\n",
              "      <td>0.250210</td>\n",
              "      <td>0.199588</td>\n",
              "      <td>0.180096</td>\n",
              "      <td>0.216342</td>\n",
              "      <td>1.000000</td>\n",
              "      <td>0.151825</td>\n",
              "    </tr>\n",
              "    <tr>\n",
              "      <th>X22</th>\n",
              "      <td>0.167031</td>\n",
              "      <td>0.157952</td>\n",
              "      <td>0.179713</td>\n",
              "      <td>0.160414</td>\n",
              "      <td>0.141555</td>\n",
              "      <td>0.307699</td>\n",
              "      <td>0.148469</td>\n",
              "      <td>0.180894</td>\n",
              "      <td>0.159173</td>\n",
              "      <td>0.151825</td>\n",
              "      <td>1.000000</td>\n",
              "    </tr>\n",
              "  </tbody>\n",
              "</table>\n",
              "</div>\n",
              "      <button class=\"colab-df-convert\" onclick=\"convertToInteractive('df-b17528e1-8435-4109-bcce-31c2d95dcc65')\"\n",
              "              title=\"Convert this dataframe to an interactive table.\"\n",
              "              style=\"display:none;\">\n",
              "        \n",
              "  <svg xmlns=\"http://www.w3.org/2000/svg\" height=\"24px\"viewBox=\"0 0 24 24\"\n",
              "       width=\"24px\">\n",
              "    <path d=\"M0 0h24v24H0V0z\" fill=\"none\"/>\n",
              "    <path d=\"M18.56 5.44l.94 2.06.94-2.06 2.06-.94-2.06-.94-.94-2.06-.94 2.06-2.06.94zm-11 1L8.5 8.5l.94-2.06 2.06-.94-2.06-.94L8.5 2.5l-.94 2.06-2.06.94zm10 10l.94 2.06.94-2.06 2.06-.94-2.06-.94-.94-2.06-.94 2.06-2.06.94z\"/><path d=\"M17.41 7.96l-1.37-1.37c-.4-.4-.92-.59-1.43-.59-.52 0-1.04.2-1.43.59L10.3 9.45l-7.72 7.72c-.78.78-.78 2.05 0 2.83L4 21.41c.39.39.9.59 1.41.59.51 0 1.02-.2 1.41-.59l7.78-7.78 2.81-2.81c.8-.78.8-2.07 0-2.86zM5.41 20L4 18.59l7.72-7.72 1.47 1.35L5.41 20z\"/>\n",
              "  </svg>\n",
              "      </button>\n",
              "      \n",
              "  <style>\n",
              "    .colab-df-container {\n",
              "      display:flex;\n",
              "      flex-wrap:wrap;\n",
              "      gap: 12px;\n",
              "    }\n",
              "\n",
              "    .colab-df-convert {\n",
              "      background-color: #E8F0FE;\n",
              "      border: none;\n",
              "      border-radius: 50%;\n",
              "      cursor: pointer;\n",
              "      display: none;\n",
              "      fill: #1967D2;\n",
              "      height: 32px;\n",
              "      padding: 0 0 0 0;\n",
              "      width: 32px;\n",
              "    }\n",
              "\n",
              "    .colab-df-convert:hover {\n",
              "      background-color: #E2EBFA;\n",
              "      box-shadow: 0px 1px 2px rgba(60, 64, 67, 0.3), 0px 1px 3px 1px rgba(60, 64, 67, 0.15);\n",
              "      fill: #174EA6;\n",
              "    }\n",
              "\n",
              "    [theme=dark] .colab-df-convert {\n",
              "      background-color: #3B4455;\n",
              "      fill: #D2E3FC;\n",
              "    }\n",
              "\n",
              "    [theme=dark] .colab-df-convert:hover {\n",
              "      background-color: #434B5C;\n",
              "      box-shadow: 0px 1px 3px 1px rgba(0, 0, 0, 0.15);\n",
              "      filter: drop-shadow(0px 1px 2px rgba(0, 0, 0, 0.3));\n",
              "      fill: #FFFFFF;\n",
              "    }\n",
              "  </style>\n",
              "\n",
              "      <script>\n",
              "        const buttonEl =\n",
              "          document.querySelector('#df-b17528e1-8435-4109-bcce-31c2d95dcc65 button.colab-df-convert');\n",
              "        buttonEl.style.display =\n",
              "          google.colab.kernel.accessAllowed ? 'block' : 'none';\n",
              "\n",
              "        async function convertToInteractive(key) {\n",
              "          const element = document.querySelector('#df-b17528e1-8435-4109-bcce-31c2d95dcc65');\n",
              "          const dataTable =\n",
              "            await google.colab.kernel.invokeFunction('convertToInteractive',\n",
              "                                                     [key], {});\n",
              "          if (!dataTable) return;\n",
              "\n",
              "          const docLinkHtml = 'Like what you see? Visit the ' +\n",
              "            '<a target=\"_blank\" href=https://colab.research.google.com/notebooks/data_table.ipynb>data table notebook</a>'\n",
              "            + ' to learn more about interactive tables.';\n",
              "          element.innerHTML = '';\n",
              "          dataTable['output_type'] = 'display_data';\n",
              "          await google.colab.output.renderOutput(dataTable, element);\n",
              "          const docLink = document.createElement('div');\n",
              "          docLink.innerHTML = docLinkHtml;\n",
              "          element.appendChild(docLink);\n",
              "        }\n",
              "      </script>\n",
              "    </div>\n",
              "  </div>\n",
              "  "
            ]
          },
          "metadata": {},
          "execution_count": 11
        }
      ]
    },
    {
      "cell_type": "markdown",
      "source": [
        "**Convertimos nuestra tabla en una matriz de correlacion para que sea mas facil visualizar los elementos que tienen una mayor correlación**"
      ],
      "metadata": {
        "id": "7zqRCKdAjsHC"
      }
    },
    {
      "cell_type": "code",
      "source": [
        "import seaborn as seab\n",
        "matrizc = df3.corr()\n",
        "seab.set(rc = {'figure.figsize':(9,8)})\n",
        "seab.heatmap(matrizc, vmin = -1, vmax = 1, cmap = \"BuGn\", annot= True)"
      ],
      "metadata": {
        "colab": {
          "base_uri": "https://localhost:8080/",
          "height": 506
        },
        "id": "RHarS6AMjrke",
        "outputId": "02d856c9-75cd-47f5-f5ca-df7a5688cde1"
      },
      "execution_count": 12,
      "outputs": [
        {
          "output_type": "execute_result",
          "data": {
            "text/plain": [
              "<matplotlib.axes._subplots.AxesSubplot at 0x7f0db6f40e10>"
            ]
          },
          "metadata": {},
          "execution_count": 12
        },
        {
          "output_type": "display_data",
          "data": {
            "text/plain": [
              "<Figure size 648x576 with 2 Axes>"
            ],
            "image/png": "[encoded data removed]"
          },
          "metadata": {}
        }
      ]
    },
    {
      "cell_type": "markdown",
      "source": [
        "**Podemos observar que los conjuntos de x12 y x13, así como x16 y x17 son los que representan una mayor correlación. Posteriormente buscamos la covariancia en el primer par para validar el tipo de relación que existe dependiendo del signo**"
      ],
      "metadata": {
        "id": "wKObWpMWpxlp"
      }
    },
    {
      "cell_type": "code",
      "source": [
        "#Varianza por Atributo\n",
        "x12_var = df3.X12.var()\n",
        "x13_var = df3.X13.var()\n",
        "x16_var = df3.X16.var()\n",
        "x17_var = df3.X17.var()\n",
        "\n",
        "#Varianza total\n",
        "Tot_Varianza = df3.var().sum()\n",
        "\n",
        "#Porcentaje de Variacion\n",
        "print('Varianza Total \\t',Tot_Varianza.round(2))\n",
        "print('Varianza x12 \\t',((x12_var/Tot_Varianza)*100).round(2),'%')\n",
        "print('Varianza x13 \\t',((x13_var/Tot_Varianza)*100).round(2),'%')\n",
        "print('Varianza x16 \\t',((x16_var/Tot_Varianza)*100).round(2),'%')\n",
        "print('Varianza x17 \\t',((x17_var/Tot_Varianza)*100).round(2),'%')"
      ],
      "metadata": {
        "colab": {
          "base_uri": "https://localhost:8080/"
        },
        "id": "O83U1D5Opw_A",
        "outputId": "b3a71a57-a0bf-4ec0-c90f-e6c347a90dff"
      },
      "execution_count": 13,
      "outputs": [
        {
          "output_type": "stream",
          "name": "stdout",
          "text": [
            "Varianza Total \t 28270075137.05\n",
            "Varianza x12 \t 19.18 %\n",
            "Varianza x13 \t 17.92 %\n",
            "Varianza x16 \t 13.07 %\n",
            "Varianza x17 \t 12.54 %\n"
          ]
        }
      ]
    },
    {
      "cell_type": "markdown",
      "source": [
        "**Como observamos previamente en la matriz de correlaciones, habia diferentes pares con un alto grado de de dependencia, por lo que los porcentajes diferentes atributos pueden tener un alto porcentaje de varianza, sin embargo, la varianza en X12 y X13 siguen siendo las mas elevadas**\n",
        "\n",
        "**Hacemos un grafico para ver como se compone la relación entre el primer par de variables**"
      ],
      "metadata": {
        "id": "9JUNvcETf0gh"
      }
    },
    {
      "cell_type": "code",
      "source": [
        "Grafico = seab.regplot(data = df3,  \n",
        "                x = df3.X13, \n",
        "                y = df3.X12,\n",
        "               ) \n",
        "Grafico"
      ],
      "metadata": {
        "colab": {
          "base_uri": "https://localhost:8080/",
          "height": 530
        },
        "id": "R2RnblkRpsyb",
        "outputId": "8efafa06-cb94-46e1-b252-2afb5c107d40"
      },
      "execution_count": 14,
      "outputs": [
        {
          "output_type": "execute_result",
          "data": {
            "text/plain": [
              "<matplotlib.axes._subplots.AxesSubplot at 0x7f0da82f7550>"
            ]
          },
          "metadata": {},
          "execution_count": 14
        },
        {
          "output_type": "display_data",
          "data": {
            "text/plain": [
              "<Figure size 648x576 with 1 Axes>"
            ],
            "image/png": "[encoded data removed]"
          },
          "metadata": {}
        }
      ]
    },
    {
      "cell_type": "markdown",
      "source": [
        "**Como se muestra, dentro del de correlación existen variables que generan una relacion negativa, sin embargo, en primera instancia podemos concluir que las las variables X12,X13,X15,X16,X17 son hasta ahora las muestras mas representativas con mayor varianza.**"
      ],
      "metadata": {
        "id": "O3MoNs06oWkO"
      }
    },
    {
      "cell_type": "markdown",
      "source": [
        "#PCA\n",
        "**Paso 2: Interprete cada componente principal en términos de las variables originales.** "
      ],
      "metadata": {
        "id": "6eW6exSM1J38"
      }
    },
    {
      "cell_type": "markdown",
      "source": [
        "**Antes de extraer los Componentes principales debemos cooparar los valores de las otras varianzas para conocer el comportamiento de la relación**"
      ],
      "metadata": {
        "id": "XYR-kQCca9rG"
      }
    },
    {
      "cell_type": "markdown",
      "source": [],
      "metadata": {
        "id": "GNkZmS001E4B"
      }
    },
    {
      "cell_type": "code",
      "source": [
        "#Importamos Librerias\n",
        "import numpy as np\n",
        "from sklearn.decomposition import PCA"
      ],
      "metadata": {
        "id": "aOiobxfnoVma"
      },
      "execution_count": 15,
      "outputs": []
    },
    {
      "cell_type": "code",
      "source": [
        "pcs = PCA(n_components=2)\n",
        "\n",
        "pcs.fit(df3[['X12', 'X13']]) #Los valores de las funciones toman los valores de X12 y X13\n",
        "\n",
        "pcsSummary = pd.DataFrame({'Desviación Estándar': np.sqrt(pcs.explained_variance_),\n",
        "                          'Proporción de varianza': pcs.explained_variance_ratio_,\n",
        "                          'Varianza Acumulada': np.cumsum(pcs.explained_variance_ratio_)\n",
        "                          }\n",
        "                          )\n",
        "pcsSummary"
      ],
      "metadata": {
        "colab": {
          "base_uri": "https://localhost:8080/",
          "height": 112
        },
        "id": "J2GQn_bmsMJe",
        "outputId": "77dd4752-d03a-4251-8e3f-da9224db671f"
      },
      "execution_count": 16,
      "outputs": [
        {
          "output_type": "execute_result",
          "data": {
            "text/plain": [
              "   Desviación Estándar  Proporción de varianza  Varianza Acumulada\n",
              "0        101156.999575                0.975769            0.975769\n",
              "1         15940.745326                0.024231            1.000000"
            ],
            "text/html": [
              "\n",
              "  <div id=\"df-47ee323b-8fe2-43f3-9fdd-517675333d56\">\n",
              "    <div class=\"colab-df-container\">\n",
              "      <div>\n",
              "<style scoped>\n",
              "    .dataframe tbody tr th:only-of-type {\n",
              "        vertical-align: middle;\n",
              "    }\n",
              "\n",
              "    .dataframe tbody tr th {\n",
              "        vertical-align: top;\n",
              "    }\n",
              "\n",
              "    .dataframe thead th {\n",
              "        text-align: right;\n",
              "    }\n",
              "</style>\n",
              "<table border=\"1\" class=\"dataframe\">\n",
              "  <thead>\n",
              "    <tr style=\"text-align: right;\">\n",
              "      <th></th>\n",
              "      <th>Desviación Estándar</th>\n",
              "      <th>Proporción de varianza</th>\n",
              "      <th>Varianza Acumulada</th>\n",
              "    </tr>\n",
              "  </thead>\n",
              "  <tbody>\n",
              "    <tr>\n",
              "      <th>0</th>\n",
              "      <td>101156.999575</td>\n",
              "      <td>0.975769</td>\n",
              "      <td>0.975769</td>\n",
              "    </tr>\n",
              "    <tr>\n",
              "      <th>1</th>\n",
              "      <td>15940.745326</td>\n",
              "      <td>0.024231</td>\n",
              "      <td>1.000000</td>\n",
              "    </tr>\n",
              "  </tbody>\n",
              "</table>\n",
              "</div>\n",
              "      <button class=\"colab-df-convert\" onclick=\"convertToInteractive('df-47ee323b-8fe2-43f3-9fdd-517675333d56')\"\n",
              "              title=\"Convert this dataframe to an interactive table.\"\n",
              "              style=\"display:none;\">\n",
              "        \n",
              "  <svg xmlns=\"http://www.w3.org/2000/svg\" height=\"24px\"viewBox=\"0 0 24 24\"\n",
              "       width=\"24px\">\n",
              "    <path d=\"M0 0h24v24H0V0z\" fill=\"none\"/>\n",
              "    <path d=\"M18.56 5.44l.94 2.06.94-2.06 2.06-.94-2.06-.94-.94-2.06-.94 2.06-2.06.94zm-11 1L8.5 8.5l.94-2.06 2.06-.94-2.06-.94L8.5 2.5l-.94 2.06-2.06.94zm10 10l.94 2.06.94-2.06 2.06-.94-2.06-.94-.94-2.06-.94 2.06-2.06.94z\"/><path d=\"M17.41 7.96l-1.37-1.37c-.4-.4-.92-.59-1.43-.59-.52 0-1.04.2-1.43.59L10.3 9.45l-7.72 7.72c-.78.78-.78 2.05 0 2.83L4 21.41c.39.39.9.59 1.41.59.51 0 1.02-.2 1.41-.59l7.78-7.78 2.81-2.81c.8-.78.8-2.07 0-2.86zM5.41 20L4 18.59l7.72-7.72 1.47 1.35L5.41 20z\"/>\n",
              "  </svg>\n",
              "      </button>\n",
              "      \n",
              "  <style>\n",
              "    .colab-df-container {\n",
              "      display:flex;\n",
              "      flex-wrap:wrap;\n",
              "      gap: 12px;\n",
              "    }\n",
              "\n",
              "    .colab-df-convert {\n",
              "      background-color: #E8F0FE;\n",
              "      border: none;\n",
              "      border-radius: 50%;\n",
              "      cursor: pointer;\n",
              "      display: none;\n",
              "      fill: #1967D2;\n",
              "      height: 32px;\n",
              "      padding: 0 0 0 0;\n",
              "      width: 32px;\n",
              "    }\n",
              "\n",
              "    .colab-df-convert:hover {\n",
              "      background-color: #E2EBFA;\n",
              "      box-shadow: 0px 1px 2px rgba(60, 64, 67, 0.3), 0px 1px 3px 1px rgba(60, 64, 67, 0.15);\n",
              "      fill: #174EA6;\n",
              "    }\n",
              "\n",
              "    [theme=dark] .colab-df-convert {\n",
              "      background-color: #3B4455;\n",
              "      fill: #D2E3FC;\n",
              "    }\n",
              "\n",
              "    [theme=dark] .colab-df-convert:hover {\n",
              "      background-color: #434B5C;\n",
              "      box-shadow: 0px 1px 3px 1px rgba(0, 0, 0, 0.15);\n",
              "      filter: drop-shadow(0px 1px 2px rgba(0, 0, 0, 0.3));\n",
              "      fill: #FFFFFF;\n",
              "    }\n",
              "  </style>\n",
              "\n",
              "      <script>\n",
              "        const buttonEl =\n",
              "          document.querySelector('#df-47ee323b-8fe2-43f3-9fdd-517675333d56 button.colab-df-convert');\n",
              "        buttonEl.style.display =\n",
              "          google.colab.kernel.accessAllowed ? 'block' : 'none';\n",
              "\n",
              "        async function convertToInteractive(key) {\n",
              "          const element = document.querySelector('#df-47ee323b-8fe2-43f3-9fdd-517675333d56');\n",
              "          const dataTable =\n",
              "            await google.colab.kernel.invokeFunction('convertToInteractive',\n",
              "                                                     [key], {});\n",
              "          if (!dataTable) return;\n",
              "\n",
              "          const docLinkHtml = 'Like what you see? Visit the ' +\n",
              "            '<a target=\"_blank\" href=https://colab.research.google.com/notebooks/data_table.ipynb>data table notebook</a>'\n",
              "            + ' to learn more about interactive tables.';\n",
              "          element.innerHTML = '';\n",
              "          dataTable['output_type'] = 'display_data';\n",
              "          await google.colab.output.renderOutput(dataTable, element);\n",
              "          const docLink = document.createElement('div');\n",
              "          docLink.innerHTML = docLinkHtml;\n",
              "          element.appendChild(docLink);\n",
              "        }\n",
              "      </script>\n",
              "    </div>\n",
              "  </div>\n",
              "  "
            ]
          },
          "metadata": {},
          "execution_count": 16
        }
      ]
    },
    {
      "cell_type": "markdown",
      "source": [
        "**Se modifica la tabla para tener una lectura mas facil y se asigna el nombre de Componente 1 y Componente 2, respectivamente**"
      ],
      "metadata": {
        "id": "YgiRexwBth3z"
      }
    },
    {
      "cell_type": "code",
      "execution_count": 17,
      "metadata": {
        "colab": {
          "base_uri": "https://localhost:8080/",
          "height": 143
        },
        "id": "2RXvhDOn3yRc",
        "outputId": "f3a703f4-9af9-4d80-95e6-7e4247ec7c90"
      },
      "outputs": [
        {
          "output_type": "execute_result",
          "data": {
            "text/plain": [
              "                                PC1         PC2\n",
              "Desviación Estándar     101156.9996  15940.7453\n",
              "Proporción de varianza       0.9758      0.0242\n",
              "Varianza Acumulada           0.9758      1.0000"
            ],
            "text/html": [
              "\n",
              "  <div id=\"df-831db44e-e4cc-4bc3-b8a1-b65ba502f8bc\">\n",
              "    <div class=\"colab-df-container\">\n",
              "      <div>\n",
              "<style scoped>\n",
              "    .dataframe tbody tr th:only-of-type {\n",
              "        vertical-align: middle;\n",
              "    }\n",
              "\n",
              "    .dataframe tbody tr th {\n",
              "        vertical-align: top;\n",
              "    }\n",
              "\n",
              "    .dataframe thead th {\n",
              "        text-align: right;\n",
              "    }\n",
              "</style>\n",
              "<table border=\"1\" class=\"dataframe\">\n",
              "  <thead>\n",
              "    <tr style=\"text-align: right;\">\n",
              "      <th></th>\n",
              "      <th>PC1</th>\n",
              "      <th>PC2</th>\n",
              "    </tr>\n",
              "  </thead>\n",
              "  <tbody>\n",
              "    <tr>\n",
              "      <th>Desviación Estándar</th>\n",
              "      <td>101156.9996</td>\n",
              "      <td>15940.7453</td>\n",
              "    </tr>\n",
              "    <tr>\n",
              "      <th>Proporción de varianza</th>\n",
              "      <td>0.9758</td>\n",
              "      <td>0.0242</td>\n",
              "    </tr>\n",
              "    <tr>\n",
              "      <th>Varianza Acumulada</th>\n",
              "      <td>0.9758</td>\n",
              "      <td>1.0000</td>\n",
              "    </tr>\n",
              "  </tbody>\n",
              "</table>\n",
              "</div>\n",
              "      <button class=\"colab-df-convert\" onclick=\"convertToInteractive('df-831db44e-e4cc-4bc3-b8a1-b65ba502f8bc')\"\n",
              "              title=\"Convert this dataframe to an interactive table.\"\n",
              "              style=\"display:none;\">\n",
              "        \n",
              "  <svg xmlns=\"http://www.w3.org/2000/svg\" height=\"24px\"viewBox=\"0 0 24 24\"\n",
              "       width=\"24px\">\n",
              "    <path d=\"M0 0h24v24H0V0z\" fill=\"none\"/>\n",
              "    <path d=\"M18.56 5.44l.94 2.06.94-2.06 2.06-.94-2.06-.94-.94-2.06-.94 2.06-2.06.94zm-11 1L8.5 8.5l.94-2.06 2.06-.94-2.06-.94L8.5 2.5l-.94 2.06-2.06.94zm10 10l.94 2.06.94-2.06 2.06-.94-2.06-.94-.94-2.06-.94 2.06-2.06.94z\"/><path d=\"M17.41 7.96l-1.37-1.37c-.4-.4-.92-.59-1.43-.59-.52 0-1.04.2-1.43.59L10.3 9.45l-7.72 7.72c-.78.78-.78 2.05 0 2.83L4 21.41c.39.39.9.59 1.41.59.51 0 1.02-.2 1.41-.59l7.78-7.78 2.81-2.81c.8-.78.8-2.07 0-2.86zM5.41 20L4 18.59l7.72-7.72 1.47 1.35L5.41 20z\"/>\n",
              "  </svg>\n",
              "      </button>\n",
              "      \n",
              "  <style>\n",
              "    .colab-df-container {\n",
              "      display:flex;\n",
              "      flex-wrap:wrap;\n",
              "      gap: 12px;\n",
              "    }\n",
              "\n",
              "    .colab-df-convert {\n",
              "      background-color: #E8F0FE;\n",
              "      border: none;\n",
              "      border-radius: 50%;\n",
              "      cursor: pointer;\n",
              "      display: none;\n",
              "      fill: #1967D2;\n",
              "      height: 32px;\n",
              "      padding: 0 0 0 0;\n",
              "      width: 32px;\n",
              "    }\n",
              "\n",
              "    .colab-df-convert:hover {\n",
              "      background-color: #E2EBFA;\n",
              "      box-shadow: 0px 1px 2px rgba(60, 64, 67, 0.3), 0px 1px 3px 1px rgba(60, 64, 67, 0.15);\n",
              "      fill: #174EA6;\n",
              "    }\n",
              "\n",
              "    [theme=dark] .colab-df-convert {\n",
              "      background-color: #3B4455;\n",
              "      fill: #D2E3FC;\n",
              "    }\n",
              "\n",
              "    [theme=dark] .colab-df-convert:hover {\n",
              "      background-color: #434B5C;\n",
              "      box-shadow: 0px 1px 3px 1px rgba(0, 0, 0, 0.15);\n",
              "      filter: drop-shadow(0px 1px 2px rgba(0, 0, 0, 0.3));\n",
              "      fill: #FFFFFF;\n",
              "    }\n",
              "  </style>\n",
              "\n",
              "      <script>\n",
              "        const buttonEl =\n",
              "          document.querySelector('#df-831db44e-e4cc-4bc3-b8a1-b65ba502f8bc button.colab-df-convert');\n",
              "        buttonEl.style.display =\n",
              "          google.colab.kernel.accessAllowed ? 'block' : 'none';\n",
              "\n",
              "        async function convertToInteractive(key) {\n",
              "          const element = document.querySelector('#df-831db44e-e4cc-4bc3-b8a1-b65ba502f8bc');\n",
              "          const dataTable =\n",
              "            await google.colab.kernel.invokeFunction('convertToInteractive',\n",
              "                                                     [key], {});\n",
              "          if (!dataTable) return;\n",
              "\n",
              "          const docLinkHtml = 'Like what you see? Visit the ' +\n",
              "            '<a target=\"_blank\" href=https://colab.research.google.com/notebooks/data_table.ipynb>data table notebook</a>'\n",
              "            + ' to learn more about interactive tables.';\n",
              "          element.innerHTML = '';\n",
              "          dataTable['output_type'] = 'display_data';\n",
              "          await google.colab.output.renderOutput(dataTable, element);\n",
              "          const docLink = document.createElement('div');\n",
              "          docLink.innerHTML = docLinkHtml;\n",
              "          element.appendChild(docLink);\n",
              "        }\n",
              "      </script>\n",
              "    </div>\n",
              "  </div>\n",
              "  "
            ]
          },
          "metadata": {},
          "execution_count": 17
        }
      ],
      "source": [
        "pcsSummary = pcsSummary.transpose() #Para una lectura mas facil se traspone la Tabla\n",
        "pcsSummary.columns = ['PC1', 'PC2']\n",
        "pcsSummary.round(4)"
      ]
    },
    {
      "cell_type": "markdown",
      "source": [
        "**Despues de la reasginación de varianza observamos que el PC1 consigue el 97% de varianza, mientras que PC2 solo consigue un 3% de la proporcion total de la varianza.Volviendose PC1 el componente mas importante.**"
      ],
      "metadata": {
        "id": "Sd8j7dA8umD5"
      }
    },
    {
      "cell_type": "markdown",
      "source": [
        "#SCREE PLOT\n",
        "\n",
        "**Para la realización del grafico primero debemos almacenar los componentes en un arreglo e importar las librerias necesarias**"
      ],
      "metadata": {
        "id": "2VDF1pFQ1bLx"
      }
    },
    {
      "cell_type": "code",
      "source": [
        "import matplotlib as mpl\n",
        "import matplotlib.pyplot as plt\n",
        "\n",
        "PC_components = np.arange(pcs.n_components_) + 1"
      ],
      "metadata": {
        "id": "nhAAovbB1Zy2"
      },
      "execution_count": 18,
      "outputs": []
    },
    {
      "cell_type": "code",
      "source": [
        "#Creación del Grafico\n",
        "Grafico2 = seab.set(style = 'whitegrid', \n",
        "            font_scale = 1.2\n",
        "            )\n",
        "\n",
        "fig, ax = plt.subplots(figsize=(10, 7))\n",
        "\n",
        "Grafico2 = seab.barplot(x = PC_components, \n",
        "                y = pcs.explained_variance_ratio_, \n",
        "                color = 'b'\n",
        "                )\n",
        "\n",
        "Grafico2 = seab.lineplot(x = PC_components-1, \n",
        "                 y = np.cumsum(pcs.explained_variance_ratio_), \n",
        "                 color = 'black', \n",
        "                 linestyle = '-', \n",
        "                 linewidth = 2, \n",
        "                 marker = 'o', \n",
        "                 markersize = 8\n",
        "                 )\n",
        "\n",
        "plt.title('Scree Plot')\n",
        "plt.xlabel('N-th Componente Principal')\n",
        "plt.ylabel('Explicación de la varianza')\n",
        "plt.ylim(0, 1)\n",
        "plt.show()"
      ],
      "metadata": {
        "colab": {
          "base_uri": "https://localhost:8080/",
          "height": 469
        },
        "id": "2Q83CEg42Mjj",
        "outputId": "04e8f672-3f5a-4ea2-8ac6-0c5f614f4baf"
      },
      "execution_count": 19,
      "outputs": [
        {
          "output_type": "display_data",
          "data": {
            "text/plain": [
              "<Figure size 720x504 with 1 Axes>"
            ],
            "image/png": "[encoded data removed]"
          },
          "metadata": {}
        }
      ]
    },
    {
      "cell_type": "markdown",
      "source": [
        "**Podemos comprobar que el Componente 1, tiene mayor varianza, por lo que podemos deducir que tiene una mayor cantidad de variabilidad en los datos**\n",
        "\n",
        "**Posteriormente podemos hacer una comprobación de componentes donde primera columna muestra los coeficientes de combinación lineal que define PC1**"
      ],
      "metadata": {
        "id": "h2lzeMk93Dtz"
      }
    },
    {
      "cell_type": "code",
      "source": [
        "validacion_com = pd.DataFrame(pcs.components_.transpose(), \n",
        "                                columns=['PC1', 'PC2'],\n",
        "                                index=['X1', 'X2']\n",
        "                                )\n",
        "validacion_com"
      ],
      "metadata": {
        "colab": {
          "base_uri": "https://localhost:8080/",
          "height": 112
        },
        "id": "j4EJGoLL7J2L",
        "outputId": "ee82b7b4-1ddb-4d22-f49c-e38dac588e8c"
      },
      "execution_count": 20,
      "outputs": [
        {
          "output_type": "execute_result",
          "data": {
            "text/plain": [
              "         PC1       PC2\n",
              "X1  0.719624 -0.694364\n",
              "X2  0.694364  0.719624"
            ],
            "text/html": [
              "\n",
              "  <div id=\"df-5882fe21-997e-4ce2-bf05-2c5015b4dadd\">\n",
              "    <div class=\"colab-df-container\">\n",
              "      <div>\n",
              "<style scoped>\n",
              "    .dataframe tbody tr th:only-of-type {\n",
              "        vertical-align: middle;\n",
              "    }\n",
              "\n",
              "    .dataframe tbody tr th {\n",
              "        vertical-align: top;\n",
              "    }\n",
              "\n",
              "    .dataframe thead th {\n",
              "        text-align: right;\n",
              "    }\n",
              "</style>\n",
              "<table border=\"1\" class=\"dataframe\">\n",
              "  <thead>\n",
              "    <tr style=\"text-align: right;\">\n",
              "      <th></th>\n",
              "      <th>PC1</th>\n",
              "      <th>PC2</th>\n",
              "    </tr>\n",
              "  </thead>\n",
              "  <tbody>\n",
              "    <tr>\n",
              "      <th>X1</th>\n",
              "      <td>0.719624</td>\n",
              "      <td>-0.694364</td>\n",
              "    </tr>\n",
              "    <tr>\n",
              "      <th>X2</th>\n",
              "      <td>0.694364</td>\n",
              "      <td>0.719624</td>\n",
              "    </tr>\n",
              "  </tbody>\n",
              "</table>\n",
              "</div>\n",
              "      <button class=\"colab-df-convert\" onclick=\"convertToInteractive('df-5882fe21-997e-4ce2-bf05-2c5015b4dadd')\"\n",
              "              title=\"Convert this dataframe to an interactive table.\"\n",
              "              style=\"display:none;\">\n",
              "        \n",
              "  <svg xmlns=\"http://www.w3.org/2000/svg\" height=\"24px\"viewBox=\"0 0 24 24\"\n",
              "       width=\"24px\">\n",
              "    <path d=\"M0 0h24v24H0V0z\" fill=\"none\"/>\n",
              "    <path d=\"M18.56 5.44l.94 2.06.94-2.06 2.06-.94-2.06-.94-.94-2.06-.94 2.06-2.06.94zm-11 1L8.5 8.5l.94-2.06 2.06-.94-2.06-.94L8.5 2.5l-.94 2.06-2.06.94zm10 10l.94 2.06.94-2.06 2.06-.94-2.06-.94-.94-2.06-.94 2.06-2.06.94z\"/><path d=\"M17.41 7.96l-1.37-1.37c-.4-.4-.92-.59-1.43-.59-.52 0-1.04.2-1.43.59L10.3 9.45l-7.72 7.72c-.78.78-.78 2.05 0 2.83L4 21.41c.39.39.9.59 1.41.59.51 0 1.02-.2 1.41-.59l7.78-7.78 2.81-2.81c.8-.78.8-2.07 0-2.86zM5.41 20L4 18.59l7.72-7.72 1.47 1.35L5.41 20z\"/>\n",
              "  </svg>\n",
              "      </button>\n",
              "      \n",
              "  <style>\n",
              "    .colab-df-container {\n",
              "      display:flex;\n",
              "      flex-wrap:wrap;\n",
              "      gap: 12px;\n",
              "    }\n",
              "\n",
              "    .colab-df-convert {\n",
              "      background-color: #E8F0FE;\n",
              "      border: none;\n",
              "      border-radius: 50%;\n",
              "      cursor: pointer;\n",
              "      display: none;\n",
              "      fill: #1967D2;\n",
              "      height: 32px;\n",
              "      padding: 0 0 0 0;\n",
              "      width: 32px;\n",
              "    }\n",
              "\n",
              "    .colab-df-convert:hover {\n",
              "      background-color: #E2EBFA;\n",
              "      box-shadow: 0px 1px 2px rgba(60, 64, 67, 0.3), 0px 1px 3px 1px rgba(60, 64, 67, 0.15);\n",
              "      fill: #174EA6;\n",
              "    }\n",
              "\n",
              "    [theme=dark] .colab-df-convert {\n",
              "      background-color: #3B4455;\n",
              "      fill: #D2E3FC;\n",
              "    }\n",
              "\n",
              "    [theme=dark] .colab-df-convert:hover {\n",
              "      background-color: #434B5C;\n",
              "      box-shadow: 0px 1px 3px 1px rgba(0, 0, 0, 0.15);\n",
              "      filter: drop-shadow(0px 1px 2px rgba(0, 0, 0, 0.3));\n",
              "      fill: #FFFFFF;\n",
              "    }\n",
              "  </style>\n",
              "\n",
              "      <script>\n",
              "        const buttonEl =\n",
              "          document.querySelector('#df-5882fe21-997e-4ce2-bf05-2c5015b4dadd button.colab-df-convert');\n",
              "        buttonEl.style.display =\n",
              "          google.colab.kernel.accessAllowed ? 'block' : 'none';\n",
              "\n",
              "        async function convertToInteractive(key) {\n",
              "          const element = document.querySelector('#df-5882fe21-997e-4ce2-bf05-2c5015b4dadd');\n",
              "          const dataTable =\n",
              "            await google.colab.kernel.invokeFunction('convertToInteractive',\n",
              "                                                     [key], {});\n",
              "          if (!dataTable) return;\n",
              "\n",
              "          const docLinkHtml = 'Like what you see? Visit the ' +\n",
              "            '<a target=\"_blank\" href=https://colab.research.google.com/notebooks/data_table.ipynb>data table notebook</a>'\n",
              "            + ' to learn more about interactive tables.';\n",
              "          element.innerHTML = '';\n",
              "          dataTable['output_type'] = 'display_data';\n",
              "          await google.colab.output.renderOutput(dataTable, element);\n",
              "          const docLink = document.createElement('div');\n",
              "          docLink.innerHTML = docLinkHtml;\n",
              "          element.appendChild(docLink);\n",
              "        }\n",
              "      </script>\n",
              "    </div>\n",
              "  </div>\n",
              "  "
            ]
          },
          "metadata": {},
          "execution_count": 20
        }
      ]
    },
    {
      "cell_type": "markdown",
      "source": [
        "**La validación se utiliza para calcular las puntuaciones de los componentes principales, que son los valores proyectados de X1 y la clasificación en los nuevos ejes.**"
      ],
      "metadata": {
        "id": "eU5Vnpe6-mR4"
      }
    },
    {
      "cell_type": "markdown",
      "source": [
        "#Interpretación de los componentes originales\n",
        "\n",
        "**Analizaremos todos los componentes del frame para validar si los componentes fueron seleccionados correctamente, esta vez antes de realizar la extracción de componentes haremos una estandarización para obtener mejores resultados:**"
      ],
      "metadata": {
        "id": "5QEO7ofa8Xg2"
      }
    },
    {
      "cell_type": "code",
      "source": [
        "from sklearn.preprocessing import StandardScaler\n",
        "scaler = StandardScaler() #Funcion para estandarizar\n",
        "scaled = scaler.fit_transform(df3)\n",
        "\n",
        "scaled_df = pd.DataFrame(scaled, columns=df3.columns) #Asignamos Nombre a las columnas\n",
        "scaled_df.head(5)"
      ],
      "metadata": {
        "colab": {
          "base_uri": "https://localhost:8080/",
          "height": 270
        },
        "id": "4A4_xOeB8pa7",
        "outputId": "50b2c5de-2a29-4e7a-edad-3407099cc958"
      },
      "execution_count": 21,
      "outputs": [
        {
          "output_type": "execute_result",
          "data": {
            "text/plain": [
              "        X12       X13       X14       X15       X16       X17       X18  \\\n",
              "0 -0.642721 -0.647594 -0.668203 -0.672731 -0.663322 -0.652911 -0.341931   \n",
              "1 -0.659440 -0.666943 -0.639463 -0.621867 -0.606489 -0.598151 -0.341931   \n",
              "2 -0.298760 -0.494087 -0.482609 -0.449952 -0.417433 -0.391805 -0.250273   \n",
              "3 -0.057678 -0.013457  0.032672 -0.232583 -0.186958 -0.156743 -0.221170   \n",
              "4 -0.578834 -0.611511 -0.161373 -0.347213 -0.348378 -0.331654 -0.221170   \n",
              "\n",
              "        X19       X20       X21       X22  \n",
              "0 -0.227145 -0.296813 -0.308143 -0.314201  \n",
              "1 -0.213647 -0.240013 -0.244309 -0.314201  \n",
              "2 -0.191946 -0.240013 -0.244309 -0.248747  \n",
              "3 -0.169420 -0.228653 -0.237926 -0.244230  \n",
              "4  1.334985  0.271182  0.266363 -0.269103  "
            ],
            "text/html": [
              "\n",
              "  <div id=\"df-9d0e6b95-036f-44b5-af5f-7ba1c9ea2771\">\n",
              "    <div class=\"colab-df-container\">\n",
              "      <div>\n",
              "<style scoped>\n",
              "    .dataframe tbody tr th:only-of-type {\n",
              "        vertical-align: middle;\n",
              "    }\n",
              "\n",
              "    .dataframe tbody tr th {\n",
              "        vertical-align: top;\n",
              "    }\n",
              "\n",
              "    .dataframe thead th {\n",
              "        text-align: right;\n",
              "    }\n",
              "</style>\n",
              "<table border=\"1\" class=\"dataframe\">\n",
              "  <thead>\n",
              "    <tr style=\"text-align: right;\">\n",
              "      <th></th>\n",
              "      <th>X12</th>\n",
              "      <th>X13</th>\n",
              "      <th>X14</th>\n",
              "      <th>X15</th>\n",
              "      <th>X16</th>\n",
              "      <th>X17</th>\n",
              "      <th>X18</th>\n",
              "      <th>X19</th>\n",
              "      <th>X20</th>\n",
              "      <th>X21</th>\n",
              "      <th>X22</th>\n",
              "    </tr>\n",
              "  </thead>\n",
              "  <tbody>\n",
              "    <tr>\n",
              "      <th>0</th>\n",
              "      <td>-0.642721</td>\n",
              "      <td>-0.647594</td>\n",
              "      <td>-0.668203</td>\n",
              "      <td>-0.672731</td>\n",
              "      <td>-0.663322</td>\n",
              "      <td>-0.652911</td>\n",
              "      <td>-0.341931</td>\n",
              "      <td>-0.227145</td>\n",
              "      <td>-0.296813</td>\n",
              "      <td>-0.308143</td>\n",
              "      <td>-0.314201</td>\n",
              "    </tr>\n",
              "    <tr>\n",
              "      <th>1</th>\n",
              "      <td>-0.659440</td>\n",
              "      <td>-0.666943</td>\n",
              "      <td>-0.639463</td>\n",
              "      <td>-0.621867</td>\n",
              "      <td>-0.606489</td>\n",
              "      <td>-0.598151</td>\n",
              "      <td>-0.341931</td>\n",
              "      <td>-0.213647</td>\n",
              "      <td>-0.240013</td>\n",
              "      <td>-0.244309</td>\n",
              "      <td>-0.314201</td>\n",
              "    </tr>\n",
              "    <tr>\n",
              "      <th>2</th>\n",
              "      <td>-0.298760</td>\n",
              "      <td>-0.494087</td>\n",
              "      <td>-0.482609</td>\n",
              "      <td>-0.449952</td>\n",
              "      <td>-0.417433</td>\n",
              "      <td>-0.391805</td>\n",
              "      <td>-0.250273</td>\n",
              "      <td>-0.191946</td>\n",
              "      <td>-0.240013</td>\n",
              "      <td>-0.244309</td>\n",
              "      <td>-0.248747</td>\n",
              "    </tr>\n",
              "    <tr>\n",
              "      <th>3</th>\n",
              "      <td>-0.057678</td>\n",
              "      <td>-0.013457</td>\n",
              "      <td>0.032672</td>\n",
              "      <td>-0.232583</td>\n",
              "      <td>-0.186958</td>\n",
              "      <td>-0.156743</td>\n",
              "      <td>-0.221170</td>\n",
              "      <td>-0.169420</td>\n",
              "      <td>-0.228653</td>\n",
              "      <td>-0.237926</td>\n",
              "      <td>-0.244230</td>\n",
              "    </tr>\n",
              "    <tr>\n",
              "      <th>4</th>\n",
              "      <td>-0.578834</td>\n",
              "      <td>-0.611511</td>\n",
              "      <td>-0.161373</td>\n",
              "      <td>-0.347213</td>\n",
              "      <td>-0.348378</td>\n",
              "      <td>-0.331654</td>\n",
              "      <td>-0.221170</td>\n",
              "      <td>1.334985</td>\n",
              "      <td>0.271182</td>\n",
              "      <td>0.266363</td>\n",
              "      <td>-0.269103</td>\n",
              "    </tr>\n",
              "  </tbody>\n",
              "</table>\n",
              "</div>\n",
              "      <button class=\"colab-df-convert\" onclick=\"convertToInteractive('df-9d0e6b95-036f-44b5-af5f-7ba1c9ea2771')\"\n",
              "              title=\"Convert this dataframe to an interactive table.\"\n",
              "              style=\"display:none;\">\n",
              "        \n",
              "  <svg xmlns=\"http://www.w3.org/2000/svg\" height=\"24px\"viewBox=\"0 0 24 24\"\n",
              "       width=\"24px\">\n",
              "    <path d=\"M0 0h24v24H0V0z\" fill=\"none\"/>\n",
              "    <path d=\"M18.56 5.44l.94 2.06.94-2.06 2.06-.94-2.06-.94-.94-2.06-.94 2.06-2.06.94zm-11 1L8.5 8.5l.94-2.06 2.06-.94-2.06-.94L8.5 2.5l-.94 2.06-2.06.94zm10 10l.94 2.06.94-2.06 2.06-.94-2.06-.94-.94-2.06-.94 2.06-2.06.94z\"/><path d=\"M17.41 7.96l-1.37-1.37c-.4-.4-.92-.59-1.43-.59-.52 0-1.04.2-1.43.59L10.3 9.45l-7.72 7.72c-.78.78-.78 2.05 0 2.83L4 21.41c.39.39.9.59 1.41.59.51 0 1.02-.2 1.41-.59l7.78-7.78 2.81-2.81c.8-.78.8-2.07 0-2.86zM5.41 20L4 18.59l7.72-7.72 1.47 1.35L5.41 20z\"/>\n",
              "  </svg>\n",
              "      </button>\n",
              "      \n",
              "  <style>\n",
              "    .colab-df-container {\n",
              "      display:flex;\n",
              "      flex-wrap:wrap;\n",
              "      gap: 12px;\n",
              "    }\n",
              "\n",
              "    .colab-df-convert {\n",
              "      background-color: #E8F0FE;\n",
              "      border: none;\n",
              "      border-radius: 50%;\n",
              "      cursor: pointer;\n",
              "      display: none;\n",
              "      fill: #1967D2;\n",
              "      height: 32px;\n",
              "      padding: 0 0 0 0;\n",
              "      width: 32px;\n",
              "    }\n",
              "\n",
              "    .colab-df-convert:hover {\n",
              "      background-color: #E2EBFA;\n",
              "      box-shadow: 0px 1px 2px rgba(60, 64, 67, 0.3), 0px 1px 3px 1px rgba(60, 64, 67, 0.15);\n",
              "      fill: #174EA6;\n",
              "    }\n",
              "\n",
              "    [theme=dark] .colab-df-convert {\n",
              "      background-color: #3B4455;\n",
              "      fill: #D2E3FC;\n",
              "    }\n",
              "\n",
              "    [theme=dark] .colab-df-convert:hover {\n",
              "      background-color: #434B5C;\n",
              "      box-shadow: 0px 1px 3px 1px rgba(0, 0, 0, 0.15);\n",
              "      filter: drop-shadow(0px 1px 2px rgba(0, 0, 0, 0.3));\n",
              "      fill: #FFFFFF;\n",
              "    }\n",
              "  </style>\n",
              "\n",
              "      <script>\n",
              "        const buttonEl =\n",
              "          document.querySelector('#df-9d0e6b95-036f-44b5-af5f-7ba1c9ea2771 button.colab-df-convert');\n",
              "        buttonEl.style.display =\n",
              "          google.colab.kernel.accessAllowed ? 'block' : 'none';\n",
              "\n",
              "        async function convertToInteractive(key) {\n",
              "          const element = document.querySelector('#df-9d0e6b95-036f-44b5-af5f-7ba1c9ea2771');\n",
              "          const dataTable =\n",
              "            await google.colab.kernel.invokeFunction('convertToInteractive',\n",
              "                                                     [key], {});\n",
              "          if (!dataTable) return;\n",
              "\n",
              "          const docLinkHtml = 'Like what you see? Visit the ' +\n",
              "            '<a target=\"_blank\" href=https://colab.research.google.com/notebooks/data_table.ipynb>data table notebook</a>'\n",
              "            + ' to learn more about interactive tables.';\n",
              "          element.innerHTML = '';\n",
              "          dataTable['output_type'] = 'display_data';\n",
              "          await google.colab.output.renderOutput(dataTable, element);\n",
              "          const docLink = document.createElement('div');\n",
              "          docLink.innerHTML = docLinkHtml;\n",
              "          element.appendChild(docLink);\n",
              "        }\n",
              "      </script>\n",
              "    </div>\n",
              "  </div>\n",
              "  "
            ]
          },
          "metadata": {},
          "execution_count": 21
        }
      ]
    },
    {
      "cell_type": "markdown",
      "source": [
        "**Analizamos las varianzas de cada conjunto, así como los valores minimos y maximos, para confirmar que no existan picos o brechas significativas entre los datos:**"
      ],
      "metadata": {
        "id": "OgshR8NHA2im"
      }
    },
    {
      "cell_type": "code",
      "source": [
        "cols = [\"X12\", \"X13\"] \n",
        "summary = {\n",
        "\"Varianza\": scaled_df[cols].var()[0:2],\n",
        "\"Valor Min\": scaled_df[cols].min()[0:2],\n",
        "\"Valor Max\": scaled_df[cols].max()[0:2]\n",
        "}\n",
        "#recuerda que la variable cols la definimos más arriba.\n",
        "pd.DataFrame(summary, index = cols).transpose()"
      ],
      "metadata": {
        "colab": {
          "base_uri": "https://localhost:8080/",
          "height": 143
        },
        "id": "ROPqvnD2AzfO",
        "outputId": "e4338a37-b983-4880-c62a-2ebc4880eb69"
      },
      "execution_count": 22,
      "outputs": [
        {
          "output_type": "execute_result",
          "data": {
            "text/plain": [
              "                 X12        X13\n",
              "Varianza    1.000033   1.000033\n",
              "Valor Min  -2.944661  -1.671620\n",
              "Valor Max  12.403478  13.134066"
            ],
            "text/html": [
              "\n",
              "  <div id=\"df-d8216b66-cbba-4be1-986b-f1da44a5dd28\">\n",
              "    <div class=\"colab-df-container\">\n",
              "      <div>\n",
              "<style scoped>\n",
              "    .dataframe tbody tr th:only-of-type {\n",
              "        vertical-align: middle;\n",
              "    }\n",
              "\n",
              "    .dataframe tbody tr th {\n",
              "        vertical-align: top;\n",
              "    }\n",
              "\n",
              "    .dataframe thead th {\n",
              "        text-align: right;\n",
              "    }\n",
              "</style>\n",
              "<table border=\"1\" class=\"dataframe\">\n",
              "  <thead>\n",
              "    <tr style=\"text-align: right;\">\n",
              "      <th></th>\n",
              "      <th>X12</th>\n",
              "      <th>X13</th>\n",
              "    </tr>\n",
              "  </thead>\n",
              "  <tbody>\n",
              "    <tr>\n",
              "      <th>Varianza</th>\n",
              "      <td>1.000033</td>\n",
              "      <td>1.000033</td>\n",
              "    </tr>\n",
              "    <tr>\n",
              "      <th>Valor Min</th>\n",
              "      <td>-2.944661</td>\n",
              "      <td>-1.671620</td>\n",
              "    </tr>\n",
              "    <tr>\n",
              "      <th>Valor Max</th>\n",
              "      <td>12.403478</td>\n",
              "      <td>13.134066</td>\n",
              "    </tr>\n",
              "  </tbody>\n",
              "</table>\n",
              "</div>\n",
              "      <button class=\"colab-df-convert\" onclick=\"convertToInteractive('df-d8216b66-cbba-4be1-986b-f1da44a5dd28')\"\n",
              "              title=\"Convert this dataframe to an interactive table.\"\n",
              "              style=\"display:none;\">\n",
              "        \n",
              "  <svg xmlns=\"http://www.w3.org/2000/svg\" height=\"24px\"viewBox=\"0 0 24 24\"\n",
              "       width=\"24px\">\n",
              "    <path d=\"M0 0h24v24H0V0z\" fill=\"none\"/>\n",
              "    <path d=\"M18.56 5.44l.94 2.06.94-2.06 2.06-.94-2.06-.94-.94-2.06-.94 2.06-2.06.94zm-11 1L8.5 8.5l.94-2.06 2.06-.94-2.06-.94L8.5 2.5l-.94 2.06-2.06.94zm10 10l.94 2.06.94-2.06 2.06-.94-2.06-.94-.94-2.06-.94 2.06-2.06.94z\"/><path d=\"M17.41 7.96l-1.37-1.37c-.4-.4-.92-.59-1.43-.59-.52 0-1.04.2-1.43.59L10.3 9.45l-7.72 7.72c-.78.78-.78 2.05 0 2.83L4 21.41c.39.39.9.59 1.41.59.51 0 1.02-.2 1.41-.59l7.78-7.78 2.81-2.81c.8-.78.8-2.07 0-2.86zM5.41 20L4 18.59l7.72-7.72 1.47 1.35L5.41 20z\"/>\n",
              "  </svg>\n",
              "      </button>\n",
              "      \n",
              "  <style>\n",
              "    .colab-df-container {\n",
              "      display:flex;\n",
              "      flex-wrap:wrap;\n",
              "      gap: 12px;\n",
              "    }\n",
              "\n",
              "    .colab-df-convert {\n",
              "      background-color: #E8F0FE;\n",
              "      border: none;\n",
              "      border-radius: 50%;\n",
              "      cursor: pointer;\n",
              "      display: none;\n",
              "      fill: #1967D2;\n",
              "      height: 32px;\n",
              "      padding: 0 0 0 0;\n",
              "      width: 32px;\n",
              "    }\n",
              "\n",
              "    .colab-df-convert:hover {\n",
              "      background-color: #E2EBFA;\n",
              "      box-shadow: 0px 1px 2px rgba(60, 64, 67, 0.3), 0px 1px 3px 1px rgba(60, 64, 67, 0.15);\n",
              "      fill: #174EA6;\n",
              "    }\n",
              "\n",
              "    [theme=dark] .colab-df-convert {\n",
              "      background-color: #3B4455;\n",
              "      fill: #D2E3FC;\n",
              "    }\n",
              "\n",
              "    [theme=dark] .colab-df-convert:hover {\n",
              "      background-color: #434B5C;\n",
              "      box-shadow: 0px 1px 3px 1px rgba(0, 0, 0, 0.15);\n",
              "      filter: drop-shadow(0px 1px 2px rgba(0, 0, 0, 0.3));\n",
              "      fill: #FFFFFF;\n",
              "    }\n",
              "  </style>\n",
              "\n",
              "      <script>\n",
              "        const buttonEl =\n",
              "          document.querySelector('#df-d8216b66-cbba-4be1-986b-f1da44a5dd28 button.colab-df-convert');\n",
              "        buttonEl.style.display =\n",
              "          google.colab.kernel.accessAllowed ? 'block' : 'none';\n",
              "\n",
              "        async function convertToInteractive(key) {\n",
              "          const element = document.querySelector('#df-d8216b66-cbba-4be1-986b-f1da44a5dd28');\n",
              "          const dataTable =\n",
              "            await google.colab.kernel.invokeFunction('convertToInteractive',\n",
              "                                                     [key], {});\n",
              "          if (!dataTable) return;\n",
              "\n",
              "          const docLinkHtml = 'Like what you see? Visit the ' +\n",
              "            '<a target=\"_blank\" href=https://colab.research.google.com/notebooks/data_table.ipynb>data table notebook</a>'\n",
              "            + ' to learn more about interactive tables.';\n",
              "          element.innerHTML = '';\n",
              "          dataTable['output_type'] = 'display_data';\n",
              "          await google.colab.output.renderOutput(dataTable, element);\n",
              "          const docLink = document.createElement('div');\n",
              "          docLink.innerHTML = docLinkHtml;\n",
              "          element.appendChild(docLink);\n",
              "        }\n",
              "      </script>\n",
              "    </div>\n",
              "  </div>\n",
              "  "
            ]
          },
          "metadata": {},
          "execution_count": 22
        }
      ]
    },
    {
      "cell_type": "markdown",
      "source": [
        "**Obtenemos los componentes principales de todas las variables númericas que se tenian originalmente, las cuales abarcan de X12 a X22**"
      ],
      "metadata": {
        "id": "8qoUw7WpF4k6"
      }
    },
    {
      "cell_type": "code",
      "source": [
        "pcs = PCA()\n",
        "pcs.fit(scaled_df.iloc[:,:].dropna(axis=0))\n",
        "pcsSummary_df = pd.DataFrame({'Desviación Estándar': np.sqrt(pcs.explained_variance_),\n",
        "                          'Proporción de varianza': pcs.explained_variance_ratio_,\n",
        "                          'Varianza Acumulada': np.cumsum(pcs.explained_variance_ratio_)\n",
        "                          }\n",
        "                          )\n",
        "pcsSummary_df = pcsSummary_df.transpose()\n",
        "pcsSummary_df.columns = ['PC{}'.format(i) for i in range(1, len(pcsSummary_df.columns) +1)]\n",
        "pcsSummary_df.round(4)"
      ],
      "metadata": {
        "colab": {
          "base_uri": "https://localhost:8080/",
          "height": 187
        },
        "id": "B6K0gquWD8l3",
        "outputId": "8275b042-5111-48af-d87f-89a777ca03ab"
      },
      "execution_count": 23,
      "outputs": [
        {
          "output_type": "execute_result",
          "data": {
            "text/plain": [
              "                           PC1     PC2     PC3     PC4     PC5     PC6  \\\n",
              "Desviación Estándar     2.3932  1.2437  0.9515  0.9356  0.8827  0.8550   \n",
              "Proporción de varianza  0.5206  0.1406  0.0823  0.0796  0.0708  0.0665   \n",
              "Varianza Acumulada      0.5206  0.6613  0.7436  0.8231  0.8940  0.9604   \n",
              "\n",
              "                           PC7     PC8     PC9    PC10    PC11  \n",
              "Desviación Estándar     0.5217  0.2684  0.2050  0.1600  0.1527  \n",
              "Proporción de varianza  0.0247  0.0066  0.0038  0.0023  0.0021  \n",
              "Varianza Acumulada      0.9852  0.9917  0.9956  0.9979  1.0000  "
            ],
            "text/html": [
              "\n",
              "  <div id=\"df-e49ae739-979a-479f-8b13-e1143ddb3641\">\n",
              "    <div class=\"colab-df-container\">\n",
              "      <div>\n",
              "<style scoped>\n",
              "    .dataframe tbody tr th:only-of-type {\n",
              "        vertical-align: middle;\n",
              "    }\n",
              "\n",
              "    .dataframe tbody tr th {\n",
              "        vertical-align: top;\n",
              "    }\n",
              "\n",
              "    .dataframe thead th {\n",
              "        text-align: right;\n",
              "    }\n",
              "</style>\n",
              "<table border=\"1\" class=\"dataframe\">\n",
              "  <thead>\n",
              "    <tr style=\"text-align: right;\">\n",
              "      <th></th>\n",
              "      <th>PC1</th>\n",
              "      <th>PC2</th>\n",
              "      <th>PC3</th>\n",
              "      <th>PC4</th>\n",
              "      <th>PC5</th>\n",
              "      <th>PC6</th>\n",
              "      <th>PC7</th>\n",
              "      <th>PC8</th>\n",
              "      <th>PC9</th>\n",
              "      <th>PC10</th>\n",
              "      <th>PC11</th>\n",
              "    </tr>\n",
              "  </thead>\n",
              "  <tbody>\n",
              "    <tr>\n",
              "      <th>Desviación Estándar</th>\n",
              "      <td>2.3932</td>\n",
              "      <td>1.2437</td>\n",
              "      <td>0.9515</td>\n",
              "      <td>0.9356</td>\n",
              "      <td>0.8827</td>\n",
              "      <td>0.8550</td>\n",
              "      <td>0.5217</td>\n",
              "      <td>0.2684</td>\n",
              "      <td>0.2050</td>\n",
              "      <td>0.1600</td>\n",
              "      <td>0.1527</td>\n",
              "    </tr>\n",
              "    <tr>\n",
              "      <th>Proporción de varianza</th>\n",
              "      <td>0.5206</td>\n",
              "      <td>0.1406</td>\n",
              "      <td>0.0823</td>\n",
              "      <td>0.0796</td>\n",
              "      <td>0.0708</td>\n",
              "      <td>0.0665</td>\n",
              "      <td>0.0247</td>\n",
              "      <td>0.0066</td>\n",
              "      <td>0.0038</td>\n",
              "      <td>0.0023</td>\n",
              "      <td>0.0021</td>\n",
              "    </tr>\n",
              "    <tr>\n",
              "      <th>Varianza Acumulada</th>\n",
              "      <td>0.5206</td>\n",
              "      <td>0.6613</td>\n",
              "      <td>0.7436</td>\n",
              "      <td>0.8231</td>\n",
              "      <td>0.8940</td>\n",
              "      <td>0.9604</td>\n",
              "      <td>0.9852</td>\n",
              "      <td>0.9917</td>\n",
              "      <td>0.9956</td>\n",
              "      <td>0.9979</td>\n",
              "      <td>1.0000</td>\n",
              "    </tr>\n",
              "  </tbody>\n",
              "</table>\n",
              "</div>\n",
              "      <button class=\"colab-df-convert\" onclick=\"convertToInteractive('df-e49ae739-979a-479f-8b13-e1143ddb3641')\"\n",
              "              title=\"Convert this dataframe to an interactive table.\"\n",
              "              style=\"display:none;\">\n",
              "        \n",
              "  <svg xmlns=\"http://www.w3.org/2000/svg\" height=\"24px\"viewBox=\"0 0 24 24\"\n",
              "       width=\"24px\">\n",
              "    <path d=\"M0 0h24v24H0V0z\" fill=\"none\"/>\n",
              "    <path d=\"M18.56 5.44l.94 2.06.94-2.06 2.06-.94-2.06-.94-.94-2.06-.94 2.06-2.06.94zm-11 1L8.5 8.5l.94-2.06 2.06-.94-2.06-.94L8.5 2.5l-.94 2.06-2.06.94zm10 10l.94 2.06.94-2.06 2.06-.94-2.06-.94-.94-2.06-.94 2.06-2.06.94z\"/><path d=\"M17.41 7.96l-1.37-1.37c-.4-.4-.92-.59-1.43-.59-.52 0-1.04.2-1.43.59L10.3 9.45l-7.72 7.72c-.78.78-.78 2.05 0 2.83L4 21.41c.39.39.9.59 1.41.59.51 0 1.02-.2 1.41-.59l7.78-7.78 2.81-2.81c.8-.78.8-2.07 0-2.86zM5.41 20L4 18.59l7.72-7.72 1.47 1.35L5.41 20z\"/>\n",
              "  </svg>\n",
              "      </button>\n",
              "      \n",
              "  <style>\n",
              "    .colab-df-container {\n",
              "      display:flex;\n",
              "      flex-wrap:wrap;\n",
              "      gap: 12px;\n",
              "    }\n",
              "\n",
              "    .colab-df-convert {\n",
              "      background-color: #E8F0FE;\n",
              "      border: none;\n",
              "      border-radius: 50%;\n",
              "      cursor: pointer;\n",
              "      display: none;\n",
              "      fill: #1967D2;\n",
              "      height: 32px;\n",
              "      padding: 0 0 0 0;\n",
              "      width: 32px;\n",
              "    }\n",
              "\n",
              "    .colab-df-convert:hover {\n",
              "      background-color: #E2EBFA;\n",
              "      box-shadow: 0px 1px 2px rgba(60, 64, 67, 0.3), 0px 1px 3px 1px rgba(60, 64, 67, 0.15);\n",
              "      fill: #174EA6;\n",
              "    }\n",
              "\n",
              "    [theme=dark] .colab-df-convert {\n",
              "      background-color: #3B4455;\n",
              "      fill: #D2E3FC;\n",
              "    }\n",
              "\n",
              "    [theme=dark] .colab-df-convert:hover {\n",
              "      background-color: #434B5C;\n",
              "      box-shadow: 0px 1px 3px 1px rgba(0, 0, 0, 0.15);\n",
              "      filter: drop-shadow(0px 1px 2px rgba(0, 0, 0, 0.3));\n",
              "      fill: #FFFFFF;\n",
              "    }\n",
              "  </style>\n",
              "\n",
              "      <script>\n",
              "        const buttonEl =\n",
              "          document.querySelector('#df-e49ae739-979a-479f-8b13-e1143ddb3641 button.colab-df-convert');\n",
              "        buttonEl.style.display =\n",
              "          google.colab.kernel.accessAllowed ? 'block' : 'none';\n",
              "\n",
              "        async function convertToInteractive(key) {\n",
              "          const element = document.querySelector('#df-e49ae739-979a-479f-8b13-e1143ddb3641');\n",
              "          const dataTable =\n",
              "            await google.colab.kernel.invokeFunction('convertToInteractive',\n",
              "                                                     [key], {});\n",
              "          if (!dataTable) return;\n",
              "\n",
              "          const docLinkHtml = 'Like what you see? Visit the ' +\n",
              "            '<a target=\"_blank\" href=https://colab.research.google.com/notebooks/data_table.ipynb>data table notebook</a>'\n",
              "            + ' to learn more about interactive tables.';\n",
              "          element.innerHTML = '';\n",
              "          dataTable['output_type'] = 'display_data';\n",
              "          await google.colab.output.renderOutput(dataTable, element);\n",
              "          const docLink = document.createElement('div');\n",
              "          docLink.innerHTML = docLinkHtml;\n",
              "          element.appendChild(docLink);\n",
              "        }\n",
              "      </script>\n",
              "    </div>\n",
              "  </div>\n",
              "  "
            ]
          },
          "metadata": {},
          "execution_count": 23
        }
      ]
    },
    {
      "cell_type": "markdown",
      "source": [
        "#Gráfico para la interpretacion de todos los datos originales.\n",
        "\n",
        "**Realizamos el grafico para todos los componentes**"
      ],
      "metadata": {
        "id": "DD_A0FEiJEUm"
      }
    },
    {
      "cell_type": "code",
      "source": [
        "PC_components = np.arange(pcs.n_components_) + 1\n",
        "#PC_components\n",
        "\n",
        "Scree2 = seab.set(style = 'whitegrid', \n",
        "            font_scale = 1.2\n",
        "            )\n",
        "\n",
        "fig, ax = plt.subplots(figsize=(10, 7))\n",
        "\n",
        "Scree2 = seab.barplot(x = PC_components, \n",
        "                y = pcs.explained_variance_ratio_, \n",
        "                color = 'b'\n",
        "                )\n",
        "\n",
        "Scree2 = seab.lineplot(x = PC_components-1, \n",
        "                 y = np.cumsum(pcs.explained_variance_ratio_), \n",
        "                 color = 'black', \n",
        "                 linestyle = '-', \n",
        "                 linewidth = 2, \n",
        "                 marker = 'o', \n",
        "                 markersize = 8\n",
        "                 )\n",
        "plt.title('Scree Plot')\n",
        "plt.xlabel('N-th Componente Principal')\n",
        "plt.ylabel('Explicación de la varianza')\n",
        "plt.ylim(0, 1)\n",
        "plt.show()"
      ],
      "metadata": {
        "colab": {
          "base_uri": "https://localhost:8080/",
          "height": 469
        },
        "id": "Z6dvmDixI3pn",
        "outputId": "cee037f8-e472-4d39-b521-f7c07c7e794d"
      },
      "execution_count": 24,
      "outputs": [
        {
          "output_type": "display_data",
          "data": {
            "text/plain": [
              "<Figure size 720x504 with 1 Axes>"
            ],
            "image/png": "[encoded data removed]"
          },
          "metadata": {}
        }
      ]
    },
    {
      "cell_type": "markdown",
      "source": [
        "**Podemos comprobar que los PC1 y PC2 siguen siendo el conjunto con una mayor varianza.**\n",
        "\n",
        "**Comprobamos el porcentaje de varianza que representan:**"
      ],
      "metadata": {
        "id": "KqveVueAbsdb"
      }
    },
    {
      "cell_type": "code",
      "source": [
        "#pcsSummary_df.iloc[1][0]+pcsSummary_df.iloc[1][1]\n",
        "((pcsSummary_df.iloc[2][2])*100).round(2)"
      ],
      "metadata": {
        "colab": {
          "base_uri": "https://localhost:8080/"
        },
        "id": "ZMPqah6sbueX",
        "outputId": "2071f511-1d79-4947-8bed-b4d368ce7baf"
      },
      "execution_count": 25,
      "outputs": [
        {
          "output_type": "execute_result",
          "data": {
            "text/plain": [
              "74.36"
            ]
          },
          "metadata": {},
          "execution_count": 25
        }
      ]
    },
    {
      "cell_type": "markdown",
      "source": [
        "**Los primeros dos componentes representan el 74% del total de la variacion.**\n",
        "\n",
        "**Para saber cuales son esos componentes asignamos como index los factores de los que se derivan:**\n"
      ],
      "metadata": {
        "id": "mw7ezkNUb_7u"
      }
    },
    {
      "cell_type": "code",
      "source": [
        "pcsComponents_dfX = pd.DataFrame(pcs.components_.transpose(), \n",
        "                                columns = pcsSummary_df.columns,\n",
        "                                index = df3.iloc[::].columns\n",
        "                                )\n",
        "pcsComponents_dfX"
      ],
      "metadata": {
        "colab": {
          "base_uri": "https://localhost:8080/",
          "height": 458
        },
        "id": "xn4qVxWWcAkd",
        "outputId": "6c2fd777-540f-4e46-b80c-da57a04e37a8"
      },
      "execution_count": 26,
      "outputs": [
        {
          "output_type": "execute_result",
          "data": {
            "text/plain": [
              "          PC1       PC2       PC3       PC4       PC5       PC6       PC7  \\\n",
              "X12  0.381394 -0.187502 -0.029338 -0.014221  0.003426 -0.007662  0.568996   \n",
              "X13  0.393036 -0.158228  0.046125  0.021602 -0.043082 -0.145478  0.381265   \n",
              "X14  0.397843 -0.096241  0.075008  0.143633 -0.120872  0.098295  0.122923   \n",
              "X15  0.401080 -0.086946  0.079692  0.026543  0.128885  0.035857 -0.198418   \n",
              "X16  0.398000 -0.067211  0.018015 -0.143474  0.001540  0.057274 -0.417589   \n",
              "X17  0.390676 -0.045455 -0.151003 -0.034469  0.029252  0.020855 -0.511449   \n",
              "X18  0.131374  0.448690  0.383984  0.159654 -0.237866 -0.728383 -0.073074   \n",
              "X19  0.113005  0.489946  0.261326  0.417171 -0.251992  0.629041  0.041011   \n",
              "X20  0.123830  0.459707  0.146293 -0.225416  0.812189  0.048682  0.134123   \n",
              "X21  0.112506  0.397580 -0.228175 -0.741816 -0.426654  0.102176  0.114103   \n",
              "X22  0.108928  0.325009 -0.820188  0.394461  0.065483 -0.158338  0.049077   \n",
              "\n",
              "          PC8       PC9      PC10      PC11  \n",
              "X12  0.411346 -0.437178 -0.176782 -0.320795  \n",
              "X13  0.051951  0.348741  0.302091  0.658735  \n",
              "X14 -0.471346  0.505445 -0.049612 -0.535460  \n",
              "X15 -0.532478 -0.461534 -0.399038  0.333879  \n",
              "X16  0.047685 -0.277465  0.724610 -0.184894  \n",
              "X17  0.522878  0.334542 -0.413986  0.041730  \n",
              "X18  0.048685 -0.067073 -0.043183 -0.085380  \n",
              "X19  0.148218 -0.068919  0.030405  0.127839  \n",
              "X20  0.006258  0.127554  0.030648 -0.062150  \n",
              "X21 -0.111321  0.011553 -0.085762  0.039289  \n",
              "X22 -0.099750 -0.064880  0.090933 -0.001008  "
            ],
            "text/html": [
              "\n",
              "  <div id=\"df-61b874e6-aea7-4d60-9497-70db5f69d867\">\n",
              "    <div class=\"colab-df-container\">\n",
              "      <div>\n",
              "<style scoped>\n",
              "    .dataframe tbody tr th:only-of-type {\n",
              "        vertical-align: middle;\n",
              "    }\n",
              "\n",
              "    .dataframe tbody tr th {\n",
              "        vertical-align: top;\n",
              "    }\n",
              "\n",
              "    .dataframe thead th {\n",
              "        text-align: right;\n",
              "    }\n",
              "</style>\n",
              "<table border=\"1\" class=\"dataframe\">\n",
              "  <thead>\n",
              "    <tr style=\"text-align: right;\">\n",
              "      <th></th>\n",
              "      <th>PC1</th>\n",
              "      <th>PC2</th>\n",
              "      <th>PC3</th>\n",
              "      <th>PC4</th>\n",
              "      <th>PC5</th>\n",
              "      <th>PC6</th>\n",
              "      <th>PC7</th>\n",
              "      <th>PC8</th>\n",
              "      <th>PC9</th>\n",
              "      <th>PC10</th>\n",
              "      <th>PC11</th>\n",
              "    </tr>\n",
              "  </thead>\n",
              "  <tbody>\n",
              "    <tr>\n",
              "      <th>X12</th>\n",
              "      <td>0.381394</td>\n",
              "      <td>-0.187502</td>\n",
              "      <td>-0.029338</td>\n",
              "      <td>-0.014221</td>\n",
              "      <td>0.003426</td>\n",
              "      <td>-0.007662</td>\n",
              "      <td>0.568996</td>\n",
              "      <td>0.411346</td>\n",
              "      <td>-0.437178</td>\n",
              "      <td>-0.176782</td>\n",
              "      <td>-0.320795</td>\n",
              "    </tr>\n",
              "    <tr>\n",
              "      <th>X13</th>\n",
              "      <td>0.393036</td>\n",
              "      <td>-0.158228</td>\n",
              "      <td>0.046125</td>\n",
              "      <td>0.021602</td>\n",
              "      <td>-0.043082</td>\n",
              "      <td>-0.145478</td>\n",
              "      <td>0.381265</td>\n",
              "      <td>0.051951</td>\n",
              "      <td>0.348741</td>\n",
              "      <td>0.302091</td>\n",
              "      <td>0.658735</td>\n",
              "    </tr>\n",
              "    <tr>\n",
              "      <th>X14</th>\n",
              "      <td>0.397843</td>\n",
              "      <td>-0.096241</td>\n",
              "      <td>0.075008</td>\n",
              "      <td>0.143633</td>\n",
              "      <td>-0.120872</td>\n",
              "      <td>0.098295</td>\n",
              "      <td>0.122923</td>\n",
              "      <td>-0.471346</td>\n",
              "      <td>0.505445</td>\n",
              "      <td>-0.049612</td>\n",
              "      <td>-0.535460</td>\n",
              "    </tr>\n",
              "    <tr>\n",
              "      <th>X15</th>\n",
              "      <td>0.401080</td>\n",
              "      <td>-0.086946</td>\n",
              "      <td>0.079692</td>\n",
              "      <td>0.026543</td>\n",
              "      <td>0.128885</td>\n",
              "      <td>0.035857</td>\n",
              "      <td>-0.198418</td>\n",
              "      <td>-0.532478</td>\n",
              "      <td>-0.461534</td>\n",
              "      <td>-0.399038</td>\n",
              "      <td>0.333879</td>\n",
              "    </tr>\n",
              "    <tr>\n",
              "      <th>X16</th>\n",
              "      <td>0.398000</td>\n",
              "      <td>-0.067211</td>\n",
              "      <td>0.018015</td>\n",
              "      <td>-0.143474</td>\n",
              "      <td>0.001540</td>\n",
              "      <td>0.057274</td>\n",
              "      <td>-0.417589</td>\n",
              "      <td>0.047685</td>\n",
              "      <td>-0.277465</td>\n",
              "      <td>0.724610</td>\n",
              "      <td>-0.184894</td>\n",
              "    </tr>\n",
              "    <tr>\n",
              "      <th>X17</th>\n",
              "      <td>0.390676</td>\n",
              "      <td>-0.045455</td>\n",
              "      <td>-0.151003</td>\n",
              "      <td>-0.034469</td>\n",
              "      <td>0.029252</td>\n",
              "      <td>0.020855</td>\n",
              "      <td>-0.511449</td>\n",
              "      <td>0.522878</td>\n",
              "      <td>0.334542</td>\n",
              "      <td>-0.413986</td>\n",
              "      <td>0.041730</td>\n",
              "    </tr>\n",
              "    <tr>\n",
              "      <th>X18</th>\n",
              "      <td>0.131374</td>\n",
              "      <td>0.448690</td>\n",
              "      <td>0.383984</td>\n",
              "      <td>0.159654</td>\n",
              "      <td>-0.237866</td>\n",
              "      <td>-0.728383</td>\n",
              "      <td>-0.073074</td>\n",
              "      <td>0.048685</td>\n",
              "      <td>-0.067073</td>\n",
              "      <td>-0.043183</td>\n",
              "      <td>-0.085380</td>\n",
              "    </tr>\n",
              "    <tr>\n",
              "      <th>X19</th>\n",
              "      <td>0.113005</td>\n",
              "      <td>0.489946</td>\n",
              "      <td>0.261326</td>\n",
              "      <td>0.417171</td>\n",
              "      <td>-0.251992</td>\n",
              "      <td>0.629041</td>\n",
              "      <td>0.041011</td>\n",
              "      <td>0.148218</td>\n",
              "      <td>-0.068919</td>\n",
              "      <td>0.030405</td>\n",
              "      <td>0.127839</td>\n",
              "    </tr>\n",
              "    <tr>\n",
              "      <th>X20</th>\n",
              "      <td>0.123830</td>\n",
              "      <td>0.459707</td>\n",
              "      <td>0.146293</td>\n",
              "      <td>-0.225416</td>\n",
              "      <td>0.812189</td>\n",
              "      <td>0.048682</td>\n",
              "      <td>0.134123</td>\n",
              "      <td>0.006258</td>\n",
              "      <td>0.127554</td>\n",
              "      <td>0.030648</td>\n",
              "      <td>-0.062150</td>\n",
              "    </tr>\n",
              "    <tr>\n",
              "      <th>X21</th>\n",
              "      <td>0.112506</td>\n",
              "      <td>0.397580</td>\n",
              "      <td>-0.228175</td>\n",
              "      <td>-0.741816</td>\n",
              "      <td>-0.426654</td>\n",
              "      <td>0.102176</td>\n",
              "      <td>0.114103</td>\n",
              "      <td>-0.111321</td>\n",
              "      <td>0.011553</td>\n",
              "      <td>-0.085762</td>\n",
              "      <td>0.039289</td>\n",
              "    </tr>\n",
              "    <tr>\n",
              "      <th>X22</th>\n",
              "      <td>0.108928</td>\n",
              "      <td>0.325009</td>\n",
              "      <td>-0.820188</td>\n",
              "      <td>0.394461</td>\n",
              "      <td>0.065483</td>\n",
              "      <td>-0.158338</td>\n",
              "      <td>0.049077</td>\n",
              "      <td>-0.099750</td>\n",
              "      <td>-0.064880</td>\n",
              "      <td>0.090933</td>\n",
              "      <td>-0.001008</td>\n",
              "    </tr>\n",
              "  </tbody>\n",
              "</table>\n",
              "</div>\n",
              "      <button class=\"colab-df-convert\" onclick=\"convertToInteractive('df-61b874e6-aea7-4d60-9497-70db5f69d867')\"\n",
              "              title=\"Convert this dataframe to an interactive table.\"\n",
              "              style=\"display:none;\">\n",
              "        \n",
              "  <svg xmlns=\"http://www.w3.org/2000/svg\" height=\"24px\"viewBox=\"0 0 24 24\"\n",
              "       width=\"24px\">\n",
              "    <path d=\"M0 0h24v24H0V0z\" fill=\"none\"/>\n",
              "    <path d=\"M18.56 5.44l.94 2.06.94-2.06 2.06-.94-2.06-.94-.94-2.06-.94 2.06-2.06.94zm-11 1L8.5 8.5l.94-2.06 2.06-.94-2.06-.94L8.5 2.5l-.94 2.06-2.06.94zm10 10l.94 2.06.94-2.06 2.06-.94-2.06-.94-.94-2.06-.94 2.06-2.06.94z\"/><path d=\"M17.41 7.96l-1.37-1.37c-.4-.4-.92-.59-1.43-.59-.52 0-1.04.2-1.43.59L10.3 9.45l-7.72 7.72c-.78.78-.78 2.05 0 2.83L4 21.41c.39.39.9.59 1.41.59.51 0 1.02-.2 1.41-.59l7.78-7.78 2.81-2.81c.8-.78.8-2.07 0-2.86zM5.41 20L4 18.59l7.72-7.72 1.47 1.35L5.41 20z\"/>\n",
              "  </svg>\n",
              "      </button>\n",
              "      \n",
              "  <style>\n",
              "    .colab-df-container {\n",
              "      display:flex;\n",
              "      flex-wrap:wrap;\n",
              "      gap: 12px;\n",
              "    }\n",
              "\n",
              "    .colab-df-convert {\n",
              "      background-color: #E8F0FE;\n",
              "      border: none;\n",
              "      border-radius: 50%;\n",
              "      cursor: pointer;\n",
              "      display: none;\n",
              "      fill: #1967D2;\n",
              "      height: 32px;\n",
              "      padding: 0 0 0 0;\n",
              "      width: 32px;\n",
              "    }\n",
              "\n",
              "    .colab-df-convert:hover {\n",
              "      background-color: #E2EBFA;\n",
              "      box-shadow: 0px 1px 2px rgba(60, 64, 67, 0.3), 0px 1px 3px 1px rgba(60, 64, 67, 0.15);\n",
              "      fill: #174EA6;\n",
              "    }\n",
              "\n",
              "    [theme=dark] .colab-df-convert {\n",
              "      background-color: #3B4455;\n",
              "      fill: #D2E3FC;\n",
              "    }\n",
              "\n",
              "    [theme=dark] .colab-df-convert:hover {\n",
              "      background-color: #434B5C;\n",
              "      box-shadow: 0px 1px 3px 1px rgba(0, 0, 0, 0.15);\n",
              "      filter: drop-shadow(0px 1px 2px rgba(0, 0, 0, 0.3));\n",
              "      fill: #FFFFFF;\n",
              "    }\n",
              "  </style>\n",
              "\n",
              "      <script>\n",
              "        const buttonEl =\n",
              "          document.querySelector('#df-61b874e6-aea7-4d60-9497-70db5f69d867 button.colab-df-convert');\n",
              "        buttonEl.style.display =\n",
              "          google.colab.kernel.accessAllowed ? 'block' : 'none';\n",
              "\n",
              "        async function convertToInteractive(key) {\n",
              "          const element = document.querySelector('#df-61b874e6-aea7-4d60-9497-70db5f69d867');\n",
              "          const dataTable =\n",
              "            await google.colab.kernel.invokeFunction('convertToInteractive',\n",
              "                                                     [key], {});\n",
              "          if (!dataTable) return;\n",
              "\n",
              "          const docLinkHtml = 'Like what you see? Visit the ' +\n",
              "            '<a target=\"_blank\" href=https://colab.research.google.com/notebooks/data_table.ipynb>data table notebook</a>'\n",
              "            + ' to learn more about interactive tables.';\n",
              "          element.innerHTML = '';\n",
              "          dataTable['output_type'] = 'display_data';\n",
              "          await google.colab.output.renderOutput(dataTable, element);\n",
              "          const docLink = document.createElement('div');\n",
              "          docLink.innerHTML = docLinkHtml;\n",
              "          element.appendChild(docLink);\n",
              "        }\n",
              "      </script>\n",
              "    </div>\n",
              "  </div>\n",
              "  "
            ]
          },
          "metadata": {},
          "execution_count": 26
        }
      ]
    },
    {
      "cell_type": "markdown",
      "source": [
        "**Despues de esto analizamos la cantidad de componentes que se necesitan para obtener un mayor porcentaje de varianza. Por lo que podemos reducir nuestra dimension de 11 a 5, sin arriesgarse un a tener una perdida significativa de información**"
      ],
      "metadata": {
        "id": "_C50j5IscEUX"
      }
    },
    {
      "cell_type": "code",
      "source": [
        "#pcsSummary_df.iloc[1][0]+pcsSummary_df.iloc[1][1]\n",
        "((pcsSummary_df.iloc[2][6])*100).round(2)"
      ],
      "metadata": {
        "colab": {
          "base_uri": "https://localhost:8080/"
        },
        "id": "WBQxuzdzcP8q",
        "outputId": "8fde1947-796d-4d64-9729-b79eca655045"
      },
      "execution_count": 28,
      "outputs": [
        {
          "output_type": "execute_result",
          "data": {
            "text/plain": [
              "98.52"
            ]
          },
          "metadata": {},
          "execution_count": 28
        }
      ]
    },
    {
      "cell_type": "markdown",
      "source": [
        "**Los primeros 6 Componentes representan el 98% de la varianza del conjunto**"
      ],
      "metadata": {
        "id": "WqeQs0cxcVP8"
      }
    },
    {
      "cell_type": "code",
      "source": [
        "pcsComponents_dfX.PC1.nlargest(3)"
      ],
      "metadata": {
        "colab": {
          "base_uri": "https://localhost:8080/"
        },
        "id": "Sk4i_37IcSSP",
        "outputId": "cf866226-a09e-456e-de53-b2ef7cf49a1c"
      },
      "execution_count": 29,
      "outputs": [
        {
          "output_type": "execute_result",
          "data": {
            "text/plain": [
              "X15    0.401080\n",
              "X16    0.398000\n",
              "X14    0.397843\n",
              "Name: PC1, dtype: float64"
            ]
          },
          "metadata": {},
          "execution_count": 29
        }
      ]
    },
    {
      "cell_type": "markdown",
      "source": [
        "**Arriba se muestran las variables de X mas representativas, del PC1 que es hasta ahora el mas significativo.**"
      ],
      "metadata": {
        "id": "dJsEi7R1cc7E"
      }
    },
    {
      "cell_type": "markdown",
      "source": [
        "**En la siguiente parte veremos de manera distinta la gráfica presentada y nos ayudará a determinar el número de componentes necesarios.**"
      ],
      "metadata": {
        "id": "FeL7WomjP8o5"
      }
    },
    {
      "cell_type": "code",
      "source": [
        "from sklearn.decomposition import PCA\n",
        "#Se define el número de PCA a generar \n",
        "n=scaled_df.shape[1]\n",
        "\n",
        "#encontrando los PCA\n",
        "pca = PCA(n_components=n, random_state=1)\n",
        "data_pca1 = pd.DataFrame(pca.fit_transform(scaled_df))\n",
        "\n",
        "#varianza explicada por cada PCA\n",
        "exp_var = pca.explained_variance_ratio_\n",
        "\n",
        "\n",
        "# número mínimo de componentes que explican el 90% de la varianza\n",
        "sum = 0\n",
        "for ix, i in enumerate(exp_var):\n",
        "  sum = sum + i\n",
        "  if(sum>0.90):\n",
        "    print(\"Número de PCA que explican al menos el 90% de la varianza: \", ix+1)\n",
        "    break"
      ],
      "metadata": {
        "id": "QL1XwlhyQakc",
        "outputId": "1a8bce71-f1d8-41b7-ba97-518fc52d017f",
        "colab": {
          "base_uri": "https://localhost:8080/"
        }
      },
      "execution_count": null,
      "outputs": [
        {
          "output_type": "stream",
          "name": "stdout",
          "text": [
            "Número de PCA que explican al menos el 90% de la varianza:  6\n"
          ]
        }
      ]
    },
    {
      "cell_type": "code",
      "source": [
        "import matplotlib.pyplot as plt\n",
        "# gráfica de la varianza explicada por componente\n",
        "plt.figure(figsize = (10,10))\n",
        "plt.plot(range(0,11), exp_var.cumsum(), marker = 'o', linestyle = '--')\n",
        "plt.title(\"Varianza explicada por componente\")\n",
        "plt.xlabel(\"Número de componentes\")\n",
        "plt.ylabel(\"Varianza explicada acumulada\")"
      ],
      "metadata": {
        "id": "qF1EgQJ9RvZ5",
        "outputId": "786d289c-75cb-4db4-fff8-ad69ed43895d",
        "colab": {
          "base_uri": "https://localhost:8080/",
          "height": 639
        }
      },
      "execution_count": null,
      "outputs": [
        {
          "output_type": "execute_result",
          "data": {
            "text/plain": [
              "Text(0, 0.5, 'Varianza explicada acumulada')"
            ]
          },
          "metadata": {},
          "execution_count": 15
        },
        {
          "output_type": "display_data",
          "data": {
            "text/plain": [
              "<Figure size 720x720 with 1 Axes>"
            ],
            "image/png": "[encoded data removed]"
          },
          "metadata": {
            "needs_background": "light"
          }
        }
      ]
    },
    {
      "cell_type": "markdown",
      "source": [
        "**Paso 3: Identifique valores atípicos**"
      ],
      "metadata": {
        "id": "jlbEdwFXciRz"
      }
    },
    {
      "cell_type": "markdown",
      "source": [
        "**Finalmente, se muestra una gráfia de distribución y una boxplot para explorar los valores atipícos que podemos encontrar en nuestros datos. En general se observan una cantidad importante de outliers y las variables después de la X18, parecen estar cargadas a la izquierda**"
      ],
      "metadata": {
        "id": "6yUKGqJDSAQ_"
      }
    },
    {
      "cell_type": "code",
      "source": [
        "import seaborn as sns\n",
        "\n",
        "for col in df3.columns:\n",
        "    print(col)\n",
        "    print('Skew :',round(df3[col].skew(),2))\n",
        "    plt.figure(figsize=(15,4))\n",
        "    plt.subplot(1,2,1)\n",
        "    df3[col].hist(bins=10, grid=False)\n",
        "    plt.ylabel('count')\n",
        "    plt.subplot(1,2,2)\n",
        "    sns.boxplot(x=df3[col])\n",
        "    plt.show()"
      ],
      "metadata": {
        "id": "EZdrk8mZR_1p",
        "outputId": "f0510106-9442-4932-f4fd-0c858f426b60",
        "colab": {
          "base_uri": "https://localhost:8080/",
          "height": 1000
        }
      },
      "execution_count": null,
      "outputs": [
        {
          "output_type": "stream",
          "name": "stdout",
          "text": [
            "X12\n",
            "Skew : 2.66\n"
          ]
        },
        {
          "output_type": "display_data",
          "data": {
            "text/plain": [
              "<Figure size 1080x288 with 2 Axes>"
            ],
            "image/png": "[encoded data removed]"
          },
          "metadata": {}
        },
        {
          "output_type": "stream",
          "name": "stdout",
          "text": [
            "X13\n",
            "Skew : 2.71\n"
          ]
        },
        {
          "output_type": "display_data",
          "data": {
            "text/plain": [
              "<Figure size 1080x288 with 2 Axes>"
            ],
            "image/png": "[encoded data removed]"
          },
          "metadata": {}
        },
        {
          "output_type": "stream",
          "name": "stdout",
          "text": [
            "X14\n",
            "Skew : 3.09\n"
          ]
        },
        {
          "output_type": "display_data",
          "data": {
            "text/plain": [
              "<Figure size 1080x288 with 2 Axes>"
            ],
            "image/png": "[encoded data removed]"
          },
          "metadata": {}
        },
        {
          "output_type": "stream",
          "name": "stdout",
          "text": [
            "X15\n",
            "Skew : 2.82\n"
          ]
        },
        {
          "output_type": "display_data",
          "data": {
            "text/plain": [
              "<Figure size 1080x288 with 2 Axes>"
            ],
            "image/png": "[encoded data removed]"
          },
          "metadata": {}
        },
        {
          "output_type": "stream",
          "name": "stdout",
          "text": [
            "X16\n",
            "Skew : 2.88\n"
          ]
        },
        {
          "output_type": "display_data",
          "data": {
            "text/plain": [
              "<Figure size 1080x288 with 2 Axes>"
            ],
            "image/png": "[encoded data removed]"
          },
          "metadata": {}
        },
        {
          "output_type": "stream",
          "name": "stdout",
          "text": [
            "X17\n",
            "Skew : 2.85\n"
          ]
        },
        {
          "output_type": "display_data",
          "data": {
            "text/plain": [
              "<Figure size 1080x288 with 2 Axes>"
            ],
            "image/png": "[encoded data removed]"
          },
          "metadata": {}
        },
        {
          "output_type": "stream",
          "name": "stdout",
          "text": [
            "X18\n",
            "Skew : 14.67\n"
          ]
        },
        {
          "output_type": "display_data",
          "data": {
            "text/plain": [
              "<Figure size 1080x288 with 2 Axes>"
            ],
            "image/png": "[encoded data removed]"
          },
          "metadata": {}
        },
        {
          "output_type": "stream",
          "name": "stdout",
          "text": [
            "X19\n",
            "Skew : 30.45\n"
          ]
        },
        {
          "output_type": "display_data",
          "data": {
            "text/plain": [
              "<Figure size 1080x288 with 2 Axes>"
            ],
            "image/png": "[encoded data removed]"
          },
          "metadata": {}
        },
        {
          "output_type": "stream",
          "name": "stdout",
          "text": [
            "X20\n",
            "Skew : 17.22\n"
          ]
        },
        {
          "output_type": "display_data",
          "data": {
            "text/plain": [
              "<Figure size 1080x288 with 2 Axes>"
            ],
            "image/png": "[encoded data removed]"
          },
          "metadata": {}
        },
        {
          "output_type": "stream",
          "name": "stdout",
          "text": [
            "X21\n",
            "Skew : 12.91\n"
          ]
        },
        {
          "output_type": "display_data",
          "data": {
            "text/plain": [
              "<Figure size 1080x288 with 2 Axes>"
            ],
            "image/png": "[encoded data removed]"
          },
          "metadata": {}
        },
        {
          "output_type": "stream",
          "name": "stdout",
          "text": [
            "X22\n",
            "Skew : 11.13\n"
          ]
        },
        {
          "output_type": "display_data",
          "data": {
            "text/plain": [
              "<Figure size 1080x288 with 2 Axes>"
            ],
            "image/png": "[encoded data removed]"
          },
          "metadata": {}
        }
      ]
    },
    {
      "cell_type": "markdown",
      "source": [
        "**También, en la siguiente tabla, se revisará la importancia de cada uno de las variables originales dentro de cada uno de los PCA definidos, dependiendo del PCA que se observe la importancia de las variables cambia, sin embargo, generalmente las mas importantes se concentran en x18-x22 o en x14-x16**"
      ],
      "metadata": {
        "id": "RRC50v82TPlv"
      }
    },
    {
      "cell_type": "code",
      "source": [
        "pc_comps = ['PC1','PC2','PC3','PC4','PC5','PC6']\n",
        "data_pca = pd.DataFrame(np.round(pca.components_[:6,:],2),index=pc_comps,columns=scaled_df.columns)\n",
        "data_pca.T"
      ],
      "metadata": {
        "id": "hkREKYc3Td9-",
        "outputId": "8c1f36d1-8eef-4e92-bbd9-119c705fe81c",
        "colab": {
          "base_uri": "https://localhost:8080/",
          "height": 394
        }
      },
      "execution_count": null,
      "outputs": [
        {
          "output_type": "execute_result",
          "data": {
            "text/plain": [
              "      PC1   PC2   PC3   PC4   PC5   PC6\n",
              "X12  0.38 -0.19 -0.03 -0.01  0.00 -0.01\n",
              "X13  0.39 -0.16  0.05  0.02 -0.04 -0.15\n",
              "X14  0.40 -0.10  0.08  0.14 -0.12  0.10\n",
              "X15  0.40 -0.09  0.08  0.03  0.13  0.04\n",
              "X16  0.40 -0.07  0.02 -0.14  0.00  0.06\n",
              "X17  0.39 -0.05 -0.15 -0.03  0.03  0.02\n",
              "X18  0.13  0.45  0.38  0.16 -0.24 -0.73\n",
              "X19  0.11  0.49  0.26  0.42 -0.25  0.63\n",
              "X20  0.12  0.46  0.15 -0.23  0.81  0.05\n",
              "X21  0.11  0.40 -0.23 -0.74 -0.43  0.10\n",
              "X22  0.11  0.33 -0.82  0.39  0.07 -0.16"
            ],
            "text/html": [
              "\n",
              "  <div id=\"df-cc7f305d-de4f-4466-8a46-8ee6f96586ab\">\n",
              "    <div class=\"colab-df-container\">\n",
              "      <div>\n",
              "<style scoped>\n",
              "    .dataframe tbody tr th:only-of-type {\n",
              "        vertical-align: middle;\n",
              "    }\n",
              "\n",
              "    .dataframe tbody tr th {\n",
              "        vertical-align: top;\n",
              "    }\n",
              "\n",
              "    .dataframe thead th {\n",
              "        text-align: right;\n",
              "    }\n",
              "</style>\n",
              "<table border=\"1\" class=\"dataframe\">\n",
              "  <thead>\n",
              "    <tr style=\"text-align: right;\">\n",
              "      <th></th>\n",
              "      <th>PC1</th>\n",
              "      <th>PC2</th>\n",
              "      <th>PC3</th>\n",
              "      <th>PC4</th>\n",
              "      <th>PC5</th>\n",
              "      <th>PC6</th>\n",
              "    </tr>\n",
              "  </thead>\n",
              "  <tbody>\n",
              "    <tr>\n",
              "      <th>X12</th>\n",
              "      <td>0.38</td>\n",
              "      <td>-0.19</td>\n",
              "      <td>-0.03</td>\n",
              "      <td>-0.01</td>\n",
              "      <td>0.00</td>\n",
              "      <td>-0.01</td>\n",
              "    </tr>\n",
              "    <tr>\n",
              "      <th>X13</th>\n",
              "      <td>0.39</td>\n",
              "      <td>-0.16</td>\n",
              "      <td>0.05</td>\n",
              "      <td>0.02</td>\n",
              "      <td>-0.04</td>\n",
              "      <td>-0.15</td>\n",
              "    </tr>\n",
              "    <tr>\n",
              "      <th>X14</th>\n",
              "      <td>0.40</td>\n",
              "      <td>-0.10</td>\n",
              "      <td>0.08</td>\n",
              "      <td>0.14</td>\n",
              "      <td>-0.12</td>\n",
              "      <td>0.10</td>\n",
              "    </tr>\n",
              "    <tr>\n",
              "      <th>X15</th>\n",
              "      <td>0.40</td>\n",
              "      <td>-0.09</td>\n",
              "      <td>0.08</td>\n",
              "      <td>0.03</td>\n",
              "      <td>0.13</td>\n",
              "      <td>0.04</td>\n",
              "    </tr>\n",
              "    <tr>\n",
              "      <th>X16</th>\n",
              "      <td>0.40</td>\n",
              "      <td>-0.07</td>\n",
              "      <td>0.02</td>\n",
              "      <td>-0.14</td>\n",
              "      <td>0.00</td>\n",
              "      <td>0.06</td>\n",
              "    </tr>\n",
              "    <tr>\n",
              "      <th>X17</th>\n",
              "      <td>0.39</td>\n",
              "      <td>-0.05</td>\n",
              "      <td>-0.15</td>\n",
              "      <td>-0.03</td>\n",
              "      <td>0.03</td>\n",
              "      <td>0.02</td>\n",
              "    </tr>\n",
              "    <tr>\n",
              "      <th>X18</th>\n",
              "      <td>0.13</td>\n",
              "      <td>0.45</td>\n",
              "      <td>0.38</td>\n",
              "      <td>0.16</td>\n",
              "      <td>-0.24</td>\n",
              "      <td>-0.73</td>\n",
              "    </tr>\n",
              "    <tr>\n",
              "      <th>X19</th>\n",
              "      <td>0.11</td>\n",
              "      <td>0.49</td>\n",
              "      <td>0.26</td>\n",
              "      <td>0.42</td>\n",
              "      <td>-0.25</td>\n",
              "      <td>0.63</td>\n",
              "    </tr>\n",
              "    <tr>\n",
              "      <th>X20</th>\n",
              "      <td>0.12</td>\n",
              "      <td>0.46</td>\n",
              "      <td>0.15</td>\n",
              "      <td>-0.23</td>\n",
              "      <td>0.81</td>\n",
              "      <td>0.05</td>\n",
              "    </tr>\n",
              "    <tr>\n",
              "      <th>X21</th>\n",
              "      <td>0.11</td>\n",
              "      <td>0.40</td>\n",
              "      <td>-0.23</td>\n",
              "      <td>-0.74</td>\n",
              "      <td>-0.43</td>\n",
              "      <td>0.10</td>\n",
              "    </tr>\n",
              "    <tr>\n",
              "      <th>X22</th>\n",
              "      <td>0.11</td>\n",
              "      <td>0.33</td>\n",
              "      <td>-0.82</td>\n",
              "      <td>0.39</td>\n",
              "      <td>0.07</td>\n",
              "      <td>-0.16</td>\n",
              "    </tr>\n",
              "  </tbody>\n",
              "</table>\n",
              "</div>\n",
              "      <button class=\"colab-df-convert\" onclick=\"convertToInteractive('df-cc7f305d-de4f-4466-8a46-8ee6f96586ab')\"\n",
              "              title=\"Convert this dataframe to an interactive table.\"\n",
              "              style=\"display:none;\">\n",
              "        \n",
              "  <svg xmlns=\"http://www.w3.org/2000/svg\" height=\"24px\"viewBox=\"0 0 24 24\"\n",
              "       width=\"24px\">\n",
              "    <path d=\"M0 0h24v24H0V0z\" fill=\"none\"/>\n",
              "    <path d=\"M18.56 5.44l.94 2.06.94-2.06 2.06-.94-2.06-.94-.94-2.06-.94 2.06-2.06.94zm-11 1L8.5 8.5l.94-2.06 2.06-.94-2.06-.94L8.5 2.5l-.94 2.06-2.06.94zm10 10l.94 2.06.94-2.06 2.06-.94-2.06-.94-.94-2.06-.94 2.06-2.06.94z\"/><path d=\"M17.41 7.96l-1.37-1.37c-.4-.4-.92-.59-1.43-.59-.52 0-1.04.2-1.43.59L10.3 9.45l-7.72 7.72c-.78.78-.78 2.05 0 2.83L4 21.41c.39.39.9.59 1.41.59.51 0 1.02-.2 1.41-.59l7.78-7.78 2.81-2.81c.8-.78.8-2.07 0-2.86zM5.41 20L4 18.59l7.72-7.72 1.47 1.35L5.41 20z\"/>\n",
              "  </svg>\n",
              "      </button>\n",
              "      \n",
              "  <style>\n",
              "    .colab-df-container {\n",
              "      display:flex;\n",
              "      flex-wrap:wrap;\n",
              "      gap: 12px;\n",
              "    }\n",
              "\n",
              "    .colab-df-convert {\n",
              "      background-color: #E8F0FE;\n",
              "      border: none;\n",
              "      border-radius: 50%;\n",
              "      cursor: pointer;\n",
              "      display: none;\n",
              "      fill: #1967D2;\n",
              "      height: 32px;\n",
              "      padding: 0 0 0 0;\n",
              "      width: 32px;\n",
              "    }\n",
              "\n",
              "    .colab-df-convert:hover {\n",
              "      background-color: #E2EBFA;\n",
              "      box-shadow: 0px 1px 2px rgba(60, 64, 67, 0.3), 0px 1px 3px 1px rgba(60, 64, 67, 0.15);\n",
              "      fill: #174EA6;\n",
              "    }\n",
              "\n",
              "    [theme=dark] .colab-df-convert {\n",
              "      background-color: #3B4455;\n",
              "      fill: #D2E3FC;\n",
              "    }\n",
              "\n",
              "    [theme=dark] .colab-df-convert:hover {\n",
              "      background-color: #434B5C;\n",
              "      box-shadow: 0px 1px 3px 1px rgba(0, 0, 0, 0.15);\n",
              "      filter: drop-shadow(0px 1px 2px rgba(0, 0, 0, 0.3));\n",
              "      fill: #FFFFFF;\n",
              "    }\n",
              "  </style>\n",
              "\n",
              "      <script>\n",
              "        const buttonEl =\n",
              "          document.querySelector('#df-cc7f305d-de4f-4466-8a46-8ee6f96586ab button.colab-df-convert');\n",
              "        buttonEl.style.display =\n",
              "          google.colab.kernel.accessAllowed ? 'block' : 'none';\n",
              "\n",
              "        async function convertToInteractive(key) {\n",
              "          const element = document.querySelector('#df-cc7f305d-de4f-4466-8a46-8ee6f96586ab');\n",
              "          const dataTable =\n",
              "            await google.colab.kernel.invokeFunction('convertToInteractive',\n",
              "                                                     [key], {});\n",
              "          if (!dataTable) return;\n",
              "\n",
              "          const docLinkHtml = 'Like what you see? Visit the ' +\n",
              "            '<a target=\"_blank\" href=https://colab.research.google.com/notebooks/data_table.ipynb>data table notebook</a>'\n",
              "            + ' to learn more about interactive tables.';\n",
              "          element.innerHTML = '';\n",
              "          dataTable['output_type'] = 'display_data';\n",
              "          await google.colab.output.renderOutput(dataTable, element);\n",
              "          const docLink = document.createElement('div');\n",
              "          docLink.innerHTML = docLinkHtml;\n",
              "          element.appendChild(docLink);\n",
              "        }\n",
              "      </script>\n",
              "    </div>\n",
              "  </div>\n",
              "  "
            ]
          },
          "metadata": {},
          "execution_count": 31
        }
      ]
    },
    {
      "cell_type": "code",
      "source": [
        "def color_high(val):\n",
        "    if val <= -0.40: # definición del 40%\n",
        "        return 'background: pink'\n",
        "    elif val >= 0.40:\n",
        "        return 'background: skyblue'   \n",
        "    \n",
        "data_pca.T.style.applymap(color_high)"
      ],
      "metadata": {
        "id": "tS-rPyRdTkNv",
        "outputId": "d3b5895c-c5ba-467e-e796-e7b766cd1d72",
        "colab": {
          "base_uri": "https://localhost:8080/",
          "height": 394
        }
      },
      "execution_count": null,
      "outputs": [
        {
          "output_type": "execute_result",
          "data": {
            "text/plain": [
              "<pandas.io.formats.style.Styler at 0x7f1712366410>"
            ],
            "text/html": [
              "<style type=\"text/css\">\n",
              "#T_9932c_row2_col0, #T_9932c_row3_col0, #T_9932c_row4_col0, #T_9932c_row6_col1, #T_9932c_row7_col1, #T_9932c_row7_col3, #T_9932c_row7_col5, #T_9932c_row8_col1, #T_9932c_row8_col4, #T_9932c_row9_col1 {\n",
              "  background: skyblue;\n",
              "}\n",
              "#T_9932c_row6_col5, #T_9932c_row9_col3, #T_9932c_row9_col4, #T_9932c_row10_col2 {\n",
              "  background: pink;\n",
              "}\n",
              "</style>\n",
              "<table id=\"T_9932c_\" class=\"dataframe\">\n",
              "  <thead>\n",
              "    <tr>\n",
              "      <th class=\"blank level0\" >&nbsp;</th>\n",
              "      <th class=\"col_heading level0 col0\" >PC1</th>\n",
              "      <th class=\"col_heading level0 col1\" >PC2</th>\n",
              "      <th class=\"col_heading level0 col2\" >PC3</th>\n",
              "      <th class=\"col_heading level0 col3\" >PC4</th>\n",
              "      <th class=\"col_heading level0 col4\" >PC5</th>\n",
              "      <th class=\"col_heading level0 col5\" >PC6</th>\n",
              "    </tr>\n",
              "  </thead>\n",
              "  <tbody>\n",
              "    <tr>\n",
              "      <th id=\"T_9932c_level0_row0\" class=\"row_heading level0 row0\" >X12</th>\n",
              "      <td id=\"T_9932c_row0_col0\" class=\"data row0 col0\" >0.380000</td>\n",
              "      <td id=\"T_9932c_row0_col1\" class=\"data row0 col1\" >-0.190000</td>\n",
              "      <td id=\"T_9932c_row0_col2\" class=\"data row0 col2\" >-0.030000</td>\n",
              "      <td id=\"T_9932c_row0_col3\" class=\"data row0 col3\" >-0.010000</td>\n",
              "      <td id=\"T_9932c_row0_col4\" class=\"data row0 col4\" >0.000000</td>\n",
              "      <td id=\"T_9932c_row0_col5\" class=\"data row0 col5\" >-0.010000</td>\n",
              "    </tr>\n",
              "    <tr>\n",
              "      <th id=\"T_9932c_level0_row1\" class=\"row_heading level0 row1\" >X13</th>\n",
              "      <td id=\"T_9932c_row1_col0\" class=\"data row1 col0\" >0.390000</td>\n",
              "      <td id=\"T_9932c_row1_col1\" class=\"data row1 col1\" >-0.160000</td>\n",
              "      <td id=\"T_9932c_row1_col2\" class=\"data row1 col2\" >0.050000</td>\n",
              "      <td id=\"T_9932c_row1_col3\" class=\"data row1 col3\" >0.020000</td>\n",
              "      <td id=\"T_9932c_row1_col4\" class=\"data row1 col4\" >-0.040000</td>\n",
              "      <td id=\"T_9932c_row1_col5\" class=\"data row1 col5\" >-0.150000</td>\n",
              "    </tr>\n",
              "    <tr>\n",
              "      <th id=\"T_9932c_level0_row2\" class=\"row_heading level0 row2\" >X14</th>\n",
              "      <td id=\"T_9932c_row2_col0\" class=\"data row2 col0\" >0.400000</td>\n",
              "      <td id=\"T_9932c_row2_col1\" class=\"data row2 col1\" >-0.100000</td>\n",
              "      <td id=\"T_9932c_row2_col2\" class=\"data row2 col2\" >0.080000</td>\n",
              "      <td id=\"T_9932c_row2_col3\" class=\"data row2 col3\" >0.140000</td>\n",
              "      <td id=\"T_9932c_row2_col4\" class=\"data row2 col4\" >-0.120000</td>\n",
              "      <td id=\"T_9932c_row2_col5\" class=\"data row2 col5\" >0.100000</td>\n",
              "    </tr>\n",
              "    <tr>\n",
              "      <th id=\"T_9932c_level0_row3\" class=\"row_heading level0 row3\" >X15</th>\n",
              "      <td id=\"T_9932c_row3_col0\" class=\"data row3 col0\" >0.400000</td>\n",
              "      <td id=\"T_9932c_row3_col1\" class=\"data row3 col1\" >-0.090000</td>\n",
              "      <td id=\"T_9932c_row3_col2\" class=\"data row3 col2\" >0.080000</td>\n",
              "      <td id=\"T_9932c_row3_col3\" class=\"data row3 col3\" >0.030000</td>\n",
              "      <td id=\"T_9932c_row3_col4\" class=\"data row3 col4\" >0.130000</td>\n",
              "      <td id=\"T_9932c_row3_col5\" class=\"data row3 col5\" >0.040000</td>\n",
              "    </tr>\n",
              "    <tr>\n",
              "      <th id=\"T_9932c_level0_row4\" class=\"row_heading level0 row4\" >X16</th>\n",
              "      <td id=\"T_9932c_row4_col0\" class=\"data row4 col0\" >0.400000</td>\n",
              "      <td id=\"T_9932c_row4_col1\" class=\"data row4 col1\" >-0.070000</td>\n",
              "      <td id=\"T_9932c_row4_col2\" class=\"data row4 col2\" >0.020000</td>\n",
              "      <td id=\"T_9932c_row4_col3\" class=\"data row4 col3\" >-0.140000</td>\n",
              "      <td id=\"T_9932c_row4_col4\" class=\"data row4 col4\" >0.000000</td>\n",
              "      <td id=\"T_9932c_row4_col5\" class=\"data row4 col5\" >0.060000</td>\n",
              "    </tr>\n",
              "    <tr>\n",
              "      <th id=\"T_9932c_level0_row5\" class=\"row_heading level0 row5\" >X17</th>\n",
              "      <td id=\"T_9932c_row5_col0\" class=\"data row5 col0\" >0.390000</td>\n",
              "      <td id=\"T_9932c_row5_col1\" class=\"data row5 col1\" >-0.050000</td>\n",
              "      <td id=\"T_9932c_row5_col2\" class=\"data row5 col2\" >-0.150000</td>\n",
              "      <td id=\"T_9932c_row5_col3\" class=\"data row5 col3\" >-0.030000</td>\n",
              "      <td id=\"T_9932c_row5_col4\" class=\"data row5 col4\" >0.030000</td>\n",
              "      <td id=\"T_9932c_row5_col5\" class=\"data row5 col5\" >0.020000</td>\n",
              "    </tr>\n",
              "    <tr>\n",
              "      <th id=\"T_9932c_level0_row6\" class=\"row_heading level0 row6\" >X18</th>\n",
              "      <td id=\"T_9932c_row6_col0\" class=\"data row6 col0\" >0.130000</td>\n",
              "      <td id=\"T_9932c_row6_col1\" class=\"data row6 col1\" >0.450000</td>\n",
              "      <td id=\"T_9932c_row6_col2\" class=\"data row6 col2\" >0.380000</td>\n",
              "      <td id=\"T_9932c_row6_col3\" class=\"data row6 col3\" >0.160000</td>\n",
              "      <td id=\"T_9932c_row6_col4\" class=\"data row6 col4\" >-0.240000</td>\n",
              "      <td id=\"T_9932c_row6_col5\" class=\"data row6 col5\" >-0.730000</td>\n",
              "    </tr>\n",
              "    <tr>\n",
              "      <th id=\"T_9932c_level0_row7\" class=\"row_heading level0 row7\" >X19</th>\n",
              "      <td id=\"T_9932c_row7_col0\" class=\"data row7 col0\" >0.110000</td>\n",
              "      <td id=\"T_9932c_row7_col1\" class=\"data row7 col1\" >0.490000</td>\n",
              "      <td id=\"T_9932c_row7_col2\" class=\"data row7 col2\" >0.260000</td>\n",
              "      <td id=\"T_9932c_row7_col3\" class=\"data row7 col3\" >0.420000</td>\n",
              "      <td id=\"T_9932c_row7_col4\" class=\"data row7 col4\" >-0.250000</td>\n",
              "      <td id=\"T_9932c_row7_col5\" class=\"data row7 col5\" >0.630000</td>\n",
              "    </tr>\n",
              "    <tr>\n",
              "      <th id=\"T_9932c_level0_row8\" class=\"row_heading level0 row8\" >X20</th>\n",
              "      <td id=\"T_9932c_row8_col0\" class=\"data row8 col0\" >0.120000</td>\n",
              "      <td id=\"T_9932c_row8_col1\" class=\"data row8 col1\" >0.460000</td>\n",
              "      <td id=\"T_9932c_row8_col2\" class=\"data row8 col2\" >0.150000</td>\n",
              "      <td id=\"T_9932c_row8_col3\" class=\"data row8 col3\" >-0.230000</td>\n",
              "      <td id=\"T_9932c_row8_col4\" class=\"data row8 col4\" >0.810000</td>\n",
              "      <td id=\"T_9932c_row8_col5\" class=\"data row8 col5\" >0.050000</td>\n",
              "    </tr>\n",
              "    <tr>\n",
              "      <th id=\"T_9932c_level0_row9\" class=\"row_heading level0 row9\" >X21</th>\n",
              "      <td id=\"T_9932c_row9_col0\" class=\"data row9 col0\" >0.110000</td>\n",
              "      <td id=\"T_9932c_row9_col1\" class=\"data row9 col1\" >0.400000</td>\n",
              "      <td id=\"T_9932c_row9_col2\" class=\"data row9 col2\" >-0.230000</td>\n",
              "      <td id=\"T_9932c_row9_col3\" class=\"data row9 col3\" >-0.740000</td>\n",
              "      <td id=\"T_9932c_row9_col4\" class=\"data row9 col4\" >-0.430000</td>\n",
              "      <td id=\"T_9932c_row9_col5\" class=\"data row9 col5\" >0.100000</td>\n",
              "    </tr>\n",
              "    <tr>\n",
              "      <th id=\"T_9932c_level0_row10\" class=\"row_heading level0 row10\" >X22</th>\n",
              "      <td id=\"T_9932c_row10_col0\" class=\"data row10 col0\" >0.110000</td>\n",
              "      <td id=\"T_9932c_row10_col1\" class=\"data row10 col1\" >0.330000</td>\n",
              "      <td id=\"T_9932c_row10_col2\" class=\"data row10 col2\" >-0.820000</td>\n",
              "      <td id=\"T_9932c_row10_col3\" class=\"data row10 col3\" >0.390000</td>\n",
              "      <td id=\"T_9932c_row10_col4\" class=\"data row10 col4\" >0.070000</td>\n",
              "      <td id=\"T_9932c_row10_col5\" class=\"data row10 col5\" >-0.160000</td>\n",
              "    </tr>\n",
              "  </tbody>\n",
              "</table>\n"
            ]
          },
          "metadata": {},
          "execution_count": 32
        }
      ]
    },
    {
      "cell_type": "markdown",
      "source": [
        "##**PARTE 3**\n",
        "\n",
        "***1\t¿Cuál es el número de componentes mínimo y por qué?***\n",
        "\n",
        "Tomando como referencia todo el análisis realizado en el notebook, se puede determinar, gracias a la gráfica y al resumen realizado, qué el número óptimo de componentes mínimo es de 6, ya que este número reduce de 11 features a 6, es decir, reduce las dimensiones en 45.5%& y únicamente se pierde el 10% de la variación explicada. Entonces, estos 6 principales componentes retienen el 90.0% de la variación total y después de realizar una normalización de datos utilizando las escalas para reducir las diferencias, las primeras 6 variables alcanzaron hasta un 98% de la representación en las variables, por lo que se puede decir que esta es la cantidad ideal para retener una cantidad considerable.\n",
        "\n",
        "\n",
        "***2\t¿Cuál es la variación de los datos que representan esos componentes?***\n",
        "\n",
        "Estos 6 componentes explican el 90.0% de la variación total explicada, es decir, únicamente se pierde el 10% de la variación total y se reduce de manera importante la cantidad de features.\n",
        "\n",
        "***3\t¿Cuál es la pérdida de información después de realizar PCA?***\n",
        "Con base en la respuesta anterior se puede decir que se pierden 5 dimensiones y solamente el 10.0% de la variación total explicada parece ser un intercambio razonable, considerando que se puede reducir en casi la mitad el número de las dimensiones por un 10% de la variación total explicada. Creemos que si se hace una comparación de desventajas-ventajas sobre reducir esta cantidad de dimensiones, por la cantidad de información que se \"pierde\", la aplicación de PCA es bastante viable, considerando que entre más dimensiones se tenga el tiempo y dificultad para el análisis de se incrementa considerablemente.\n",
        "\n",
        "\n",
        "***4\tDe las variables originales, ¿Cuál tiene mayor y cuál tiene menor importancia en los componentes principales?***\n",
        "\n",
        "Haciendo uso de las tablas obtenidas anteriormente, dependiendo del PCA que se observe, las variables más relevantes que se pueden observar son las que van de x12 a x-16 y las que van de x18 a x21, ya que son las que tienen valores más altos del 40%+-\n",
        "\n",
        "\n",
        "***5\t¿Cuándo se recomienda realizar un PCA y qué beneficios ofrece para Machine Learning?***\n",
        "\n",
        "Se recomienda emplear técnicas de reducción de información cuando se tiene mucha información y es necesario reducir el número de variables a considerar, ya que es común que se tengan muchas de relleno o que no expliquen de manera correcta las variaciones, esto implica que los modelos se pueden distorcionar y también es importante recordar que los recursos computacionales son límitados y se deben óptimizar en todo momento.\n",
        "\n",
        "Para ML, la reducción de dimensiones permite modelar de manera más rápida y con información más certera para realizar análisis más robustos o predicciones con menores errores."
      ],
      "metadata": {
        "id": "Ms1YNbr6EEmU"
      }
    }
  ]
}